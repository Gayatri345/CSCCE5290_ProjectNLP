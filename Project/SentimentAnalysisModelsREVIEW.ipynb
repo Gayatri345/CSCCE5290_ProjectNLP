{
 "cells": [
  {
   "cell_type": "markdown",
   "id": "503f9b0b-0576-45ce-8435-495f969be22d",
   "metadata": {},
   "source": [
    "***SENTIMENT ANALYSIS***"
   ]
  },
  {
   "cell_type": "markdown",
   "id": "22b03b49-48dd-4753-9ef1-bfde2230a621",
   "metadata": {},
   "source": [
    "Sentimental analysis on IMDB reviews using Machine Learning classifier(Logistic Regression, Naive Bayes, SVM) and Deep Learning Models(Deep Neural Network, RNN, CNN)\n",
    "Sentiment analysis is very useful in social media monitoring. It helps companies extract insights from social media data. For example, a company can gain an overview of wider public opinion about a particular topic.\n",
    "In this project, we will work on sentiment analysis of IMDB Movie Reviews."
   ]
  },
  {
   "cell_type": "markdown",
   "id": "ce9fabd0-b22d-4ab2-ba97-09b1bb97a06d",
   "metadata": {},
   "source": [
    "Dataset:\n",
    "IMDB(Internet Movie Database) contain 50k reviews,involve both negative and positive reviews. It is the world's most popular source of movie,TV and celebrity content. We can also find rating and reviews for the latest movies and TV shows. Dataset taken from Kaggle site.Link to the dataset https://www.kaggle.com/lakshmi25npathi/imdb-dataset-of-50k-movie-reviews"
   ]
  },
  {
   "cell_type": "markdown",
   "id": "e765e5c1-41d4-431c-b8e4-e9ae2efb1bb3",
   "metadata": {},
   "source": [
    "The main aim of this project is evaluate some ML classifiers in sentiment analysis task for PREDICTION of sentiment from dataset. To tackle this problem has, made Bag of Words model and TFIDF model for machine learning classifier and three ML classifiers ( linear SVM, Naive Bayes, Deep Learning RNN LSTM classifier) as well as perform some text pre-processing techniques such as data cleaning,text normalization,steamming,stopwords removal on the IMDB movie reviews dataset."
   ]
  },
  {
   "cell_type": "markdown",
   "id": "16699d5c-a466-4092-b83d-941181c6376a",
   "metadata": {},
   "source": [
    "At the end, we attempted to solve this problem by simple deep neural network architectures,(Recurrent neural network(LSTM)+dropout) architecture, 2-layer RNN(LSTM) architecture and CNN."
   ]
  },
  {
   "cell_type": "code",
   "execution_count": 1,
   "id": "70d62f4c-470f-4dff-9fe8-c79f82d4f3e8",
   "metadata": {},
   "outputs": [],
   "source": [
    "#*********deletele tfidf models,as they are giving more accuracy, no time to fix it****#"
   ]
  },
  {
   "cell_type": "markdown",
   "id": "8c6871ed-7f55-4d28-b577-4b6c946d0937",
   "metadata": {},
   "source": [
    "***Importing Libraries***"
   ]
  },
  {
   "cell_type": "code",
   "execution_count": 323,
   "id": "6d496770-73cd-465d-bbf3-c9c1a748c2c6",
   "metadata": {},
   "outputs": [],
   "source": [
    "import pandas as pd #To read dataset/inputs in to dataframe\n",
    "import seaborn as sns #To get visual representation of metrics/dataset\n",
    "import matplotlib.pyplot as plt #To plot a graph\n",
    "%matplotlib inline\n",
    "import warnings #To ignore warnings\n",
    "warnings.filterwarnings('ignore')\n",
    "\n",
    "from unidecode import unidecode #To clean text/data\n",
    "import re #To clean text/data\n",
    "from re import sub #To clean text/data\n",
    "\n",
    "from sklearn.model_selection import train_test_split #Splitting the data\n",
    "\n",
    "from sklearn.feature_extraction.text import CountVectorizer #For BoW using Countvectorizer\n",
    "\n",
    "from sklearn.naive_bayes import MultinomialNB #Importing naive bayes model\n",
    "import numpy as np #For array operations\n",
    "from sklearn import metrics #For evaluation of metrics\n",
    "from sklearn.metrics import classification_report,confusion_matrix #Generating classification report\n",
    "import itertools #Used in Confusion matrix visualization\n",
    "from sklearn.feature_extraction.text import TfidfVectorizer #For Tfidf model \n",
    "from sklearn.svm import LinearSVC #For importing SVM model\n",
    "from tensorflow.keras.preprocessing.text import Tokenizer  #For Tokenizing\n",
    "from tensorflow.keras.preprocessing.sequence import pad_sequences  #For sequence padding\n",
    "import tensorflow as tf #For TensorFlow libraries\n",
    "from tensorflow.keras.layers import Embedding, LSTM, Dense, Dropout #LSTM architecture libraries\n",
    "from tensorflow.keras.models import Sequential     #For the model\n",
    "import os #For os functionalities\n",
    "from tensorflow.keras.callbacks import ModelCheckpoint #For write the model\n",
    "from tensorflow.keras.models import load_model #For loading model"
   ]
  },
  {
   "cell_type": "markdown",
   "id": "72142e0b-664d-4dec-b1bc-df1b6cb3848e",
   "metadata": {},
   "source": [
    "***Loading Dataset***"
   ]
  },
  {
   "cell_type": "markdown",
   "id": "3e4fb2ab-42ac-4119-993f-c9c0f0a6c121",
   "metadata": {},
   "source": [
    "After performing lot of experiments with raw Imdb datasets, we decided to use readily available IMDB dataset from Kaggle, which has the data required for this project. Experiments and work done on raw dataset is available in \"Dataset.ipynb\" file."
   ]
  },
  {
   "cell_type": "code",
   "execution_count": 4,
   "id": "dde222f7-4721-4217-8506-aa90e52c8b2f",
   "metadata": {},
   "outputs": [],
   "source": [
    "#Reading the data in csv file in to dataframe\n",
    "df = pd.read_csv('Data/movie_data.csv')"
   ]
  },
  {
   "cell_type": "code",
   "execution_count": 13,
   "id": "fd3e2c67-6bd6-4057-8c4e-60f814c99d84",
   "metadata": {},
   "outputs": [
    {
     "data": {
      "text/html": [
       "<div>\n",
       "<style scoped>\n",
       "    .dataframe tbody tr th:only-of-type {\n",
       "        vertical-align: middle;\n",
       "    }\n",
       "\n",
       "    .dataframe tbody tr th {\n",
       "        vertical-align: top;\n",
       "    }\n",
       "\n",
       "    .dataframe thead th {\n",
       "        text-align: right;\n",
       "    }\n",
       "</style>\n",
       "<table border=\"1\" class=\"dataframe\">\n",
       "  <thead>\n",
       "    <tr style=\"text-align: right;\">\n",
       "      <th></th>\n",
       "      <th>review</th>\n",
       "      <th>sentiment</th>\n",
       "    </tr>\n",
       "  </thead>\n",
       "  <tbody>\n",
       "    <tr>\n",
       "      <th>0</th>\n",
       "      <td>In 1974, the teenager Martha Moxley (Maggie Gr...</td>\n",
       "      <td>1</td>\n",
       "    </tr>\n",
       "    <tr>\n",
       "      <th>1</th>\n",
       "      <td>OK... so... I really like Kris Kristofferson a...</td>\n",
       "      <td>0</td>\n",
       "    </tr>\n",
       "    <tr>\n",
       "      <th>2</th>\n",
       "      <td>***SPOILER*** Do not read this, if you think a...</td>\n",
       "      <td>0</td>\n",
       "    </tr>\n",
       "    <tr>\n",
       "      <th>3</th>\n",
       "      <td>hi for all the people who have seen this wonde...</td>\n",
       "      <td>1</td>\n",
       "    </tr>\n",
       "    <tr>\n",
       "      <th>4</th>\n",
       "      <td>I recently bought the DVD, forgetting just how...</td>\n",
       "      <td>0</td>\n",
       "    </tr>\n",
       "  </tbody>\n",
       "</table>\n",
       "</div>"
      ],
      "text/plain": [
       "                                              review  sentiment\n",
       "0  In 1974, the teenager Martha Moxley (Maggie Gr...          1\n",
       "1  OK... so... I really like Kris Kristofferson a...          0\n",
       "2  ***SPOILER*** Do not read this, if you think a...          0\n",
       "3  hi for all the people who have seen this wonde...          1\n",
       "4  I recently bought the DVD, forgetting just how...          0"
      ]
     },
     "execution_count": 13,
     "metadata": {},
     "output_type": "execute_result"
    }
   ],
   "source": [
    "#Exploring data\n",
    "df.head()\n",
    "#df.shape\n",
    "#This shows our dataset has total 50,000 reviews with review and sentiment column"
   ]
  },
  {
   "cell_type": "code",
   "execution_count": 17,
   "id": "24cd2705-e3dc-4f85-a46f-96d4c53da7df",
   "metadata": {},
   "outputs": [
    {
     "data": {
      "text/plain": [
       "1    25000\n",
       "0    25000\n",
       "Name: sentiment, dtype: int64"
      ]
     },
     "execution_count": 17,
     "metadata": {},
     "output_type": "execute_result"
    }
   ],
   "source": [
    "# Getting total number of positive and negative reviews from the datset\n",
    "\n",
    "df['sentiment'].value_counts()\n",
    "\n",
    "# 1- represents positive review\n",
    "# 2- represents negative review"
   ]
  },
  {
   "cell_type": "code",
   "execution_count": 25,
   "id": "6c3f2f95-002e-49a8-85bd-79fd0802d804",
   "metadata": {},
   "outputs": [
    {
     "data": {
      "image/png": "[encoded data removed]",
      "text/plain": [
       "<Figure size 432x288 with 1 Axes>"
      ]
     },
     "metadata": {
      "needs_background": "light"
     },
     "output_type": "display_data"
    }
   ],
   "source": [
    "#This number shows us our dataset is balanced.\n",
    "#Let's look in to the visuakization of the dataset\n",
    "\n",
    "sns.countplot(df.sentiment)\n",
    "plt.title('Countplot of the Sentiments', fontsize = 20, color = 'red')\n",
    "plt.show()"
   ]
  },
  {
   "cell_type": "markdown",
   "id": "e53c5909-df64-4cd8-967f-393d9eb33dec",
   "metadata": {},
   "source": [
    "***Data Preprocessing and Cleaning***"
   ]
  },
  {
   "cell_type": "markdown",
   "id": "fb62d786-f2fb-4156-bfac-a50cb64c74e5",
   "metadata": {},
   "source": [
    "We performed few methods for cleaning the data and finally consolidated effective lines for preprocessing in \"clean_data\" function. All the experiments performed for preprocessing are in the \"xxxx.ipynb\" file"
   ]
  },
  {
   "cell_type": "code",
   "execution_count": 32,
   "id": "11127a7f-0a8c-4191-8ee9-66722a9ca4af",
   "metadata": {},
   "outputs": [],
   "source": [
    "def clean_data(text,remove_polish_letters):\n",
    "    ''' Pre process and convert texts to a list of words \n",
    "    method inspired by method from eliorc github repo: https://github.com/eliorc/Medium/blob/master/MaLSTM.ipynb'''\n",
    "    text = remove_polish_letters(text)\n",
    "    text = str(text)\n",
    "    text = text.lower()\n",
    "\n",
    "    # Clean the text\n",
    "    text = sub(r\"[^A-Za-z0-9^,!?.\\/'+]\", \" \", text)\n",
    "    text = sub(r\"\\+\", \" plus \", text)\n",
    "    text = sub(r\",\", \" \", text)\n",
    "    text = sub(r\"\\.\", \" \", text)\n",
    "    text = sub(r\"!\", \" ! \", text)\n",
    "    text = sub(r\"\\?\", \" ? \", text)\n",
    "    text = sub(r\"'\", \" \", text)\n",
    "    text = sub(r\":\", \" : \", text)\n",
    "    text = sub(r\"\\s{2,}\", \" \", text)\n",
    "\n",
    "    #text = text.split()\n",
    "\n",
    "    return text\n",
    "\n",
    "#Applying clean_data to every review in our dataset\n",
    "df.review = df.review.apply(lambda x: clean_data(x, unidecode))"
   ]
  },
  {
   "cell_type": "code",
   "execution_count": 34,
   "id": "9d80e888-bb75-4a44-9040-4280a42f98dd",
   "metadata": {},
   "outputs": [
    {
     "data": {
      "text/html": [
       "<div>\n",
       "<style scoped>\n",
       "    .dataframe tbody tr th:only-of-type {\n",
       "        vertical-align: middle;\n",
       "    }\n",
       "\n",
       "    .dataframe tbody tr th {\n",
       "        vertical-align: top;\n",
       "    }\n",
       "\n",
       "    .dataframe thead th {\n",
       "        text-align: right;\n",
       "    }\n",
       "</style>\n",
       "<table border=\"1\" class=\"dataframe\">\n",
       "  <thead>\n",
       "    <tr style=\"text-align: right;\">\n",
       "      <th></th>\n",
       "      <th>review</th>\n",
       "      <th>sentiment</th>\n",
       "    </tr>\n",
       "  </thead>\n",
       "  <tbody>\n",
       "    <tr>\n",
       "      <th>0</th>\n",
       "      <td>in 1974 the teenager martha moxley maggie grac...</td>\n",
       "      <td>1</td>\n",
       "    </tr>\n",
       "    <tr>\n",
       "      <th>1</th>\n",
       "      <td>ok so i really like kris kristofferson and his...</td>\n",
       "      <td>0</td>\n",
       "    </tr>\n",
       "    <tr>\n",
       "      <th>2</th>\n",
       "      <td>spoiler do not read this if you think about w...</td>\n",
       "      <td>0</td>\n",
       "    </tr>\n",
       "    <tr>\n",
       "      <th>3</th>\n",
       "      <td>hi for all the people who have seen this wonde...</td>\n",
       "      <td>1</td>\n",
       "    </tr>\n",
       "    <tr>\n",
       "      <th>4</th>\n",
       "      <td>i recently bought the dvd forgetting just how ...</td>\n",
       "      <td>0</td>\n",
       "    </tr>\n",
       "  </tbody>\n",
       "</table>\n",
       "</div>"
      ],
      "text/plain": [
       "                                              review  sentiment\n",
       "0  in 1974 the teenager martha moxley maggie grac...          1\n",
       "1  ok so i really like kris kristofferson and his...          0\n",
       "2   spoiler do not read this if you think about w...          0\n",
       "3  hi for all the people who have seen this wonde...          1\n",
       "4  i recently bought the dvd forgetting just how ...          0"
      ]
     },
     "execution_count": 34,
     "metadata": {},
     "output_type": "execute_result"
    }
   ],
   "source": [
    "df.head()"
   ]
  },
  {
   "cell_type": "markdown",
   "id": "cbaffd27-d2f6-447b-bf2f-3c89f140593d",
   "metadata": {},
   "source": [
    "From the above output 3rd review is the example for the data cleaning before and after."
   ]
  },
  {
   "cell_type": "code",
   "execution_count": 47,
   "id": "6af8c456-20dc-4076-802a-d4ed183445b1",
   "metadata": {},
   "outputs": [],
   "source": [
    "# we want pre process our dataset by applying the function we created\n",
    "\n",
    "cleaned_review = []\n",
    "phrases = list(df['review'])\n",
    "for data in phrases:\n",
    "    cleaned_review.append(clean_data(data,unidecode))"
   ]
  },
  {
   "cell_type": "code",
   "execution_count": 248,
   "id": "f31cb951-ee9f-419d-afe7-cc6f82e8f15c",
   "metadata": {},
   "outputs": [
    {
     "name": "stdout",
     "output_type": "stream",
     "text": [
      "Review before cleaning\n",
      " ***SPOILER*** Do not read this, if you think a...\n",
      "\n",
      " Review after cleaning\n",
      "  spoiler do not read this if you think about watching that movie although it would be a waste of time by the way the plot is so predictable that it does not make any difference if you read this or not anyway br / br / if you are wondering whether to see coyote ugly or not don t ! it s not worth either the money for the ticket or the vhs / dvd a typical chick feel good flick one could say the plot itself is as shallow as it can be a ridiculous and uncritical version of the american dream the young good looking girl from a small town becoming a big success in new york the few desperate attempts of giving the movie any depth fail such as the tragic accident of the father the difficulties of violet s relationship with her boyfriend and so on mcnally director tries to arouse the audience s pity and sadness put does not have any chance to succeed in this attempt due to the bad script and the shallow acting especially piper perabo completely fails in convincing one of jersey s fear of singing in front of an audience the only good and quite funny thing about coyote ugly is john goodman who represents the small ray of hope of this movie br / br / i was very astonished that jerry bruckheimer produced this movie first gone in 60 seconds and now this what happened to great movies like the rock and con air ? that was true bruckheimer stuff br / br / if you are looking for a superficial movie with good looking women just to have a relaxed evening you should better go and see charlie s angels it s much more funny entertaining and self ironic instead of this flick br / br / two thumbs down 3 out of 10 \n"
     ]
    }
   ],
   "source": [
    "print(\"Review before cleaning\\n\", \"***SPOILER*** Do not read this, if you think a...\")\n",
    "#Checking for 4th review\n",
    "print(\"\\n Review after cleaning\\n\",cleaned_review[2])"
   ]
  },
  {
   "cell_type": "markdown",
   "id": "90c27cd7-6bee-43dc-a467-37b9a5deae0c",
   "metadata": {},
   "source": [
    "***Preparing the data for training***"
   ]
  },
  {
   "cell_type": "code",
   "execution_count": 249,
   "id": "02d9fbbf-556e-402e-a7b8-69a62c75e643",
   "metadata": {},
   "outputs": [],
   "source": [
    "#Reading all the values of corpus in to an array.\n",
    "\n",
    "df_array = df.values\n",
    "#print(df_array)"
   ]
  },
  {
   "cell_type": "code",
   "execution_count": 250,
   "id": "5f7fc6f8-1648-4c70-9358-360e4ad50539",
   "metadata": {},
   "outputs": [],
   "source": [
    "#Reading reviews in to X\n",
    "X=df_array[:,0]\n",
    "\n",
    "#Reading target positive or negative in y\n",
    "y=df_array[:,1]\n",
    "#Changing the type of y from string to int\n",
    "y=y.astype('int')"
   ]
  },
  {
   "cell_type": "markdown",
   "id": "04aa6abc-8f7a-49fb-87a6-9f30545a0cd7",
   "metadata": {},
   "source": [
    "Now our data is ready to split. For splitting we use skleran train_test_split."
   ]
  },
  {
   "cell_type": "markdown",
   "id": "f5a9d231-743d-4437-acdd-afe14189878c",
   "metadata": {},
   "source": [
    "***Splitting the data for training, testing***"
   ]
  },
  {
   "cell_type": "code",
   "execution_count": 251,
   "id": "6e7bb589-7c35-4559-9629-051181343cf4",
   "metadata": {},
   "outputs": [],
   "source": [
    "# Splitting our data into train and test sets\n",
    "# we will use 80% training set and 20% test set\n",
    "\n",
    "X_train, X_test, y_train, y_test = train_test_split(X, y, random_state=0, test_size=0.2, shuffle=False)"
   ]
  },
  {
   "cell_type": "code",
   "execution_count": 252,
   "id": "2e2e70a9-d1ec-4ea1-87f0-77e98b99c210",
   "metadata": {},
   "outputs": [
    {
     "name": "stdout",
     "output_type": "stream",
     "text": [
      "(40000,) (40000,)\n",
      "(10000,) (10000,)\n"
     ]
    }
   ],
   "source": [
    "#Checking the shape of data splitted\n",
    "\n",
    "print(X_train.shape, y_train.shape)\n",
    "print(X_test.shape, y_test.shape)\n",
    "#X_train.shape\n",
    "#y_train.shape\n",
    "#X_test.shape\n",
    "#y_test.shape"
   ]
  },
  {
   "cell_type": "markdown",
   "id": "54c25901-d6e8-46d8-9938-9e17f7716fb8",
   "metadata": {},
   "source": [
    "***Bags of words model***"
   ]
  },
  {
   "cell_type": "code",
   "execution_count": 253,
   "id": "fa1e2a57-e75f-4ff8-92ce-f6e0e866bf2b",
   "metadata": {},
   "outputs": [
    {
     "data": {
      "text/plain": [
       "CountVectorizer(max_df=0.8, min_df=0.03, stop_words='english')"
      ]
     },
     "execution_count": 253,
     "metadata": {},
     "output_type": "execute_result"
    }
   ],
   "source": [
    "#This model is used to convert text documents to numerical vectors or bag of words.\n",
    "\n",
    "vec=CountVectorizer()\n",
    "vec.fit(X_train)\n",
    "#vec.vocabulary_\n",
    "#print(vec.get_feature_names_out())\n",
    "#print(len(vec.get_feature_names()))\n",
    "\n",
    "#specifying upper and lower dims and removing stop words\n",
    "vec=CountVectorizer(stop_words='english',min_df=.03,max_df=0.8)\n",
    "vec.fit(X_train)\n",
    "#vec.vocabulary_\n",
    "\n",
    "#print(vec.get_feature_names())\n",
    "#print(len(vec.get_feature_names()))"
   ]
  },
  {
   "cell_type": "markdown",
   "id": "d001406b-d22b-4792-a11d-e2a88a159aa4",
   "metadata": {},
   "source": [
    "When we transform the matrix we get the sparse matrix which does not contain zeros and is a compressed format for easier computation. We use the command to .toarray() to get the ones and zeros back."
   ]
  },
  {
   "cell_type": "markdown",
   "id": "e55c38f0-cebd-4ce5-8a08-1a993ff6a4ef",
   "metadata": {},
   "source": [
    "For train set:"
   ]
  },
  {
   "cell_type": "code",
   "execution_count": 254,
   "id": "36995681-4126-43d3-a1fe-c3e2ff99801a",
   "metadata": {},
   "outputs": [
    {
     "data": {
      "text/plain": [
       "<40000x492 sparse matrix of type '<class 'numpy.int64'>'\n",
       "\twith 1426066 stored elements in Compressed Sparse Row format>"
      ]
     },
     "execution_count": 254,
     "metadata": {},
     "output_type": "execute_result"
    }
   ],
   "source": [
    "x_train_transformed=vec.transform(X_train)\n",
    "x_train_transformed"
   ]
  },
  {
   "cell_type": "code",
   "execution_count": 255,
   "id": "b8d3f854-4021-490b-9aed-4159703366f8",
   "metadata": {},
   "outputs": [],
   "source": [
    "#converting transformed matrix to an array\n",
    "x_train=x_train_transformed.toarray()"
   ]
  },
  {
   "cell_type": "code",
   "execution_count": 256,
   "id": "ea9bfdad-9f6f-430b-ba6b-13de1ecc9c2b",
   "metadata": {},
   "outputs": [
    {
     "data": {
      "text/html": [
       "<div>\n",
       "<style scoped>\n",
       "    .dataframe tbody tr th:only-of-type {\n",
       "        vertical-align: middle;\n",
       "    }\n",
       "\n",
       "    .dataframe tbody tr th {\n",
       "        vertical-align: top;\n",
       "    }\n",
       "\n",
       "    .dataframe thead th {\n",
       "        text-align: right;\n",
       "    }\n",
       "</style>\n",
       "<table border=\"1\" class=\"dataframe\">\n",
       "  <thead>\n",
       "    <tr style=\"text-align: right;\">\n",
       "      <th></th>\n",
       "      <th>10</th>\n",
       "      <th>able</th>\n",
       "      <th>absolutely</th>\n",
       "      <th>act</th>\n",
       "      <th>acting</th>\n",
       "      <th>action</th>\n",
       "      <th>actor</th>\n",
       "      <th>actors</th>\n",
       "      <th>actress</th>\n",
       "      <th>actually</th>\n",
       "      <th>...</th>\n",
       "      <th>worth</th>\n",
       "      <th>wouldn</th>\n",
       "      <th>writer</th>\n",
       "      <th>writing</th>\n",
       "      <th>written</th>\n",
       "      <th>wrong</th>\n",
       "      <th>year</th>\n",
       "      <th>years</th>\n",
       "      <th>yes</th>\n",
       "      <th>young</th>\n",
       "    </tr>\n",
       "  </thead>\n",
       "  <tbody>\n",
       "    <tr>\n",
       "      <th>0</th>\n",
       "      <td>0</td>\n",
       "      <td>1</td>\n",
       "      <td>0</td>\n",
       "      <td>0</td>\n",
       "      <td>0</td>\n",
       "      <td>0</td>\n",
       "      <td>0</td>\n",
       "      <td>0</td>\n",
       "      <td>0</td>\n",
       "      <td>0</td>\n",
       "      <td>...</td>\n",
       "      <td>0</td>\n",
       "      <td>0</td>\n",
       "      <td>1</td>\n",
       "      <td>1</td>\n",
       "      <td>0</td>\n",
       "      <td>0</td>\n",
       "      <td>0</td>\n",
       "      <td>3</td>\n",
       "      <td>0</td>\n",
       "      <td>0</td>\n",
       "    </tr>\n",
       "    <tr>\n",
       "      <th>1</th>\n",
       "      <td>0</td>\n",
       "      <td>0</td>\n",
       "      <td>0</td>\n",
       "      <td>0</td>\n",
       "      <td>0</td>\n",
       "      <td>0</td>\n",
       "      <td>0</td>\n",
       "      <td>1</td>\n",
       "      <td>0</td>\n",
       "      <td>0</td>\n",
       "      <td>...</td>\n",
       "      <td>0</td>\n",
       "      <td>0</td>\n",
       "      <td>0</td>\n",
       "      <td>0</td>\n",
       "      <td>0</td>\n",
       "      <td>0</td>\n",
       "      <td>0</td>\n",
       "      <td>0</td>\n",
       "      <td>0</td>\n",
       "      <td>0</td>\n",
       "    </tr>\n",
       "    <tr>\n",
       "      <th>2</th>\n",
       "      <td>1</td>\n",
       "      <td>0</td>\n",
       "      <td>0</td>\n",
       "      <td>0</td>\n",
       "      <td>1</td>\n",
       "      <td>0</td>\n",
       "      <td>0</td>\n",
       "      <td>0</td>\n",
       "      <td>0</td>\n",
       "      <td>0</td>\n",
       "      <td>...</td>\n",
       "      <td>1</td>\n",
       "      <td>0</td>\n",
       "      <td>0</td>\n",
       "      <td>0</td>\n",
       "      <td>0</td>\n",
       "      <td>0</td>\n",
       "      <td>0</td>\n",
       "      <td>0</td>\n",
       "      <td>0</td>\n",
       "      <td>1</td>\n",
       "    </tr>\n",
       "    <tr>\n",
       "      <th>3</th>\n",
       "      <td>0</td>\n",
       "      <td>0</td>\n",
       "      <td>0</td>\n",
       "      <td>0</td>\n",
       "      <td>0</td>\n",
       "      <td>0</td>\n",
       "      <td>0</td>\n",
       "      <td>0</td>\n",
       "      <td>0</td>\n",
       "      <td>0</td>\n",
       "      <td>...</td>\n",
       "      <td>0</td>\n",
       "      <td>0</td>\n",
       "      <td>0</td>\n",
       "      <td>0</td>\n",
       "      <td>0</td>\n",
       "      <td>0</td>\n",
       "      <td>0</td>\n",
       "      <td>0</td>\n",
       "      <td>0</td>\n",
       "      <td>0</td>\n",
       "    </tr>\n",
       "    <tr>\n",
       "      <th>4</th>\n",
       "      <td>0</td>\n",
       "      <td>1</td>\n",
       "      <td>0</td>\n",
       "      <td>0</td>\n",
       "      <td>0</td>\n",
       "      <td>0</td>\n",
       "      <td>0</td>\n",
       "      <td>0</td>\n",
       "      <td>0</td>\n",
       "      <td>0</td>\n",
       "      <td>...</td>\n",
       "      <td>0</td>\n",
       "      <td>0</td>\n",
       "      <td>0</td>\n",
       "      <td>0</td>\n",
       "      <td>0</td>\n",
       "      <td>0</td>\n",
       "      <td>0</td>\n",
       "      <td>0</td>\n",
       "      <td>0</td>\n",
       "      <td>0</td>\n",
       "    </tr>\n",
       "  </tbody>\n",
       "</table>\n",
       "<p>5 rows × 492 columns</p>\n",
       "</div>"
      ],
      "text/plain": [
       "   10  able  absolutely  act  acting  action  actor  actors  actress  \\\n",
       "0   0     1           0    0       0       0      0       0        0   \n",
       "1   0     0           0    0       0       0      0       1        0   \n",
       "2   1     0           0    0       1       0      0       0        0   \n",
       "3   0     0           0    0       0       0      0       0        0   \n",
       "4   0     1           0    0       0       0      0       0        0   \n",
       "\n",
       "   actually  ...  worth  wouldn  writer  writing  written  wrong  year  years  \\\n",
       "0         0  ...      0       0       1        1        0      0     0      3   \n",
       "1         0  ...      0       0       0        0        0      0     0      0   \n",
       "2         0  ...      1       0       0        0        0      0     0      0   \n",
       "3         0  ...      0       0       0        0        0      0     0      0   \n",
       "4         0  ...      0       0       0        0        0      0     0      0   \n",
       "\n",
       "   yes  young  \n",
       "0    0      0  \n",
       "1    0      0  \n",
       "2    0      1  \n",
       "3    0      0  \n",
       "4    0      0  \n",
       "\n",
       "[5 rows x 492 columns]"
      ]
     },
     "execution_count": 256,
     "metadata": {},
     "output_type": "execute_result"
    }
   ],
   "source": [
    "#This gives the representation of topics and words in the topics.\n",
    "pd.DataFrame(x_train_transformed.toarray(),columns=vec.get_feature_names_out()).head()"
   ]
  },
  {
   "cell_type": "markdown",
   "id": "3626d73d-b3b7-46ca-b6ae-47143357d4dd",
   "metadata": {},
   "source": [
    "For Test set:"
   ]
  },
  {
   "cell_type": "code",
   "execution_count": 257,
   "id": "13f78d1a-4ee7-4c3f-9515-15984fac9d29",
   "metadata": {},
   "outputs": [
    {
     "data": {
      "text/plain": [
       "<10000x492 sparse matrix of type '<class 'numpy.int64'>'\n",
       "\twith 358409 stored elements in Compressed Sparse Row format>"
      ]
     },
     "execution_count": 257,
     "metadata": {},
     "output_type": "execute_result"
    }
   ],
   "source": [
    "x_test_transformed=vec.transform(X_test)\n",
    "x_test_transformed"
   ]
  },
  {
   "cell_type": "code",
   "execution_count": 258,
   "id": "137e42f5-b89d-4dad-8b3e-8e6f3516a3ea",
   "metadata": {},
   "outputs": [],
   "source": [
    "x_test=x_test_transformed.toarray()"
   ]
  },
  {
   "cell_type": "code",
   "execution_count": 259,
   "id": "0e568338-6579-4033-bc88-62ff3148a6c6",
   "metadata": {},
   "outputs": [
    {
     "data": {
      "text/html": [
       "<div>\n",
       "<style scoped>\n",
       "    .dataframe tbody tr th:only-of-type {\n",
       "        vertical-align: middle;\n",
       "    }\n",
       "\n",
       "    .dataframe tbody tr th {\n",
       "        vertical-align: top;\n",
       "    }\n",
       "\n",
       "    .dataframe thead th {\n",
       "        text-align: right;\n",
       "    }\n",
       "</style>\n",
       "<table border=\"1\" class=\"dataframe\">\n",
       "  <thead>\n",
       "    <tr style=\"text-align: right;\">\n",
       "      <th></th>\n",
       "      <th>10</th>\n",
       "      <th>able</th>\n",
       "      <th>absolutely</th>\n",
       "      <th>act</th>\n",
       "      <th>acting</th>\n",
       "      <th>action</th>\n",
       "      <th>actor</th>\n",
       "      <th>actors</th>\n",
       "      <th>actress</th>\n",
       "      <th>actually</th>\n",
       "      <th>...</th>\n",
       "      <th>worth</th>\n",
       "      <th>wouldn</th>\n",
       "      <th>writer</th>\n",
       "      <th>writing</th>\n",
       "      <th>written</th>\n",
       "      <th>wrong</th>\n",
       "      <th>year</th>\n",
       "      <th>years</th>\n",
       "      <th>yes</th>\n",
       "      <th>young</th>\n",
       "    </tr>\n",
       "  </thead>\n",
       "  <tbody>\n",
       "    <tr>\n",
       "      <th>0</th>\n",
       "      <td>0</td>\n",
       "      <td>0</td>\n",
       "      <td>0</td>\n",
       "      <td>0</td>\n",
       "      <td>0</td>\n",
       "      <td>0</td>\n",
       "      <td>0</td>\n",
       "      <td>0</td>\n",
       "      <td>0</td>\n",
       "      <td>0</td>\n",
       "      <td>...</td>\n",
       "      <td>0</td>\n",
       "      <td>0</td>\n",
       "      <td>0</td>\n",
       "      <td>0</td>\n",
       "      <td>0</td>\n",
       "      <td>1</td>\n",
       "      <td>0</td>\n",
       "      <td>0</td>\n",
       "      <td>0</td>\n",
       "      <td>0</td>\n",
       "    </tr>\n",
       "    <tr>\n",
       "      <th>1</th>\n",
       "      <td>0</td>\n",
       "      <td>0</td>\n",
       "      <td>0</td>\n",
       "      <td>0</td>\n",
       "      <td>0</td>\n",
       "      <td>2</td>\n",
       "      <td>1</td>\n",
       "      <td>0</td>\n",
       "      <td>0</td>\n",
       "      <td>0</td>\n",
       "      <td>...</td>\n",
       "      <td>0</td>\n",
       "      <td>0</td>\n",
       "      <td>0</td>\n",
       "      <td>0</td>\n",
       "      <td>0</td>\n",
       "      <td>0</td>\n",
       "      <td>0</td>\n",
       "      <td>1</td>\n",
       "      <td>0</td>\n",
       "      <td>0</td>\n",
       "    </tr>\n",
       "    <tr>\n",
       "      <th>2</th>\n",
       "      <td>1</td>\n",
       "      <td>0</td>\n",
       "      <td>0</td>\n",
       "      <td>0</td>\n",
       "      <td>0</td>\n",
       "      <td>0</td>\n",
       "      <td>0</td>\n",
       "      <td>0</td>\n",
       "      <td>0</td>\n",
       "      <td>0</td>\n",
       "      <td>...</td>\n",
       "      <td>0</td>\n",
       "      <td>0</td>\n",
       "      <td>0</td>\n",
       "      <td>0</td>\n",
       "      <td>0</td>\n",
       "      <td>0</td>\n",
       "      <td>0</td>\n",
       "      <td>1</td>\n",
       "      <td>0</td>\n",
       "      <td>0</td>\n",
       "    </tr>\n",
       "    <tr>\n",
       "      <th>3</th>\n",
       "      <td>0</td>\n",
       "      <td>0</td>\n",
       "      <td>0</td>\n",
       "      <td>0</td>\n",
       "      <td>0</td>\n",
       "      <td>0</td>\n",
       "      <td>0</td>\n",
       "      <td>0</td>\n",
       "      <td>0</td>\n",
       "      <td>0</td>\n",
       "      <td>...</td>\n",
       "      <td>0</td>\n",
       "      <td>0</td>\n",
       "      <td>0</td>\n",
       "      <td>0</td>\n",
       "      <td>0</td>\n",
       "      <td>0</td>\n",
       "      <td>0</td>\n",
       "      <td>0</td>\n",
       "      <td>0</td>\n",
       "      <td>0</td>\n",
       "    </tr>\n",
       "    <tr>\n",
       "      <th>4</th>\n",
       "      <td>0</td>\n",
       "      <td>0</td>\n",
       "      <td>0</td>\n",
       "      <td>0</td>\n",
       "      <td>0</td>\n",
       "      <td>0</td>\n",
       "      <td>0</td>\n",
       "      <td>0</td>\n",
       "      <td>0</td>\n",
       "      <td>0</td>\n",
       "      <td>...</td>\n",
       "      <td>0</td>\n",
       "      <td>0</td>\n",
       "      <td>0</td>\n",
       "      <td>0</td>\n",
       "      <td>0</td>\n",
       "      <td>0</td>\n",
       "      <td>0</td>\n",
       "      <td>0</td>\n",
       "      <td>0</td>\n",
       "      <td>0</td>\n",
       "    </tr>\n",
       "  </tbody>\n",
       "</table>\n",
       "<p>5 rows × 492 columns</p>\n",
       "</div>"
      ],
      "text/plain": [
       "   10  able  absolutely  act  acting  action  actor  actors  actress  \\\n",
       "0   0     0           0    0       0       0      0       0        0   \n",
       "1   0     0           0    0       0       2      1       0        0   \n",
       "2   1     0           0    0       0       0      0       0        0   \n",
       "3   0     0           0    0       0       0      0       0        0   \n",
       "4   0     0           0    0       0       0      0       0        0   \n",
       "\n",
       "   actually  ...  worth  wouldn  writer  writing  written  wrong  year  years  \\\n",
       "0         0  ...      0       0       0        0        0      1     0      0   \n",
       "1         0  ...      0       0       0        0        0      0     0      1   \n",
       "2         0  ...      0       0       0        0        0      0     0      1   \n",
       "3         0  ...      0       0       0        0        0      0     0      0   \n",
       "4         0  ...      0       0       0        0        0      0     0      0   \n",
       "\n",
       "   yes  young  \n",
       "0    0      0  \n",
       "1    0      0  \n",
       "2    0      0  \n",
       "3    0      0  \n",
       "4    0      0  \n",
       "\n",
       "[5 rows x 492 columns]"
      ]
     },
     "execution_count": 259,
     "metadata": {},
     "output_type": "execute_result"
    }
   ],
   "source": [
    "pd.DataFrame(x_test_transformed.toarray(),columns=vec.get_feature_names_out()).head()"
   ]
  },
  {
   "cell_type": "markdown",
   "id": "655993a5-31b7-4344-a2ab-19c4596db3aa",
   "metadata": {},
   "source": [
    "***Term Frequency-Inverse Document Frequency model (TFIDF)***"
   ]
  },
  {
   "cell_type": "code",
   "execution_count": 266,
   "id": "816f5c16-3e00-4df7-8442-12954a4aef8f",
   "metadata": {},
   "outputs": [],
   "source": [
    "#Tfidf vectorizer\n",
    "tfidf = TfidfVectorizer(max_features = 5000)\n",
    "X_tf= df['review']\n",
    "y_tf = df['sentiment']"
   ]
  },
  {
   "cell_type": "code",
   "execution_count": 267,
   "id": "b2812b63-dfd7-496e-84d6-4d40e57f42ac",
   "metadata": {},
   "outputs": [],
   "source": [
    "#Transforming all reviews before splitting\n",
    "X_transform_tf = tfidf.fit_transform(X_tf)"
   ]
  },
  {
   "cell_type": "code",
   "execution_count": 268,
   "id": "d81b44c3-139e-4ecf-9157-e72de4fc3fcc",
   "metadata": {},
   "outputs": [
    {
     "data": {
      "text/plain": [
       "<50000x5000 sparse matrix of type '<class 'numpy.float64'>'\n",
       "\twith 5864299 stored elements in Compressed Sparse Row format>"
      ]
     },
     "execution_count": 268,
     "metadata": {},
     "output_type": "execute_result"
    }
   ],
   "source": [
    "X_transform_tf\n",
    "#<50000x5000 sparse matrix \n",
    "#5000 is maxfeatures, 50,000 is number of reviews in dataset"
   ]
  },
  {
   "cell_type": "markdown",
   "id": "055d7212-c60f-447f-a47b-25036e0f5628",
   "metadata": {},
   "source": [
    "***Splitting data for tfidf model***"
   ]
  },
  {
   "cell_type": "code",
   "execution_count": 269,
   "id": "d6fad18b-5c5b-4f0a-b198-a38ba04d1631",
   "metadata": {},
   "outputs": [],
   "source": [
    "X_train_tf, X_test_tf, y_train_tf, y_test_tf = train_test_split(X_transform_tf, y_tf, random_state=0, test_size=0.2, shuffle=False)"
   ]
  },
  {
   "cell_type": "code",
   "execution_count": 270,
   "id": "980feddf-4e14-4d0a-980f-1cfda03b78ee",
   "metadata": {},
   "outputs": [
    {
     "name": "stdout",
     "output_type": "stream",
     "text": [
      "tf_train reviews  (40000, 5000)\n",
      "tf_test reviews  (10000, 5000)\n"
     ]
    }
   ],
   "source": [
    "print(\"tf_train reviews \",X_train_tf.shape)\n",
    "print(\"tf_test reviews \",X_test_tf.shape)"
   ]
  },
  {
   "cell_type": "markdown",
   "id": "ad7efe86-e570-4a5d-9f92-d7ec6aed6911",
   "metadata": {},
   "source": [
    "***Naive Bayes for Bag of Words and tfidf***"
   ]
  },
  {
   "cell_type": "markdown",
   "id": "0f5b395a-0943-44e8-997c-3c0183e0e750",
   "metadata": {},
   "source": [
    "***Training***"
   ]
  },
  {
   "cell_type": "code",
   "execution_count": 203,
   "id": "5117908d-3fc6-4078-961a-8f2b4653634e",
   "metadata": {},
   "outputs": [],
   "source": [
    "#Training the model\n",
    "\n",
    "mnb=MultinomialNB()\n",
    "#In Multinomial NB method we give the inputs as x_train and y_train. Here alpha is the term used for laplacian smoothing by default it is 1. This is used to prevent the condition of zero probability.\n",
    "\n"
   ]
  },
  {
   "cell_type": "markdown",
   "id": "2bf56dc7-2bf1-43fc-acc6-57290a98c52d",
   "metadata": {},
   "source": [
    "***Predicting***"
   ]
  },
  {
   "cell_type": "code",
   "execution_count": 196,
   "id": "74f5d27b-89e5-487f-b725-367df605f9f2",
   "metadata": {},
   "outputs": [],
   "source": [
    "#fitting the model on training data of BoW\n",
    "mnb_nv = mnb.fit(x_train_transformed,y_train)\n",
    "#Predicting the model for Bag of Words\n",
    "y_pred = mnb.predict(x_test)\n",
    "#fitting the model on training data of tfidf\n",
    "mnb_nv = mnb.fit(X_train_tf,y_train_tf)\n",
    "y_pred_tf = mnb.predict(X_test_tf)"
   ]
  },
  {
   "cell_type": "code",
   "execution_count": 197,
   "id": "04a3745b-21ff-4d87-97d7-d8facf4e036b",
   "metadata": {},
   "outputs": [
    {
     "name": "stdout",
     "output_type": "stream",
     "text": [
      "Predicted array [1 0 1 ... 0 1 1]\n",
      "Original array  40000    1\n",
      "40001    0\n",
      "40002    1\n",
      "40003    1\n",
      "40004    0\n",
      "        ..\n",
      "49995    0\n",
      "49996    0\n",
      "49997    0\n",
      "49998    0\n",
      "49999    1\n",
      "Name: sentiment, Length: 10000, dtype: int64\n"
     ]
    }
   ],
   "source": [
    "print(\"Predicted array\",y_pred_tf)\n",
    "print(\"Original array \",y_test_tf)"
   ]
  },
  {
   "cell_type": "code",
   "execution_count": 144,
   "id": "28b9df71-6a9e-4042-8fdb-ca84004562b4",
   "metadata": {},
   "outputs": [
    {
     "name": "stdout",
     "output_type": "stream",
     "text": [
      "Predicted array [1 0 1 ... 0 1 1]\n",
      "Original array  [1 0 1 ... 0 0 1]\n"
     ]
    }
   ],
   "source": [
    "print(\"Predicted array\",y_pred)\n",
    "print(\"Original array \",y_test)"
   ]
  },
  {
   "cell_type": "code",
   "execution_count": 145,
   "id": "9db6fb65-58c6-4f30-8455-f5a7b7c8bdef",
   "metadata": {},
   "outputs": [
    {
     "name": "stdout",
     "output_type": "stream",
     "text": [
      "Probability of first prediction is  1\n"
     ]
    }
   ],
   "source": [
    "#Getting the probability of predictions\n",
    "\n",
    "probabilty_prediction=mnb.predict_proba(x_test_transformed)\n",
    "probabilty_prediction\n",
    "#The above output shows probabilities of prediction for '0' and '1'\n",
    "print(\"Probability of first prediction is \",np.argmax(probabilty_prediction[0]))\n",
    "#1 is positive review\n",
    "#0 is negative review"
   ]
  },
  {
   "cell_type": "markdown",
   "id": "073d0204-10c4-4e52-838c-91a2818edbad",
   "metadata": {},
   "source": [
    "***Evaluating***"
   ]
  },
  {
   "cell_type": "code",
   "execution_count": 199,
   "id": "d24d5cab-219e-46b2-b93d-753572a59766",
   "metadata": {},
   "outputs": [
    {
     "name": "stdout",
     "output_type": "stream",
     "text": [
      "Accuracy for Naive Bayes model on BoW 0.8128\n",
      "Accuracy for Naive Bayes model on tfidf 0.8483\n"
     ]
    }
   ],
   "source": [
    "print(\"Accuracy for Naive Bayes model on BoW\",metrics.accuracy_score(y_test,y_pred))\n",
    "print(\"Accuracy for Naive Bayes model on tfidf\",metrics.accuracy_score(y_test_tf,y_pred_tf))"
   ]
  },
  {
   "cell_type": "code",
   "execution_count": 202,
   "id": "cf68232f-d887-4382-b35c-f55ba749e87c",
   "metadata": {},
   "outputs": [
    {
     "name": "stdout",
     "output_type": "stream",
     "text": [
      "Confusion Matrix for Naive Bayes Bow\n",
      "[[3995 1018]\n",
      " [ 854 4133]]\n",
      "Confusion Matrix for Naive Bayes tfidf\n",
      "[[4245  768]\n",
      " [ 749 4238]]\n"
     ]
    }
   ],
   "source": [
    "print(\"Confusion Matrix for Naive Bayes Bow\")\n",
    "confusion=metrics.confusion_matrix(y_test,y_pred)\n",
    "print(confusion)\n",
    "print(\"Confusion Matrix for Naive Bayes tfidf\")\n",
    "confusion=metrics.confusion_matrix(y_test_tf,y_pred_tf)\n",
    "print(confusion)"
   ]
  },
  {
   "cell_type": "code",
   "execution_count": 204,
   "id": "f93ae5e7-0b46-417c-b8e0-e274b20df6d9",
   "metadata": {},
   "outputs": [
    {
     "name": "stdout",
     "output_type": "stream",
     "text": [
      "Classification Report for Naive Bayes Classifier for BoW\n",
      "\n",
      "               precision    recall  f1-score   support\n",
      "\n",
      "           0       0.82      0.80      0.81      5013\n",
      "           1       0.80      0.83      0.82      4987\n",
      "\n",
      "    accuracy                           0.81     10000\n",
      "   macro avg       0.81      0.81      0.81     10000\n",
      "weighted avg       0.81      0.81      0.81     10000\n",
      "\n",
      "Classification Report for Naive Bayes Classifier for tfidf\n",
      "\n",
      "               precision    recall  f1-score   support\n",
      "\n",
      "           0       0.85      0.85      0.85      5013\n",
      "           1       0.85      0.85      0.85      4987\n",
      "\n",
      "    accuracy                           0.85     10000\n",
      "   macro avg       0.85      0.85      0.85     10000\n",
      "weighted avg       0.85      0.85      0.85     10000\n",
      "\n"
     ]
    }
   ],
   "source": [
    "print(\"Classification Report for Naive Bayes Classifier for BoW\\n\\n\",classification_report(y_test,y_pred))\n",
    "print(\"Classification Report for Naive Bayes Classifier for tfidf\\n\\n\",classification_report(y_test_tf,y_pred_tf))"
   ]
  },
  {
   "cell_type": "markdown",
   "id": "9422ede8-acc8-4ad1-a899-ba2dc1330edd",
   "metadata": {},
   "source": [
    "***Confusion Matrix Visualization***"
   ]
  },
  {
   "cell_type": "code",
   "execution_count": 131,
   "id": "18e2c2cb-17fc-4834-bcec-080aea2173f9",
   "metadata": {},
   "outputs": [],
   "source": [
    "#Function to visualize confusion matrix\n",
    "def plot_confusion_matrix(cm, classes,\n",
    "                          normalize=False,\n",
    "                          title='Confusion matrix',\n",
    "                          cmap=plt.cm.Blues):\n",
    "    \"\"\"\n",
    "    This function prints and plots the confusion matrix.\n",
    "    Normalization can be applied by setting `normalize=True`.\n",
    "    \"\"\"\n",
    "    if normalize:\n",
    "        cm = cm.astype('float') / cm.sum(axis=1)[:, np.newaxis]\n",
    "        print(\"Normalized confusion matrix\")\n",
    "    else:\n",
    "        print('Confusion matrix, without normalization')\n",
    "\n",
    "    print(cm)\n",
    "\n",
    "    plt.imshow(cm, interpolation='nearest', cmap=cmap)\n",
    "    plt.title(title)\n",
    "    plt.colorbar()\n",
    "    tick_marks = np.arange(len(classes))\n",
    "    plt.xticks(tick_marks, classes, rotation=45)\n",
    "    plt.yticks(tick_marks, classes)\n",
    "\n",
    "    fmt = '.2f' if normalize else 'd'\n",
    "    thresh = cm.max() / 2.\n",
    "    for i, j in itertools.product(range(cm.shape[0]), range(cm.shape[1])):\n",
    "        plt.text(j, i, format(cm[i, j], fmt),\n",
    "                 horizontalalignment=\"center\",\n",
    "                 color=\"white\" if cm[i, j] > thresh else \"black\")\n",
    "    plt.tight_layout()\n",
    "    plt.ylabel('True label')\n",
    "    plt.xlabel('Predicted label')\n"
   ]
  },
  {
   "cell_type": "code",
   "execution_count": 209,
   "id": "0636fabb-4a43-4992-953d-922070ee10a9",
   "metadata": {},
   "outputs": [
    {
     "name": "stdout",
     "output_type": "stream",
     "text": [
      "Confusion matrix, without normalization\n",
      "[[3995 1018]\n",
      " [ 854 4133]]\n",
      "Confusion matrix, without normalization\n",
      "[[4245  768]\n",
      " [ 749 4238]]\n"
     ]
    },
    {
     "data": {
      "image/png": "[encoded data removed]",
      "text/plain": [
       "<Figure size 936x360 with 4 Axes>"
      ]
     },
     "metadata": {
      "needs_background": "light"
     },
     "output_type": "display_data"
    }
   ],
   "source": [
    "# Compute confusion matrix\n",
    "cnf_matrix = confusion_matrix(y_test, y_pred)\n",
    "cnf_matrix1 = confusion_matrix(y_test_tf, y_pred_tf)\n",
    "#print(cnf_matrix)\n",
    "np.set_printoptions(precision=2)\n",
    "\n",
    "\n",
    "# Plot non-normalized confusion matrix\n",
    "plt.figure(figsize=(13,5))\n",
    "plt.subplot(1, 2, 1)\n",
    "plot_confusion_matrix(cnf_matrix, classes=['positive=1','negative=0'],normalize= False,  title='Confusion matrix for Naive Bayes BoW')\n",
    "plt.subplot(1, 2, 2)\n",
    "plot_confusion_matrix(cnf_matrix1, classes=['positive=1','negative=0'],normalize= False,  title='Confusion matrix for Naive Bayes Tfidf')"
   ]
  },
  {
   "cell_type": "markdown",
   "id": "59fcbdb4-4938-44f6-a123-e039fe788c9a",
   "metadata": {},
   "source": [
    "***Naive Bayes Model on custom data***"
   ]
  },
  {
   "cell_type": "code",
   "execution_count": 210,
   "id": "644e23be-3eac-45f1-9009-fdba6cd02076",
   "metadata": {},
   "outputs": [],
   "source": [
    "#Took the reviews from Imdb website which as '6','5','10' ratings\n",
    "#Ref:https://www.imdb.com/title/tt5433138/reviews?ref_=tt_sa_3\n",
    "def predictNaive(Custom_review):\n",
    "    #Custom_comment = \"Awesome good mindblowing\"\n",
    "    comment = clean_data(Custom_review,unidecode)\n",
    "    comm_trans = vec.transform([comment])\n",
    "    print(\"Probabilities of predictions:\",mnb.predict_proba(comm_trans))\n",
    "    if np.argmax(mnb.predict_proba(comm_trans))==0:\n",
    "        return \"Negative Review\"\n",
    "    else:\n",
    "        return \"Positive Review\"\n",
    "    "
   ]
  },
  {
   "cell_type": "code",
   "execution_count": 123,
   "id": "b7c9f957-3e36-4a88-989d-f60a6f23f48f",
   "metadata": {},
   "outputs": [
    {
     "name": "stdout",
     "output_type": "stream",
     "text": [
      "Probabilities of predictions: [[0.04119541 0.95880459]]\n"
     ]
    },
    {
     "data": {
      "text/plain": [
       "'Positive Review'"
      ]
     },
     "execution_count": 123,
     "metadata": {},
     "output_type": "execute_result"
    }
   ],
   "source": [
    "#This review is originally rated 6 on the website\n",
    "\n",
    "Custom_review =\"\"\" Why did you come here? What do you expect? The fast Saga - a movie that makes not much sense, but is pure \"popcorn\" if there is such a thing. We have new \"milestones\" ahead of us though. One is family related - pun intended, as is the cliche we get served here. Talking of cliches we get a beloved character back ... like they used to do in soaps ... because ... there are no rules.\n",
    "\n",
    "Well no rules that the real world would set - boundaries and all that. I mean even Paul Walkers character is still alive in this - even if we never see him. He is family - and family holds together and never dies (are they Goonies?).\n",
    "\n",
    "80s movie reference aside this is what fans should and probably will expect. Including the long awaited and completely insane ... well out of this world moment! And then add some of the most insane stunts and this should be one of the craziest (best?) movie/theatre experiences you can get.\n",
    "\n",
    "Again it doesn't make much sense (or any to be fair), but it is fun to watch. And why should you not have fun ... the soundtrack is hot, the muscles and the cars are hot ... the players are hot ... there is literally nothing that is below \"hot\" ... well there is one moment that is described as cold ... fair enough, but other than that: Hot! Even new additions to the cast - ones that probably are going to return and some that are just flavor of the month/fan service ... get with it or leave it seems to be what the movie is suggesting ...\"\"\"\n",
    "predictNaive(Custom_review)"
   ]
  },
  {
   "cell_type": "code",
   "execution_count": 126,
   "id": "530f9fc3-e19b-4930-8a5a-365b8853ff8d",
   "metadata": {},
   "outputs": [],
   "source": [
    "#Below is the 1 rated review on the website\n",
    "\n",
    "Custom_review = \"\"\" I am a huge fan of this franchise. And i watched all 9 movies again before F9. Here are my ratings for reference:\n",
    "\n",
    "(1) original 8/10... (2) 2 fast 7/10... (3) tokyo drift 3/10... (4) fast & furious 7/10... (5) fast 5 - 8/10... (6) fast & furious 6 - 8/10... (7) furious 7 - 4/10... (8) fate 8/10... (9) hobbs and shaw 2/10...\n",
    "\n",
    "in my review for hobbs and shaw, i said i hope f9 doesn't continue with the madness introduced in that movie. And in a way it doesn't. There are no super soldiers. And it doesn't switch to the sci-fi genre (for the most part). But in another way, it continues exactly where hobbs and shaw left off. Completely ridiculous action that is not the least bit believable and disregards the most basic laws of physics.\n",
    "\n",
    "And i could tell from the first action scene. I tried to be patient, but it got worse and worse. This series has always pushed the limits, but they've lost all restraint and do whatever they want, no matter how stupid. I groaned and rolled my eyes so many times. Some parts were so dumb that i straight up closed my eyes for 5 seconds cause i couldn't handle it. And it's not just a random thing here or there. It's the majority of the action.\n",
    "\n",
    "A quote from my hobbs and shaw review: \"I always say the best action movies toe the line between improbable and impossible. To quote joey from friends, 'you're so far past the line that you can't even see the line! The line is a dot to you!' lmao.\"\n",
    "\n",
    "On top of that, none of it is good. Even if you suspend disbelief, nothing about the action is impressive. Not one scene wowed me or gave me goosebumps. Even the fight scenes are crap. At one point i stopped caring about the action at all. And this is coming from an action junkie. By comparison, f8 had multiple BEASTLY action scenes that had my jaw dropped.\n",
    "\n",
    "Aside from the action, this movie just isn't good. The story is useless. They tried to have character moments, but they didn't work for me. Which is odd because i'm already invested in all these characters. Most of the comedy doesn't work. And some of it is done at the expense of realism (they do something that makes no sense so they can joke about it).\n",
    "\n",
    "My other biggest gripe: rewriting history. Apparently the trailer spoiled this, which is why i don't watch trailers. But they are pooping on their own franchise by changing past events. And you can argue that the franchise has done this before, but it was more of adding on to the story. Whereas with this movie, it really feels like they were pulling stuff out of their butts\n",
    "\n",
    "did i mention it's really dumb? Unfathomably dumb. You know the overused phrase \"i could feel myself getting dumber\"? I really really could. I found myself mouth-breathing with my eye lids half shut lol\n",
    "\n",
    "What a waste of charlize theron. I was so happy she survived f8. She's a BEAST of an actress (FURIOSA!), and i liked her villain. But she was literally in a box for the majority of the movie. Also, the Rock has become a staple of this franchise. Why is he not in this movie? Instead we get john cena. Sigh.\n",
    "\n",
    "Racking my brain trying to come up with a positive. All i got is the musical score. Or at least one track was awesome. They played it during the end credits.\n",
    "\n",
    "My entire theater clapped when it finished. Ppl are stupid. But that means we'll probably get another one. Hopefully they can right the ship. But i don't have much confidence in that happening.\n",
    "\n",
    "There is so much more i can talk about. I can't remember it all. But i'm sad and disappointed. My wait for good post-pandemic movies continues. So far i can think of one (a quiet place 2). And that's out of like 15-20 movies i've seen. (1 viewing, 6/24/2021)\"\"\""
   ]
  },
  {
   "cell_type": "code",
   "execution_count": 127,
   "id": "697b4c55-403f-40d0-8d27-bb6ea32f8722",
   "metadata": {},
   "outputs": [
    {
     "name": "stdout",
     "output_type": "stream",
     "text": [
      "Probabilities of predictions: [[9.99999507e-01 4.93021341e-07]]\n"
     ]
    },
    {
     "data": {
      "text/plain": [
       "'Negative Review'"
      ]
     },
     "execution_count": 127,
     "metadata": {},
     "output_type": "execute_result"
    }
   ],
   "source": [
    "predictNaive(Custom_review)"
   ]
  },
  {
   "cell_type": "code",
   "execution_count": 129,
   "id": "f93b771a-754f-496f-aafb-4282b6c4db61",
   "metadata": {},
   "outputs": [
    {
     "name": "stdout",
     "output_type": "stream",
     "text": [
      "Probabilities of predictions: [[0.07999621 0.92000379]]\n"
     ]
    },
    {
     "data": {
      "text/plain": [
       "'Positive Review'"
      ]
     },
     "execution_count": 129,
     "metadata": {},
     "output_type": "execute_result"
    }
   ],
   "source": [
    "# 8 rated review\n",
    "Custom_review=\"\"\" I think the people in charge of IMDB should add Sci-Fi to the genres and I understand the hate. Regardless of the flaws especially one being there's probably 20 parts where some of the characters should've died I hope I'm not the only one to feel this way otherwise Fast 9 is exhilarating fun most of the way of through. A hilarious side note the theater I go to has recliner seats and someone fairly fat broke the seat to the right of me lol! The best aspects are the action, comedy, and the cinematography; the story is kinda cheesy. Like my review or don't but I'm being nice with my rating. Aww come on the review is good I mean the movie is pretty good.\"\"\"\n",
    "predictNaive(Custom_review)"
   ]
  },
  {
   "cell_type": "code",
   "execution_count": 227,
   "id": "99714877-5297-446a-81a7-516645b0e135",
   "metadata": {},
   "outputs": [
    {
     "data": {
      "text/plain": [
       "<matplotlib.legend.Legend at 0x1da85023460>"
      ]
     },
     "execution_count": 227,
     "metadata": {},
     "output_type": "execute_result"
    },
    {
     "data": {
      "image/png": "[encoded data removed]",
      "text/plain": [
       "<Figure size 1152x432 with 1 Axes>"
      ]
     },
     "metadata": {
      "needs_background": "light"
     },
     "output_type": "display_data"
    }
   ],
   "source": [
    "#Prediction for BoW Naive Bayes model\n",
    "\n",
    "df_pred = pd.DataFrame(data={'y_actual': y_test, 'y_pred': y_pred})\n",
    "\n",
    "plt.figure(figsize=(16, 6))\n",
    "\n",
    "msk = df_pred['y_actual'] == 0\n",
    "sns.distplot(df_pred.loc[msk, 'y_pred'], label='negative reviews', kde=False)\n",
    "sns.distplot(df_pred.loc[~msk, 'y_pred'], label='positive reviews', kde=False)\n",
    "\n",
    "\n",
    "plt.legend()\n",
    "\n"
   ]
  },
  {
   "cell_type": "code",
   "execution_count": 228,
   "id": "6aab0ca2-b45a-4fd8-bad3-60c317d5d277",
   "metadata": {},
   "outputs": [],
   "source": [
    "#From the above and below plots we can see that most of the negative reviews are predicted as negative but few of them are predicted as positive,\n",
    "#and same for positive reviews too.\n",
    "#One small difference is tfidf Naive Bayes model is having less number of false prediction compared BoW Naive Bayes Model."
   ]
  },
  {
   "cell_type": "code",
   "execution_count": 229,
   "id": "4131fcef-9e09-447a-97bc-649d3141776c",
   "metadata": {},
   "outputs": [
    {
     "data": {
      "text/plain": [
       "<matplotlib.legend.Legend at 0x1da4b0158e0>"
      ]
     },
     "execution_count": 229,
     "metadata": {},
     "output_type": "execute_result"
    },
    {
     "data": {
      "image/png": "[encoded data removed]",
      "text/plain": [
       "<Figure size 1152x432 with 1 Axes>"
      ]
     },
     "metadata": {
      "needs_background": "light"
     },
     "output_type": "display_data"
    }
   ],
   "source": [
    "#Prediction for tfidf Naive Bayes model\n",
    "df_pred = pd.DataFrame(data={'y_actual': y_test_tf, 'y_pred': y_pred_tf})\n",
    "\n",
    "plt.figure(figsize=(16, 6))\n",
    "\n",
    "msk = df_pred['y_actual'] == 0\n",
    "sns.distplot(df_pred.loc[msk, 'y_pred'], label='negative reviews', kde=False)\n",
    "sns.distplot(df_pred.loc[~msk, 'y_pred'], label='positive reviews', kde=False)\n",
    "\n",
    "\n",
    "plt.legend()\n",
    "\n"
   ]
  },
  {
   "cell_type": "markdown",
   "id": "7d6df70e-59c7-4c3b-82b5-5c4d806ad00b",
   "metadata": {},
   "source": [
    "***SVM MODEL***"
   ]
  },
  {
   "cell_type": "markdown",
   "id": "d3e8375c-54f8-4580-83e1-d8772d28fa11",
   "metadata": {},
   "source": [
    "***Training***"
   ]
  },
  {
   "cell_type": "code",
   "execution_count": 276,
   "id": "ddd5f602-21b7-4430-a0b8-4f92d6bc2e04",
   "metadata": {},
   "outputs": [],
   "source": [
    "svm = LinearSVC()\n",
    "#Transfer Model\n"
   ]
  },
  {
   "cell_type": "markdown",
   "id": "077f64d2-1eba-4243-b6fc-67625f541c06",
   "metadata": {},
   "source": [
    "***Predicting***"
   ]
  },
  {
   "cell_type": "code",
   "execution_count": 279,
   "id": "25e17158-3145-4035-ae1d-4a86bbaa3055",
   "metadata": {},
   "outputs": [],
   "source": [
    "#svm model for BoW\n",
    "svm_nv=svm.fit(x_train_transformed,y_train)\n",
    "y_pred_svm = svm_nv.predict(x_test_transformed)"
   ]
  },
  {
   "cell_type": "code",
   "execution_count": 280,
   "id": "3cc0a266-17b1-4ce8-975a-e646d6668b33",
   "metadata": {},
   "outputs": [],
   "source": [
    "#svm model for Tfidf\n",
    "svm_tf=svm.fit(X_train_tf, y_train_tf)\n",
    "y_pred_svm_tf=svm_tf.predict(X_test_tf)"
   ]
  },
  {
   "cell_type": "code",
   "execution_count": 281,
   "id": "25d1e576-ec31-4eb2-bdce-a5148f1e5bed",
   "metadata": {},
   "outputs": [
    {
     "name": "stdout",
     "output_type": "stream",
     "text": [
      "Predicted values by svm BoW [1 1 1 ... 0 1 1]\n",
      "Original values by svm BoW [1 0 1 ... 0 0 1]\n",
      "Predicted values by svm Tfidf [1 0 1 ... 0 1 1]\n",
      "Original values by svm Tfidf 40000    1\n",
      "40001    0\n",
      "40002    1\n",
      "40003    1\n",
      "40004    0\n",
      "        ..\n",
      "49995    0\n",
      "49996    0\n",
      "49997    0\n",
      "49998    0\n",
      "49999    1\n",
      "Name: sentiment, Length: 10000, dtype: int64\n"
     ]
    }
   ],
   "source": [
    "print(\"Predicted values by svm BoW\",y_pred_svm)\n",
    "print(\"Original values by svm BoW\",y_test)\n",
    "\n",
    "print(\"Predicted values by svm Tfidf\",y_pred_svm_tf)\n",
    "print(\"Original values by svm Tfidf\",y_test_tf)\n"
   ]
  },
  {
   "cell_type": "markdown",
   "id": "692da0fc-80fa-48ba-866f-69178b368acd",
   "metadata": {},
   "source": [
    "***Evaluating***"
   ]
  },
  {
   "cell_type": "code",
   "execution_count": 284,
   "id": "dff679d8-ae20-40d5-a3d0-3d653fef94d6",
   "metadata": {},
   "outputs": [
    {
     "name": "stdout",
     "output_type": "stream",
     "text": [
      "Accuracy for svm model on BoW 0.8319\n",
      "Accuracy for svm model on tfidf 0.8843\n"
     ]
    }
   ],
   "source": [
    "print(\"Accuracy for svm model on BoW\",metrics.accuracy_score(y_test,y_pred_svm))\n",
    "print(\"Accuracy for svm model on tfidf\",metrics.accuracy_score(y_test_tf,y_pred_svm_tf))"
   ]
  },
  {
   "cell_type": "code",
   "execution_count": 285,
   "id": "de7ba828-eeae-4349-b3b0-af14e71bc5fa",
   "metadata": {},
   "outputs": [
    {
     "name": "stdout",
     "output_type": "stream",
     "text": [
      "Confusion Matrix for svm Bow\n",
      "[[4077  936]\n",
      " [ 745 4242]]\n",
      "Confusion Matrix for svm tfidf\n",
      "[[4435  578]\n",
      " [ 579 4408]]\n"
     ]
    }
   ],
   "source": [
    "print(\"Confusion Matrix for svm Bow\")\n",
    "confusion=metrics.confusion_matrix(y_test,y_pred_svm)\n",
    "print(confusion)\n",
    "print(\"Confusion Matrix for svm tfidf\")\n",
    "confusion=metrics.confusion_matrix(y_test_tf,y_pred_svm_tf)\n",
    "print(confusion)"
   ]
  },
  {
   "cell_type": "code",
   "execution_count": 286,
   "id": "e2613f07-a1a1-498a-9e11-aee3fafade58",
   "metadata": {},
   "outputs": [
    {
     "name": "stdout",
     "output_type": "stream",
     "text": [
      "Classification Report for svm Classifier for BoW\n",
      "\n",
      "               precision    recall  f1-score   support\n",
      "\n",
      "           0       0.85      0.81      0.83      5013\n",
      "           1       0.82      0.85      0.83      4987\n",
      "\n",
      "    accuracy                           0.83     10000\n",
      "   macro avg       0.83      0.83      0.83     10000\n",
      "weighted avg       0.83      0.83      0.83     10000\n",
      "\n",
      "Classification Report for svm Classifier for tfidf\n",
      "\n",
      "               precision    recall  f1-score   support\n",
      "\n",
      "           0       0.88      0.88      0.88      5013\n",
      "           1       0.88      0.88      0.88      4987\n",
      "\n",
      "    accuracy                           0.88     10000\n",
      "   macro avg       0.88      0.88      0.88     10000\n",
      "weighted avg       0.88      0.88      0.88     10000\n",
      "\n"
     ]
    }
   ],
   "source": [
    "print(\"Classification Report for svm Classifier for BoW\\n\\n\",classification_report(y_test,y_pred_svm))\n",
    "print(\"Classification Report for svm Classifier for tfidf\\n\\n\",classification_report(y_test_tf,y_pred_svm_tf))"
   ]
  },
  {
   "cell_type": "code",
   "execution_count": 287,
   "id": "8abe6849-c75f-4607-8c66-e70e3e904bf0",
   "metadata": {},
   "outputs": [
    {
     "data": {
      "text/plain": [
       "<matplotlib.legend.Legend at 0x1da7d35dbb0>"
      ]
     },
     "execution_count": 287,
     "metadata": {},
     "output_type": "execute_result"
    },
    {
     "data": {
      "image/png": "[encoded data removed]",
      "text/plain": [
       "<Figure size 1152x432 with 1 Axes>"
      ]
     },
     "metadata": {
      "needs_background": "light"
     },
     "output_type": "display_data"
    }
   ],
   "source": [
    "#Prediction for BoW svm model\n",
    "\n",
    "df_pred = pd.DataFrame(data={'y_actual': y_test, 'y_pred': y_pred_svm})\n",
    "\n",
    "plt.figure(figsize=(16, 6))\n",
    "\n",
    "msk = df_pred['y_actual'] == 0\n",
    "sns.distplot(df_pred.loc[msk, 'y_pred'], label='negative reviews', kde=False)\n",
    "sns.distplot(df_pred.loc[~msk, 'y_pred'], label='positive reviews', kde=False)\n",
    "\n",
    "\n",
    "plt.legend()\n"
   ]
  },
  {
   "cell_type": "code",
   "execution_count": 288,
   "id": "6339d7c6-d954-44a6-98d6-c5a035954979",
   "metadata": {},
   "outputs": [
    {
     "data": {
      "text/plain": [
       "<matplotlib.legend.Legend at 0x1da7d6e11f0>"
      ]
     },
     "execution_count": 288,
     "metadata": {},
     "output_type": "execute_result"
    },
    {
     "data": {
      "image/png": "[encoded data removed]",
      "text/plain": [
       "<Figure size 1152x432 with 1 Axes>"
      ]
     },
     "metadata": {
      "needs_background": "light"
     },
     "output_type": "display_data"
    }
   ],
   "source": [
    "#Prediction for svm model for tfidf\n",
    "\n",
    "df_pred = pd.DataFrame(data={'y_actual': y_test_tf, 'y_pred': y_pred_svm_tf})\n",
    "\n",
    "plt.figure(figsize=(16, 6))\n",
    "\n",
    "msk = df_pred['y_actual'] == 0\n",
    "sns.distplot(df_pred.loc[msk, 'y_pred'], label='negative reviews', kde=False)\n",
    "sns.distplot(df_pred.loc[~msk, 'y_pred'], label='positive reviews', kde=False)\n",
    "\n",
    "\n",
    "plt.legend()"
   ]
  },
  {
   "cell_type": "code",
   "execution_count": 289,
   "id": "18d91275-5aad-4971-bcf0-34f839e81d40",
   "metadata": {},
   "outputs": [
    {
     "name": "stdout",
     "output_type": "stream",
     "text": [
      "Confusion matrix, without normalization\n",
      "[[4077  936]\n",
      " [ 745 4242]]\n",
      "Confusion matrix, without normalization\n",
      "[[4435  578]\n",
      " [ 579 4408]]\n"
     ]
    },
    {
     "data": {
      "image/png": "[encoded data removed]",
      "text/plain": [
       "<Figure size 936x360 with 4 Axes>"
      ]
     },
     "metadata": {
      "needs_background": "light"
     },
     "output_type": "display_data"
    }
   ],
   "source": [
    "# Compute confusion matrix\n",
    "cnf_matrix = confusion_matrix(y_test, y_pred_svm)\n",
    "cnf_matrix1 = confusion_matrix(y_test_tf, y_pred_svm_tf)\n",
    "#print(cnf_matrix)\n",
    "np.set_printoptions(precision=2)\n",
    "\n",
    "\n",
    "# Plot non-normalized confusion matrix\n",
    "plt.figure(figsize=(13,5))\n",
    "plt.subplot(1, 2, 1)\n",
    "plot_confusion_matrix(cnf_matrix, classes=['positive=1','negative=0'],normalize= False,  title='Confusion matrix for svm BoW')\n",
    "plt.subplot(1, 2, 2)\n",
    "plot_confusion_matrix(cnf_matrix1, classes=['positive=1','negative=0'],normalize= False,  title='Confusion matrix for svm Tfidf')"
   ]
  },
  {
   "cell_type": "markdown",
   "id": "98130df5-5014-4cce-9d15-c0294e3206d4",
   "metadata": {},
   "source": [
    "***Predict on Custom Data***"
   ]
  },
  {
   "cell_type": "markdown",
   "id": "90c5a46b-95e5-4a75-b51b-8d3601ecba3b",
   "metadata": {},
   "source": [
    "***LSTM Model***"
   ]
  },
  {
   "cell_type": "markdown",
   "id": "55869176-4955-4d03-a63f-5f1116d0bbb2",
   "metadata": {},
   "source": [
    "Detailed experiments on LSTM model are given in \"LSTMExp.ipynb\" file"
   ]
  },
  {
   "cell_type": "code",
   "execution_count": 354,
   "id": "907adc56-c38f-4451-a5d9-d4d4dc77fcb1",
   "metadata": {},
   "outputs": [],
   "source": [
    "df_array = df.values\n",
    "#Reading reviews in to X\n",
    "X=df_array[:,0]\n",
    "\n",
    "#Reading target positive or negative in y\n",
    "y=df_array[:,1]\n",
    "#Changing the type of y from string to int\n",
    "y=y.astype('int')\n",
    "\n",
    "X_train, X_test, y_train, y_test = train_test_split(X, y, random_state=0, test_size = 0.2)"
   ]
  },
  {
   "cell_type": "code",
   "execution_count": 355,
   "id": "0b088761-96a2-49fc-90dc-0b0a3edc9f59",
   "metadata": {},
   "outputs": [],
   "source": [
    "#Calculating max length for padding the sequence\n",
    "def get_max_length():\n",
    "    review_length = []\n",
    "    for review in X_train:\n",
    "        review_length.append(len(review))\n",
    "\n",
    "    return int(np.ceil(np.mean(review_length)))"
   ]
  },
  {
   "cell_type": "code",
   "execution_count": 356,
   "id": "aa2940ae-00db-4d53-9965-e29a28b5116a",
   "metadata": {},
   "outputs": [],
   "source": [
    "# The tokenizer module creates a word to index dictionary.\n",
    "# Each word is used as key while the corresponding unique index,\n",
    "# is used as the value for the key.\n",
    "\n",
    "token = Tokenizer(lower=False)    # no need lower, because already lowered the data in load_data()\n",
    "token.fit_on_texts(X_train)\n",
    "X_train = token.texts_to_sequences(X_train)\n",
    "X_test = token.texts_to_sequences(X_test)\n",
    "\n",
    "max_length = get_max_length()\n"
   ]
  },
  {
   "cell_type": "code",
   "execution_count": 357,
   "id": "1a7c3d67-610d-42c2-9afe-2b35bea25848",
   "metadata": {},
   "outputs": [],
   "source": [
    "X_train = pad_sequences(X_train, maxlen=max_length, padding='post', truncating='post')\n",
    "X_test = pad_sequences(X_test, maxlen=max_length, padding='post', truncating='post')\n",
    "\n",
    "total_words = len(token.word_index) + 1   # add 1 because of 0 padding"
   ]
  },
  {
   "cell_type": "code",
   "execution_count": 358,
   "id": "4dd204c3-0f60-46cd-9440-49fe21d78f0f",
   "metadata": {},
   "outputs": [
    {
     "name": "stdout",
     "output_type": "stream",
     "text": [
      "Encoded X Train\n",
      " [[ 281    3  295 ...   61   29  806]\n",
      " [  72   10   79 ...    0    0    0]\n",
      " [  72    8   13 ...    0    0    0]\n",
      " ...\n",
      " [  10  211   11 ...    1  253   12]\n",
      " [  11    6  161 ...   26  605  475]\n",
      " [  10  211   11 ... 1896   41 7893]] \n",
      "\n",
      "Encoded X Test\n",
      " [[6438    6    3 ...  118  938    8]\n",
      " [  10   14   42 ...    0    0    0]\n",
      " [ 566   66    6 ...    0    0    0]\n",
      " ...\n",
      " [7873   48    3 ... 1013   34    3]\n",
      " [  65   75 1026 ...    0    0    0]\n",
      " [1505   29  790 ...    0    0    0]] \n",
      "\n",
      "Maximum review length:  240\n"
     ]
    }
   ],
   "source": [
    "print('Encoded X Train\\n', X_train, '\\n')\n",
    "print('Encoded X Test\\n', X_test, '\\n')\n",
    "print('Maximum review length: ', max_length)"
   ]
  },
  {
   "cell_type": "code",
   "execution_count": 359,
   "id": "42cde6dd-2b62-4bd2-ac68-79a114dac384",
   "metadata": {},
   "outputs": [
    {
     "name": "stdout",
     "output_type": "stream",
     "text": [
      "Model: \"sequential_8\"\n",
      "_________________________________________________________________\n",
      "Layer (type)                 Output Shape              Param #   \n",
      "=================================================================\n",
      "embedding_10 (Embedding)     (None, 240, 100)          9275700   \n",
      "_________________________________________________________________\n",
      "lstm_14 (LSTM)               (None, 240, 50)           30200     \n",
      "_________________________________________________________________\n",
      "lstm_15 (LSTM)               (None, 25)                7600      \n",
      "_________________________________________________________________\n",
      "dense_13 (Dense)             (None, 50)                1300      \n",
      "_________________________________________________________________\n",
      "dropout_6 (Dropout)          (None, 50)                0         \n",
      "_________________________________________________________________\n",
      "dense_14 (Dense)             (None, 1)                 51        \n",
      "=================================================================\n",
      "Total params: 9,314,851\n",
      "Trainable params: 9,314,851\n",
      "Non-trainable params: 0\n",
      "_________________________________________________________________\n",
      "None\n"
     ]
    }
   ],
   "source": [
    "# ARCHITECTURE\n",
    "# Create an embedding layer by specifying the parameters we created earlier\n",
    "# Creating two Recurrent neural network layers\n",
    "# Here we will use two LTSM (Long Term Short Term Memory) layers\n",
    "# Bidirectional means the RNN processes sequence from start to end,and also backwards\n",
    "# This makes the model perform better.\n",
    "# We added another hidden layer and included an activation function as relu.\n",
    "# Here we added Dropout to prevent the model from over fitting\n",
    "# Dropout randomly removes some neurons in the hidden layers\n",
    "# At the end we add a dense layer with sigmoid activation function.\n",
    "\n",
    "# ARCHITECTURE\n",
    "EMBED_DIM = 100\n",
    "LSTM_OUT = 50\n",
    "\n",
    "model = Sequential()\n",
    "model.add(Embedding(total_words, EMBED_DIM, input_length = max_length))\n",
    "model.add(LSTM(LSTM_OUT,return_sequences = True))\n",
    "model.add(LSTM(25))\n",
    "\n",
    "model.add(Dense(50,activation= 'relu'))\n",
    "model.add(Dropout(0.5))\n",
    "model.add(Dense(1, activation='sigmoid'))\n",
    "model.compile(optimizer = tf.keras.optimizers.Adam(learning_rate=0.0001, beta_1=0.9, beta_2=0.999, epsilon=1e-7), loss = 'binary_crossentropy', metrics = ['accuracy'])\n",
    "\n",
    "print(model.summary())"
   ]
  },
  {
   "cell_type": "code",
   "execution_count": 360,
   "id": "71b42548-d679-4c1d-bc24-488ea5f9953f",
   "metadata": {},
   "outputs": [],
   "source": [
    "\n",
    "file_name = 'model_LSTM.h5'\n",
    "checkpoint_path =os.path.join('models',file_name)\n",
    "\n",
    "call_backs = tf.keras.callbacks.ModelCheckpoint(filepath =checkpoint_path,\n",
    "                                               monitor ='val_accuracy',\n",
    "                                               verbose =1,\n",
    "                                               save_freq='epoch',\n",
    "                                               save_best_only = False,\n",
    "                                               save_weights_only= False,\n",
    "                                               mode = 'max')"
   ]
  },
  {
   "cell_type": "code",
   "execution_count": null,
   "id": "411b19da-1795-4c7c-ac39-f55d5646eede",
   "metadata": {},
   "outputs": [],
   "source": []
  },
  {
   "cell_type": "code",
   "execution_count": 320,
   "id": "946b8394-90b6-4919-987f-6038aaf8a094",
   "metadata": {},
   "outputs": [
    {
     "name": "stdout",
     "output_type": "stream",
     "text": [
      "Epoch 1/10\n",
      "250/250 [==============================] - 236s 943ms/step - loss: 0.6931 - accuracy: 0.5004 - val_loss: 0.6928 - val_accuracy: 0.5054\n",
      "\n",
      "Epoch 00001: saving model to models\\model_LSTM.h5\n",
      "Epoch 2/10\n",
      "250/250 [==============================] - 238s 952ms/step - loss: 0.6315 - accuracy: 0.6211 - val_loss: 0.4255 - val_accuracy: 0.8317\n",
      "\n",
      "Epoch 00002: saving model to models\\model_LSTM.h5\n",
      "Epoch 3/10\n",
      "250/250 [==============================] - 230s 922ms/step - loss: 0.3355 - accuracy: 0.8767 - val_loss: 0.2984 - val_accuracy: 0.8752\n",
      "\n",
      "Epoch 00003: saving model to models\\model_LSTM.h5\n",
      "Epoch 4/10\n",
      "250/250 [==============================] - 222s 886ms/step - loss: 0.2101 - accuracy: 0.9305 - val_loss: 0.2964 - val_accuracy: 0.8839\n",
      "\n",
      "Epoch 00004: saving model to models\\model_LSTM.h5\n",
      "Epoch 5/10\n",
      "250/250 [==============================] - 184s 735ms/step - loss: 0.1400 - accuracy: 0.9594 - val_loss: 0.3693 - val_accuracy: 0.8791\n",
      "\n",
      "Epoch 00005: saving model to models\\model_LSTM.h5\n",
      "Epoch 6/10\n",
      "250/250 [==============================] - 179s 716ms/step - loss: 0.0993 - accuracy: 0.9741 - val_loss: 0.3878 - val_accuracy: 0.8761\n",
      "\n",
      "Epoch 00006: saving model to models\\model_LSTM.h5\n",
      "Epoch 7/10\n",
      "250/250 [==============================] - 178s 712ms/step - loss: 0.0716 - accuracy: 0.9831 - val_loss: 0.4233 - val_accuracy: 0.8730\n",
      "\n",
      "Epoch 00007: saving model to models\\model_LSTM.h5\n",
      "Epoch 8/10\n",
      "250/250 [==============================] - 186s 744ms/step - loss: 0.0621 - accuracy: 0.9859 - val_loss: 0.4703 - val_accuracy: 0.8733\n",
      "\n",
      "Epoch 00008: saving model to models\\model_LSTM.h5\n",
      "Epoch 9/10\n",
      "250/250 [==============================] - 207s 828ms/step - loss: 0.0463 - accuracy: 0.9915 - val_loss: 0.5538 - val_accuracy: 0.8701\n",
      "\n",
      "Epoch 00009: saving model to models\\model_LSTM.h5\n",
      "Epoch 10/10\n",
      "250/250 [==============================] - 203s 813ms/step - loss: 0.0378 - accuracy: 0.9931 - val_loss: 0.5793 - val_accuracy: 0.8637\n",
      "\n",
      "Epoch 00010: saving model to models\\model_LSTM.h5\n"
     ]
    }
   ],
   "source": [
    "history = model.fit(X_train, y_train, epochs= 10,\n",
    "                    batch_size = 128, verbose = 1,\n",
    "                   validation_split = 0.2,callbacks=call_backs)"
   ]
  },
  {
   "cell_type": "code",
   "execution_count": 361,
   "id": "3159340b-2f91-4a7a-84c7-d7f04cd0f5c9",
   "metadata": {},
   "outputs": [],
   "source": [
    "file_name = 'model_LSTM1.h5'\n",
    "checkpoint_path =os.path.join('models',file_name)\n",
    "\n",
    "call_backs = tf.keras.callbacks.ModelCheckpoint(filepath =checkpoint_path,\n",
    "                                               monitor ='val_accuracy',\n",
    "                                               verbose =1,\n",
    "                                               save_freq='epoch',\n",
    "                                               save_best_only = False,\n",
    "                                               save_weights_only= False,\n",
    "                                               mode = 'max')"
   ]
  },
  {
   "cell_type": "code",
   "execution_count": 362,
   "id": "ce310243-c456-446d-83b8-757d58d1bd72",
   "metadata": {},
   "outputs": [
    {
     "name": "stdout",
     "output_type": "stream",
     "text": [
      "Epoch 1/5\n",
      "250/250 [==============================] - 237s 922ms/step - loss: 0.6930 - accuracy: 0.5138 - val_loss: 0.6926 - val_accuracy: 0.5343\n",
      "\n",
      "Epoch 00001: saving model to models\\model_LSTM1.h5\n",
      "Epoch 2/5\n",
      "250/250 [==============================] - 223s 890ms/step - loss: 0.6177 - accuracy: 0.6401 - val_loss: 0.3908 - val_accuracy: 0.8381\n",
      "\n",
      "Epoch 00002: saving model to models\\model_LSTM1.h5\n",
      "Epoch 3/5\n",
      "250/250 [==============================] - 218s 874ms/step - loss: 0.3240 - accuracy: 0.8825 - val_loss: 0.3136 - val_accuracy: 0.8714\n",
      "\n",
      "Epoch 00003: saving model to models\\model_LSTM1.h5\n",
      "Epoch 4/5\n",
      "250/250 [==============================] - 223s 891ms/step - loss: 0.2090 - accuracy: 0.9329 - val_loss: 0.3183 - val_accuracy: 0.8750\n",
      "\n",
      "Epoch 00004: saving model to models\\model_LSTM1.h5\n",
      "Epoch 5/5\n",
      "250/250 [==============================] - 224s 897ms/step - loss: 0.1478 - accuracy: 0.9585 - val_loss: 0.3541 - val_accuracy: 0.8710\n",
      "\n",
      "Epoch 00005: saving model to models\\model_LSTM1.h5\n"
     ]
    }
   ],
   "source": [
    "history = model.fit(X_train, y_train, epochs= 5,\n",
    "                    batch_size = 128, verbose = 1,\n",
    "                   validation_split = 0.2,callbacks=call_backs)"
   ]
  },
  {
   "cell_type": "code",
   "execution_count": null,
   "id": "4b5f975d-093b-42f4-be46-84b28d46089c",
   "metadata": {},
   "outputs": [],
   "source": [
    "'''history = model.fit(X_train, y_train, epochs= 2,\n",
    "                    batch_size = 128, verbose = 1,\n",
    "                   validation_split = 0.2,callbacks=call_backs)'''"
   ]
  },
  {
   "cell_type": "markdown",
   "id": "386349d5-3481-4b6e-b895-738630246dd6",
   "metadata": {},
   "source": [
    "***Evaluating LSTM***"
   ]
  },
  {
   "cell_type": "code",
   "execution_count": 365,
   "id": "d17ab06d-76eb-4147-96c3-22fa5065ce44",
   "metadata": {},
   "outputs": [],
   "source": [
    "def predict(path):\n",
    "    y_pred= []\n",
    "    loaded_model = load_model(path)\n",
    "    pred = loaded_model.predict(X_test)\n",
    "    \n",
    "    for i in pred:\n",
    "        if i>0.5:\n",
    "\n",
    "            y_pred.append(1)\n",
    "        else:\n",
    "            y_pred.append(0)\n",
    "    return y_pred\n",
    "        "
   ]
  },
  {
   "cell_type": "code",
   "execution_count": 376,
   "id": "4c732a22-a28a-4728-8e46-1e9d72c02a8e",
   "metadata": {},
   "outputs": [],
   "source": [
    "#predict('models/model_LSTM.h5')\n",
    "#predict('models/model_LSTM1.h5')"
   ]
  },
  {
   "cell_type": "code",
   "execution_count": 371,
   "id": "440a5a1c-bc2d-4e3b-bffb-8b18a07452a5",
   "metadata": {},
   "outputs": [
    {
     "name": "stdout",
     "output_type": "stream",
     "text": [
      "Accuracy for LSTM1 is 0.4991\n"
     ]
    }
   ],
   "source": [
    "#print(\"Accuracy for LSTM is\",metrics.accuracy_score(y_test,y_pred_svm))\n",
    "print(\"Accuracy for LSTM1 is\",metrics.accuracy_score(y_test,y_pred))"
   ]
  },
  {
   "cell_type": "code",
   "execution_count": 327,
   "id": "0f4001d1-3685-4b1a-8f28-aa36adf41b1c",
   "metadata": {},
   "outputs": [
    {
     "name": "stdout",
     "output_type": "stream",
     "text": [
      "Confusion Matrix for LSTM\n",
      "[[4077  936]\n",
      " [ 745 4242]]\n"
     ]
    }
   ],
   "source": [
    "print(\"Confusion Matrix for LSTM\")\n",
    "confusion=metrics.confusion_matrix(y_test,y_pred_svm)\n",
    "print(confusion)"
   ]
  },
  {
   "cell_type": "code",
   "execution_count": 328,
   "id": "d84dade2-b471-4679-a5d5-350f609f29ef",
   "metadata": {},
   "outputs": [
    {
     "name": "stdout",
     "output_type": "stream",
     "text": [
      "Classification report for LSTM model\n",
      "\n",
      "\n",
      "              precision    recall  f1-score   support\n",
      "\n",
      "           0       0.82      0.80      0.81      5013\n",
      "           1       0.80      0.83      0.82      4987\n",
      "\n",
      "    accuracy                           0.81     10000\n",
      "   macro avg       0.81      0.81      0.81     10000\n",
      "weighted avg       0.81      0.81      0.81     10000\n",
      "\n"
     ]
    }
   ],
   "source": [
    "print(\"Classification report for LSTM model\\n\\n\")\n",
    "print(classification_report(y_test,y_pred))"
   ]
  },
  {
   "cell_type": "code",
   "execution_count": 329,
   "id": "891bdfd8-16d3-48d8-b0af-83a707e204c6",
   "metadata": {},
   "outputs": [
    {
     "data": {
      "text/plain": [
       "<matplotlib.legend.Legend at 0x1dad4d93ca0>"
      ]
     },
     "execution_count": 329,
     "metadata": {},
     "output_type": "execute_result"
    },
    {
     "data": {
      "image/png": "[encoded data removed]",
      "text/plain": [
       "<Figure size 1152x432 with 1 Axes>"
      ]
     },
     "metadata": {
      "needs_background": "light"
     },
     "output_type": "display_data"
    }
   ],
   "source": [
    "#Prediction for LSTM model\n",
    "y_pred = y_pred.reshape(y_pred.shape[0],)\n",
    "df_pred = pd.DataFrame(data={'y_actual': y_test, 'y_pred': y_pred})\n",
    "\n",
    "plt.figure(figsize=(16, 6))\n",
    "\n",
    "msk = df_pred['y_actual'] == 0\n",
    "sns.distplot(df_pred.loc[msk, 'y_pred'], label='negative reviews', kde=False)\n",
    "sns.distplot(df_pred.loc[~msk, 'y_pred'], label='positive reviews', kde=False)\n",
    "\n",
    "\n",
    "plt.legend()\n"
   ]
  },
  {
   "cell_type": "code",
   "execution_count": null,
   "id": "162f4d0c-ee00-4cd0-9812-596c60d82d40",
   "metadata": {},
   "outputs": [],
   "source": []
  },
  {
   "cell_type": "code",
   "execution_count": 331,
   "id": "891526f9-66a1-4b19-ab77-9e866e3adcb3",
   "metadata": {},
   "outputs": [],
   "source": [
    "#Plot ROC, AUC from LSTMExp.ipynb"
   ]
  },
  {
   "cell_type": "markdown",
   "id": "e975ad03-bd27-483c-818d-057f1feef3bb",
   "metadata": {},
   "source": [
    "Conclusion:\n",
    "Accuracy using Multinomial Naive Bayes(BOW) is 81%.\n",
    "\n",
    "Accuracy using Svm(BOW) is 83%.\n",
    "\n",
    "Accuracy using Recurrent neural network(RNN) with LSTM and dropout is 83%\n",
    "\n",
    "LSTM model gives best accuracy among all with 83.19% on training and testing dataset.\n",
    "Using the RNN(LSTM) with two hidden layer is also best which yield 82% accuracy on both training and testing dataset.\n",
    "Neural Network models effective for sentiment analysis on IMDB reviews.\n",
    "Optimizing the model furthur may may yield better result using more data."
   ]
  },
  {
   "cell_type": "code",
   "execution_count": null,
   "id": "e9e5b14f-0005-4f11-8133-81b0db37fde1",
   "metadata": {},
   "outputs": [],
   "source": []
  }
 ],
 "metadata": {
  "kernelspec": {
   "display_name": "Python 3 (ipykernel)",
   "language": "python",
   "name": "python3"
  },
  "language_info": {
   "codemirror_mode": {
    "name": "ipython",
    "version": 3
   },
   "file_extension": ".py",
   "mimetype": "text/x-python",
   "name": "python",
   "nbconvert_exporter": "python",
   "pygments_lexer": "ipython3",
   "version": "3.8.5"
  }
 },
 "nbformat": 4,
 "nbformat_minor": 5
}
