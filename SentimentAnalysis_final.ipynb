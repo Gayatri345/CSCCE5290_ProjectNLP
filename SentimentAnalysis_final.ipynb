{
 "cells": [
  {
   "cell_type": "markdown",
   "id": "a2ae01c5-0090-4a6a-9b6f-09122f016f98",
   "metadata": {},
   "source": [
    "***Importing Libraries***"
   ]
  },
  {
   "cell_type": "code",
   "execution_count": 1,
   "id": "6c9a9f78-e390-4500-8efa-7dc5bedce6a6",
   "metadata": {},
   "outputs": [],
   "source": [
    "import pandas as pd #To read dataset/inputs in to dataframe\n",
    "import seaborn as sns #To get visual representation of metrics/dataset\n",
    "import matplotlib.pyplot as plt #To plot a graph\n",
    "%matplotlib inline\n",
    "import warnings #To ignore warnings\n",
    "warnings.filterwarnings('ignore')\n",
    "from sklearn.metrics import roc_curve, auc#To plot ROC curve\n",
    "from keras.layers import Dense, InputLayer, Dropout, Flatten, BatchNormalization, Conv1D#For CNN Layers\n",
    "from keras.layers.pooling import MaxPooling1D#max pooling layer\n",
    "\n",
    "from unidecode import unidecode #To clean text/data\n",
    "import re #To clean text/data\n",
    "from re import sub #To clean text/data\n",
    "\n",
    "\n",
    "from sklearn.model_selection import train_test_split #Splitting the data\n",
    "\n",
    "from sklearn.feature_extraction.text import CountVectorizer #For BoW using Countvectorizer\n",
    "\n",
    "from sklearn.naive_bayes import MultinomialNB #Importing naive bayes model\n",
    "import numpy as np #For array operations\n",
    "from sklearn import metrics #For evaluation of metrics\n",
    "from sklearn.metrics import classification_report,confusion_matrix #Generating classification report\n",
    "import itertools #Used in Confusion matrix visualization\n",
    "from sklearn.feature_extraction.text import TfidfVectorizer #For Tfidf model \n",
    "from sklearn.svm import LinearSVC #For importing SVM model\n",
    "from tensorflow.keras.preprocessing.text import Tokenizer  #For Tokenizing\n",
    "from tensorflow.keras.preprocessing.sequence import pad_sequences  #For sequence padding\n",
    "import tensorflow as tf #For TensorFlow libraries\n",
    "from tensorflow.keras.layers import Embedding, LSTM, Dense, Dropout #LSTM architecture libraries\n",
    "from tensorflow.keras.models import Sequential     #For the model\n",
    "import os #For os functionalities\n",
    "from tensorflow.keras.callbacks import ModelCheckpoint #For write the model\n",
    "from tensorflow.keras.models import load_model #For loading model"
   ]
  },
  {
   "cell_type": "markdown",
   "id": "cc54ffbf-0334-4e0e-9039-d31d137893f2",
   "metadata": {},
   "source": [
    "***Reading the data from the IMDB csv file named as movie_data***"
   ]
  },
  {
   "cell_type": "code",
   "execution_count": 2,
   "id": "107431fe-8c4f-4774-963f-b092ce78ebea",
   "metadata": {},
   "outputs": [],
   "source": [
    "#Reading the data in csv file in to dataframe\n",
    "df = pd.read_csv('movie_data.csv')"
   ]
  },
  {
   "cell_type": "code",
   "execution_count": 3,
   "id": "d6781541-87d8-4730-958a-97109a43d747",
   "metadata": {},
   "outputs": [
    {
     "data": {
      "text/html": [
       "<div>\n",
       "<style scoped>\n",
       "    .dataframe tbody tr th:only-of-type {\n",
       "        vertical-align: middle;\n",
       "    }\n",
       "\n",
       "    .dataframe tbody tr th {\n",
       "        vertical-align: top;\n",
       "    }\n",
       "\n",
       "    .dataframe thead th {\n",
       "        text-align: right;\n",
       "    }\n",
       "</style>\n",
       "<table border=\"1\" class=\"dataframe\">\n",
       "  <thead>\n",
       "    <tr style=\"text-align: right;\">\n",
       "      <th></th>\n",
       "      <th>review</th>\n",
       "      <th>sentiment</th>\n",
       "    </tr>\n",
       "  </thead>\n",
       "  <tbody>\n",
       "    <tr>\n",
       "      <th>0</th>\n",
       "      <td>In 1974, the teenager Martha Moxley (Maggie Gr...</td>\n",
       "      <td>1</td>\n",
       "    </tr>\n",
       "    <tr>\n",
       "      <th>1</th>\n",
       "      <td>OK... so... I really like Kris Kristofferson a...</td>\n",
       "      <td>0</td>\n",
       "    </tr>\n",
       "    <tr>\n",
       "      <th>2</th>\n",
       "      <td>***SPOILER*** Do not read this, if you think a...</td>\n",
       "      <td>0</td>\n",
       "    </tr>\n",
       "    <tr>\n",
       "      <th>3</th>\n",
       "      <td>hi for all the people who have seen this wonde...</td>\n",
       "      <td>1</td>\n",
       "    </tr>\n",
       "    <tr>\n",
       "      <th>4</th>\n",
       "      <td>I recently bought the DVD, forgetting just how...</td>\n",
       "      <td>0</td>\n",
       "    </tr>\n",
       "  </tbody>\n",
       "</table>\n",
       "</div>"
      ],
      "text/plain": [
       "                                              review  sentiment\n",
       "0  In 1974, the teenager Martha Moxley (Maggie Gr...          1\n",
       "1  OK... so... I really like Kris Kristofferson a...          0\n",
       "2  ***SPOILER*** Do not read this, if you think a...          0\n",
       "3  hi for all the people who have seen this wonde...          1\n",
       "4  I recently bought the DVD, forgetting just how...          0"
      ]
     },
     "execution_count": 3,
     "metadata": {},
     "output_type": "execute_result"
    }
   ],
   "source": [
    "#Exploring data\n",
    "df.head()\n",
    "#df.shape"
   ]
  },
  {
   "cell_type": "markdown",
   "id": "819eb3b1-b547-4760-9fbf-2d18d0b29ebe",
   "metadata": {},
   "source": [
    "****Analysing csv file data***"
   ]
  },
  {
   "cell_type": "code",
   "execution_count": 4,
   "id": "415c19f5-cd88-4f8a-8713-e116afffdead",
   "metadata": {},
   "outputs": [
    {
     "data": {
      "text/plain": [
       "1    25000\n",
       "0    25000\n",
       "Name: sentiment, dtype: int64"
      ]
     },
     "execution_count": 4,
     "metadata": {},
     "output_type": "execute_result"
    }
   ],
   "source": [
    "# Getting total number of positive and negative reviews from the datset\n",
    "\n",
    "df['sentiment'].value_counts()\n",
    "\n",
    "# 1- represents positive review\n",
    "# 2- represents negative review"
   ]
  },
  {
   "cell_type": "code",
   "execution_count": 5,
   "id": "fdcefb42-8102-45b6-9f42-78042ef5ffb4",
   "metadata": {},
   "outputs": [
    {
     "name": "stdout",
     "output_type": "stream",
     "text": [
      "             Reviews count\n"
     ]
    },
    {
     "data": {
      "text/plain": [
       "<AxesSubplot:>"
      ]
     },
     "execution_count": 5,
     "metadata": {},
     "output_type": "execute_result"
    },
    {
     "data": {
      "image/png": "[encoded data removed]",
      "text/plain": [
       "<Figure size 432x288 with 1 Axes>"
      ]
     },
     "metadata": {
      "needs_background": "light"
     },
     "output_type": "display_data"
    }
   ],
   "source": [
    "print(\"             Reviews count\")\n",
    "df.sentiment.value_counts().sort_values().plot(kind = 'barh')"
   ]
  },
  {
   "cell_type": "code",
   "execution_count": 5,
   "id": "17541efc-0d19-4db0-9afc-ddb5d789770e",
   "metadata": {},
   "outputs": [],
   "source": [
    "#This shows our dataset is balanced with both the classes"
   ]
  },
  {
   "cell_type": "markdown",
   "id": "079fcd71-229c-431c-a65f-f2cb5a642ec3",
   "metadata": {},
   "source": [
    "***Cleaning the data***"
   ]
  },
  {
   "cell_type": "code",
   "execution_count": 6,
   "id": "5e4eb5ed-4b38-4389-83bd-e3b966a40aac",
   "metadata": {},
   "outputs": [],
   "source": [
    "#After many data cleaning techniques we merged all our ideas into this function and using unidecode to remove polish letters.\n",
    "def clean_data(text,remove_polish_letters):\n",
    "    ''' Pre process and convert texts to a list of words \n",
    "    method inspired by method from eliorc github repo: https://github.com/eliorc/Medium/blob/master/MaLSTM.ipynb'''\n",
    "    text = remove_polish_letters(text)\n",
    "    text = str(text)\n",
    "    text = text.lower()\n",
    "\n",
    "    # Clean the text\n",
    "    text = sub(r\"[^A-Za-z0-9^,!?.\\/'+]\", \" \", text)\n",
    "    #Removes special characters\n",
    "    text = sub(r\"\\+\", \" plus \", text)\n",
    "    text = sub(r\",\", \" \", text)\n",
    "    text = sub(r\"\\.\", \" \", text)\n",
    "    text = sub(r\"!\", \" ! \", text)\n",
    "    text = sub(r\"\\?\", \" ? \", text)\n",
    "    text = sub(r\"'\", \" \", text)\n",
    "    #Removes : with and without spaces\n",
    "    text = sub(r\":\", \" : \", text)\n",
    "    #Removes matches more than 2 white spaces\n",
    "    text = sub(r\"\\s{2,}\", \" \", text)\n",
    "    #Removes digits\n",
    "    text = sub(\" \\d+\", \" \", text)\n",
    "\n",
    "    #text = text.split()\n",
    "\n",
    "    return text\n",
    "#Applying clean_data to every review in our dataset\n",
    "df.review = df.review.apply(lambda x: clean_data(x, unidecode))"
   ]
  },
  {
   "cell_type": "code",
   "execution_count": 7,
   "id": "714570f4-a5fb-453c-8d73-b661fb4bcd16",
   "metadata": {},
   "outputs": [
    {
     "data": {
      "text/html": [
       "<div>\n",
       "<style scoped>\n",
       "    .dataframe tbody tr th:only-of-type {\n",
       "        vertical-align: middle;\n",
       "    }\n",
       "\n",
       "    .dataframe tbody tr th {\n",
       "        vertical-align: top;\n",
       "    }\n",
       "\n",
       "    .dataframe thead th {\n",
       "        text-align: right;\n",
       "    }\n",
       "</style>\n",
       "<table border=\"1\" class=\"dataframe\">\n",
       "  <thead>\n",
       "    <tr style=\"text-align: right;\">\n",
       "      <th></th>\n",
       "      <th>review</th>\n",
       "      <th>sentiment</th>\n",
       "    </tr>\n",
       "  </thead>\n",
       "  <tbody>\n",
       "    <tr>\n",
       "      <th>0</th>\n",
       "      <td>in  the teenager martha moxley maggie grace mo...</td>\n",
       "      <td>1</td>\n",
       "    </tr>\n",
       "    <tr>\n",
       "      <th>1</th>\n",
       "      <td>ok so i really like kris kristofferson and his...</td>\n",
       "      <td>0</td>\n",
       "    </tr>\n",
       "    <tr>\n",
       "      <th>2</th>\n",
       "      <td>spoiler do not read this if you think about w...</td>\n",
       "      <td>0</td>\n",
       "    </tr>\n",
       "    <tr>\n",
       "      <th>3</th>\n",
       "      <td>hi for all the people who have seen this wonde...</td>\n",
       "      <td>1</td>\n",
       "    </tr>\n",
       "    <tr>\n",
       "      <th>4</th>\n",
       "      <td>i recently bought the dvd forgetting just how ...</td>\n",
       "      <td>0</td>\n",
       "    </tr>\n",
       "  </tbody>\n",
       "</table>\n",
       "</div>"
      ],
      "text/plain": [
       "                                              review  sentiment\n",
       "0  in  the teenager martha moxley maggie grace mo...          1\n",
       "1  ok so i really like kris kristofferson and his...          0\n",
       "2   spoiler do not read this if you think about w...          0\n",
       "3  hi for all the people who have seen this wonde...          1\n",
       "4  i recently bought the dvd forgetting just how ...          0"
      ]
     },
     "execution_count": 7,
     "metadata": {},
     "output_type": "execute_result"
    }
   ],
   "source": [
    "df.head()"
   ]
  },
  {
   "cell_type": "code",
   "execution_count": 8,
   "id": "36fe3590-7d67-4beb-a3af-13c4facce6f6",
   "metadata": {},
   "outputs": [
    {
     "data": {
      "text/plain": [
       "'in  the teenager martha moxley maggie grace moves to the high class area of belle haven greenwich connecticut on the mischief night eve of halloween she was murdered in the backyard of her house and her murder remained unsolved twenty two years later the writer mark fuhrman christopher meloni who is a former la detective that has fallen in disgrace for perjury in o j simpson trial and moved to idaho decides to investigate the case with his partner stephen weeks andrew mitchell with the purpose of writing a book the locals squirm and do not welcome them but with the support of the retired detective steve carroll robert forster that was in charge of the investigation in the  s they discover the criminal and a net of power and money to cover the murder br / br / murder in greenwich is a good tv movie with the true story of a murder of a fifteen years old girl that was committed by a wealthy teenager whose mother was a kennedy the powerful and rich family used their influence to cover the murder for more than twenty years however a snoopy detective and convicted perjurer in disgrace was able to disclose how the hideous crime was committed the screenplay shows the investigation of mark and the last days of martha in parallel but there is a lack of the emotion in the dramatization my vote is seven br / br / title brazil not available'"
      ]
     },
     "execution_count": 8,
     "metadata": {},
     "output_type": "execute_result"
    }
   ],
   "source": [
    "df['review'][0]"
   ]
  },
  {
   "cell_type": "code",
   "execution_count": 9,
   "id": "7f3c79cd-07d9-4cd4-98ac-e33616136154",
   "metadata": {},
   "outputs": [
    {
     "data": {
      "text/plain": [
       "(50000, 2)"
      ]
     },
     "execution_count": 9,
     "metadata": {},
     "output_type": "execute_result"
    }
   ],
   "source": [
    "df.shape"
   ]
  },
  {
   "cell_type": "code",
   "execution_count": 10,
   "id": "d118cd4e-5c61-49a5-a721-4be9b4b57316",
   "metadata": {},
   "outputs": [],
   "source": [
    "import nltk\n",
    "#nltk.download('stopwords')"
   ]
  },
  {
   "cell_type": "code",
   "execution_count": 11,
   "id": "93883bdd-6ed4-49db-96f3-0b6a3ee21a06",
   "metadata": {},
   "outputs": [],
   "source": [
    "from nltk.corpus import stopwords#Removing stopwords\n",
    "from nltk.stem.porter import PorterStemmer#For stemming\n",
    "from nltk.tokenize.toktok import ToktokTokenizer#For Tokenizing\n",
    "#Tokenization of text\n",
    "tokenizer=ToktokTokenizer()\n",
    "#Setting English stopwords\n",
    "stopword_list=nltk.corpus.stopwords.words('english')"
   ]
  },
  {
   "cell_type": "code",
   "execution_count": 12,
   "id": "32a39ff0-fe57-449d-a9c7-e2458d6e497f",
   "metadata": {},
   "outputs": [],
   "source": [
    "#df['review'][0]"
   ]
  },
  {
   "cell_type": "code",
   "execution_count": 13,
   "id": "38a3990a-267c-4783-a5f2-a425434b4190",
   "metadata": {},
   "outputs": [],
   "source": [
    "#df.head()"
   ]
  },
  {
   "cell_type": "code",
   "execution_count": 14,
   "id": "d0b9a1e3-7701-442d-875b-3f908b30d2a2",
   "metadata": {},
   "outputs": [],
   "source": [
    "#Stemming the text\n",
    "def simple_stemmer(text):\n",
    "    ps=nltk.porter.PorterStemmer()\n",
    "    text= ' '.join([ps.stem(word) for word in text.split()])\n",
    "    return text\n",
    "#Apply function on review column\n",
    "df['review']=df['review'].apply(simple_stemmer)\n"
   ]
  },
  {
   "cell_type": "code",
   "execution_count": 15,
   "id": "11dd02b9-5ff7-4090-9053-7144db86ec14",
   "metadata": {},
   "outputs": [
    {
     "data": {
      "text/plain": [
       "'in the teenag martha moxley maggi grace move to the high class area of bell haven greenwich connecticut on the mischief night eve of halloween she wa murder in the backyard of her hous and her murder remain unsolv twenti two year later the writer mark fuhrman christoph meloni who is a former la detect that ha fallen in disgrac for perjuri in o j simpson trial and move to idaho decid to investig the case with hi partner stephen week andrew mitchel with the purpos of write a book the local squirm and do not welcom them but with the support of the retir detect steve carrol robert forster that wa in charg of the investig in the s they discov the crimin and a net of power and money to cover the murder br / br / murder in greenwich is a good tv movi with the true stori of a murder of a fifteen year old girl that wa commit by a wealthi teenag whose mother wa a kennedi the power and rich famili use their influenc to cover the murder for more than twenti year howev a snoopi detect and convict perjur in disgrac wa abl to disclos how the hideou crime wa commit the screenplay show the investig of mark and the last day of martha in parallel but there is a lack of the emot in the dramat my vote is seven br / br / titl brazil not avail'"
      ]
     },
     "execution_count": 15,
     "metadata": {},
     "output_type": "execute_result"
    }
   ],
   "source": [
    "df['review'][0]"
   ]
  },
  {
   "cell_type": "code",
   "execution_count": 16,
   "id": "4856c776-5d16-41c5-82d2-763abf647d53",
   "metadata": {},
   "outputs": [
    {
     "data": {
      "text/html": [
       "<div>\n",
       "<style scoped>\n",
       "    .dataframe tbody tr th:only-of-type {\n",
       "        vertical-align: middle;\n",
       "    }\n",
       "\n",
       "    .dataframe tbody tr th {\n",
       "        vertical-align: top;\n",
       "    }\n",
       "\n",
       "    .dataframe thead th {\n",
       "        text-align: right;\n",
       "    }\n",
       "</style>\n",
       "<table border=\"1\" class=\"dataframe\">\n",
       "  <thead>\n",
       "    <tr style=\"text-align: right;\">\n",
       "      <th></th>\n",
       "      <th>review</th>\n",
       "      <th>sentiment</th>\n",
       "    </tr>\n",
       "  </thead>\n",
       "  <tbody>\n",
       "    <tr>\n",
       "      <th>0</th>\n",
       "      <td>in the teenag martha moxley maggi grace move t...</td>\n",
       "      <td>1</td>\n",
       "    </tr>\n",
       "    <tr>\n",
       "      <th>1</th>\n",
       "      <td>ok so i realli like kri kristofferson and hi u...</td>\n",
       "      <td>0</td>\n",
       "    </tr>\n",
       "    <tr>\n",
       "      <th>2</th>\n",
       "      <td>spoiler do not read thi if you think about wat...</td>\n",
       "      <td>0</td>\n",
       "    </tr>\n",
       "    <tr>\n",
       "      <th>3</th>\n",
       "      <td>hi for all the peopl who have seen thi wonder ...</td>\n",
       "      <td>1</td>\n",
       "    </tr>\n",
       "    <tr>\n",
       "      <th>4</th>\n",
       "      <td>i recent bought the dvd forget just how much i...</td>\n",
       "      <td>0</td>\n",
       "    </tr>\n",
       "  </tbody>\n",
       "</table>\n",
       "</div>"
      ],
      "text/plain": [
       "                                              review  sentiment\n",
       "0  in the teenag martha moxley maggi grace move t...          1\n",
       "1  ok so i realli like kri kristofferson and hi u...          0\n",
       "2  spoiler do not read thi if you think about wat...          0\n",
       "3  hi for all the peopl who have seen thi wonder ...          1\n",
       "4  i recent bought the dvd forget just how much i...          0"
      ]
     },
     "execution_count": 16,
     "metadata": {},
     "output_type": "execute_result"
    }
   ],
   "source": [
    "df.head()"
   ]
  },
  {
   "cell_type": "code",
   "execution_count": 17,
   "id": "07b4867a-8a34-447e-8cd1-eb54293c8d9c",
   "metadata": {},
   "outputs": [],
   "source": [
    "#set stopwords to english\n",
    "stop=set(stopwords.words('english'))\n",
    "\n",
    "#removing the stopwords\n",
    "def remove_stopwords(text, is_lower_case=False):\n",
    "    tokens = tokenizer.tokenize(text)\n",
    "    tokens = [token.strip() for token in tokens]\n",
    "    if is_lower_case:\n",
    "        filtered_tokens = [token for token in tokens if token not in stopword_list]\n",
    "    else:\n",
    "        filtered_tokens = [token for token in tokens if token.lower() not in stopword_list]\n",
    "    filtered_text = ' '.join(filtered_tokens)    \n",
    "    return filtered_text\n",
    "#Apply function on review column\n",
    "df['review']=df['review'].apply(remove_stopwords)"
   ]
  },
  {
   "cell_type": "code",
   "execution_count": 18,
   "id": "83ad9e2a-172d-4eb6-90fc-a102ca230be1",
   "metadata": {},
   "outputs": [
    {
     "data": {
      "text/html": [
       "<div>\n",
       "<style scoped>\n",
       "    .dataframe tbody tr th:only-of-type {\n",
       "        vertical-align: middle;\n",
       "    }\n",
       "\n",
       "    .dataframe tbody tr th {\n",
       "        vertical-align: top;\n",
       "    }\n",
       "\n",
       "    .dataframe thead th {\n",
       "        text-align: right;\n",
       "    }\n",
       "</style>\n",
       "<table border=\"1\" class=\"dataframe\">\n",
       "  <thead>\n",
       "    <tr style=\"text-align: right;\">\n",
       "      <th></th>\n",
       "      <th>review</th>\n",
       "      <th>sentiment</th>\n",
       "    </tr>\n",
       "  </thead>\n",
       "  <tbody>\n",
       "    <tr>\n",
       "      <th>0</th>\n",
       "      <td>teenag martha moxley maggi grace move high cla...</td>\n",
       "      <td>1</td>\n",
       "    </tr>\n",
       "    <tr>\n",
       "      <th>1</th>\n",
       "      <td>ok realli like kri kristofferson hi usual easi...</td>\n",
       "      <td>0</td>\n",
       "    </tr>\n",
       "    <tr>\n",
       "      <th>2</th>\n",
       "      <td>spoiler read thi think watch movi although wou...</td>\n",
       "      <td>0</td>\n",
       "    </tr>\n",
       "    <tr>\n",
       "      <th>3</th>\n",
       "      <td>hi peopl seen thi wonder movi im sure thet wou...</td>\n",
       "      <td>1</td>\n",
       "    </tr>\n",
       "    <tr>\n",
       "      <th>4</th>\n",
       "      <td>recent bought dvd forget much hate movi versio...</td>\n",
       "      <td>0</td>\n",
       "    </tr>\n",
       "  </tbody>\n",
       "</table>\n",
       "</div>"
      ],
      "text/plain": [
       "                                              review  sentiment\n",
       "0  teenag martha moxley maggi grace move high cla...          1\n",
       "1  ok realli like kri kristofferson hi usual easi...          0\n",
       "2  spoiler read thi think watch movi although wou...          0\n",
       "3  hi peopl seen thi wonder movi im sure thet wou...          1\n",
       "4  recent bought dvd forget much hate movi versio...          0"
      ]
     },
     "execution_count": 18,
     "metadata": {},
     "output_type": "execute_result"
    }
   ],
   "source": [
    "df.head()"
   ]
  },
  {
   "cell_type": "code",
   "execution_count": 19,
   "id": "5c97157a-6e51-4b36-9871-cffdd1bae584",
   "metadata": {},
   "outputs": [
    {
     "data": {
      "text/plain": [
       "'teenag martha moxley maggi grace move high class area bell greenwich connecticut mischief night eve halloween wa murder backyard hous murder remain unsolv twenti two year later writer mark fuhrman christoph meloni former la detect ha fallen disgrac perjuri j simpson trial move idaho decid investig case hi partner stephen week andrew mitchel purpos write book local squirm welcom support retir detect steve carrol robert forster wa charg investig discov crimin net power money cover murder br / br / murder greenwich good tv movi true stori murder fifteen year old girl wa commit wealthi teenag whose mother wa kennedi power rich famili use influenc cover murder twenti year howev snoopi detect convict perjur disgrac wa abl disclos hideou crime wa commit screenplay show investig mark last day martha parallel lack emot dramat vote seven br / br / titl brazil avail'"
      ]
     },
     "execution_count": 19,
     "metadata": {},
     "output_type": "execute_result"
    }
   ],
   "source": [
    "df['review'][0]"
   ]
  },
  {
   "cell_type": "code",
   "execution_count": 45,
   "id": "45f741ec-0e65-4e45-ab22-47be751e23c5",
   "metadata": {},
   "outputs": [
    {
     "data": {
      "text/html": [
       "<div>\n",
       "<style scoped>\n",
       "    .dataframe tbody tr th:only-of-type {\n",
       "        vertical-align: middle;\n",
       "    }\n",
       "\n",
       "    .dataframe tbody tr th {\n",
       "        vertical-align: top;\n",
       "    }\n",
       "\n",
       "    .dataframe thead th {\n",
       "        text-align: right;\n",
       "    }\n",
       "</style>\n",
       "<table border=\"1\" class=\"dataframe\">\n",
       "  <thead>\n",
       "    <tr style=\"text-align: right;\">\n",
       "      <th></th>\n",
       "      <th>review</th>\n",
       "      <th>sentiment</th>\n",
       "    </tr>\n",
       "  </thead>\n",
       "  <tbody>\n",
       "    <tr>\n",
       "      <th>0</th>\n",
       "      <td>teenag martha moxley maggi grace move high cla...</td>\n",
       "      <td>1</td>\n",
       "    </tr>\n",
       "    <tr>\n",
       "      <th>1</th>\n",
       "      <td>ok realli like kri kristofferson hi usual easi...</td>\n",
       "      <td>0</td>\n",
       "    </tr>\n",
       "    <tr>\n",
       "      <th>2</th>\n",
       "      <td>spoiler read thi think watch movi although wou...</td>\n",
       "      <td>0</td>\n",
       "    </tr>\n",
       "    <tr>\n",
       "      <th>3</th>\n",
       "      <td>hi peopl seen thi wonder movi im sure thet wou...</td>\n",
       "      <td>1</td>\n",
       "    </tr>\n",
       "    <tr>\n",
       "      <th>4</th>\n",
       "      <td>recent bought dvd forget much hate movi versio...</td>\n",
       "      <td>0</td>\n",
       "    </tr>\n",
       "  </tbody>\n",
       "</table>\n",
       "</div>"
      ],
      "text/plain": [
       "                                              review  sentiment\n",
       "0  teenag martha moxley maggi grace move high cla...          1\n",
       "1  ok realli like kri kristofferson hi usual easi...          0\n",
       "2  spoiler read thi think watch movi although wou...          0\n",
       "3  hi peopl seen thi wonder movi im sure thet wou...          1\n",
       "4  recent bought dvd forget much hate movi versio...          0"
      ]
     },
     "execution_count": 45,
     "metadata": {},
     "output_type": "execute_result"
    }
   ],
   "source": [
    "df.head()"
   ]
  },
  {
   "cell_type": "markdown",
   "id": "22d9a38d-ec25-460e-a3f9-0d0a4926679c",
   "metadata": {},
   "source": [
    "***Analysing the frequency distribution of data***"
   ]
  },
  {
   "cell_type": "code",
   "execution_count": 20,
   "id": "9244be19-b236-41a4-9ad5-a35401dcb25c",
   "metadata": {},
   "outputs": [],
   "source": [
    "def freq_plot(top_n):\n",
    "    dfarray = df.values\n",
    "    text = dfarray[:,0]\n",
    "    np.array(map(str, text))\n",
    "    text = tokenizer.tokenize(text)\n",
    "    #tokens = [t for t in text.split()]\n",
    "    #print(tokens)\n",
    "    #Plotting the frequency distribution graphs with the tokens\n",
    "    freq = nltk.FreqDist(text)\n",
    "    freq.plot(top_n, cumulative=False)"
   ]
  },
  {
   "cell_type": "code",
   "execution_count": 22,
   "id": "fdaf43cd-7d47-4db2-809f-388f1cfcf81b",
   "metadata": {},
   "outputs": [
    {
     "data": {
      "image/png": "[encoded data removed]",
      "text/plain": [
       "<Figure size 432x288 with 1 Axes>"
      ]
     },
     "metadata": {
      "needs_background": "light"
     },
     "output_type": "display_data"
    }
   ],
   "source": [
    "freq_plot(100)"
   ]
  },
  {
   "cell_type": "markdown",
   "id": "28721605-e9bc-4e5d-bb04-359fee8df8d0",
   "metadata": {},
   "source": [
    "***Preparing the data for training***"
   ]
  },
  {
   "cell_type": "code",
   "execution_count": 23,
   "id": "a4179a37-e081-4c58-91e6-1f4365d40a9f",
   "metadata": {},
   "outputs": [],
   "source": [
    "#Reading all the values of corpus in to an array.\n",
    "\n",
    "df_array = df.values\n",
    "#print(df_array)"
   ]
  },
  {
   "cell_type": "code",
   "execution_count": 24,
   "id": "c864f7ae-3995-4d3c-9d7d-92dc941c9efc",
   "metadata": {},
   "outputs": [],
   "source": [
    "#Reading reviews in to X\n",
    "X=df_array[:,0]\n",
    "\n",
    "#Reading target positive or negative in y\n",
    "y=df_array[:,1]\n",
    "#Changing the type of y from string to int\n",
    "y=y.astype('int')"
   ]
  },
  {
   "cell_type": "markdown",
   "id": "f2b09503-b423-408d-adc1-7194390454da",
   "metadata": {},
   "source": [
    "Now our data is ready to split. For splitting we use skleran train_test_split."
   ]
  },
  {
   "cell_type": "markdown",
   "id": "fd009e13-e392-4f9d-b7ec-774d37a181e4",
   "metadata": {},
   "source": [
    "***Splitting the data for training and testing***"
   ]
  },
  {
   "cell_type": "code",
   "execution_count": 25,
   "id": "6ffea8af-4cfa-4cb6-a849-1b4d30e8ca1a",
   "metadata": {},
   "outputs": [],
   "source": [
    "# Splitting our data into train and test sets\n",
    "# we will use 80% training set and 20% test set\n",
    "\n",
    "X_train, X_test, y_train, y_test = train_test_split(X, y, random_state=0, test_size=0.2, shuffle=False)"
   ]
  },
  {
   "cell_type": "code",
   "execution_count": 26,
   "id": "2dc7edb8-f29d-489d-9e5f-ed434d75a798",
   "metadata": {},
   "outputs": [
    {
     "name": "stdout",
     "output_type": "stream",
     "text": [
      "(40000,) (40000,)\n",
      "(10000,) (10000,)\n"
     ]
    }
   ],
   "source": [
    "#Checking the shape of data splitted\n",
    "\n",
    "print(X_train.shape, y_train.shape)\n",
    "print(X_test.shape, y_test.shape)\n",
    "#X_train.shape\n",
    "#y_train.shape\n",
    "#X_test.shape\n",
    "#y_test.shape"
   ]
  },
  {
   "cell_type": "markdown",
   "id": "d07e23ae-8da4-4799-b9d0-24c02e8a682b",
   "metadata": {},
   "source": [
    "***Features generation for model***"
   ]
  },
  {
   "cell_type": "markdown",
   "id": "f5437c25-4298-43ff-b9a4-9802f72d67fb",
   "metadata": {},
   "source": [
    "***Bags of words model***"
   ]
  },
  {
   "cell_type": "code",
   "execution_count": 27,
   "id": "acd05edd-309e-4936-aa20-e20b7e2e8340",
   "metadata": {},
   "outputs": [
    {
     "data": {
      "text/plain": [
       "CountVectorizer(max_df=0.8, min_df=0.03, stop_words='english')"
      ]
     },
     "execution_count": 27,
     "metadata": {},
     "output_type": "execute_result"
    }
   ],
   "source": [
    "#This model is used to convert text documents to numerical vectors or bag of words.\n",
    "\n",
    "\n",
    "vec=CountVectorizer()\n",
    "vec.fit(X_train)\n",
    "#vec.vocabulary_\n",
    "#print(vec.get_feature_names_out())\n",
    "#print(len(vec.get_feature_names()))\n",
    "\n",
    "#specifying upper and lower dims and removing stop words\n",
    "#These dimensions will help us to remove the numerical values or single values\n",
    "vec=CountVectorizer(stop_words='english',min_df=.03,max_df=0.8)\n",
    "\n",
    "vec.fit(X_train)\n",
    "#vec.vocabulary_\n",
    "\n",
    "#print(vec.get_feature_names())\n",
    "#print(len(vec.get_feature_names()))"
   ]
  },
  {
   "cell_type": "code",
   "execution_count": 28,
   "id": "abba0a84-710b-466c-a09b-6818c74f8e9c",
   "metadata": {},
   "outputs": [],
   "source": [
    "#Ref:https://scikit-learn.org/stable/modules/generated/sklearn.feature_extraction.text.CountVectorizer.html\n",
    "#The first 10 generated features by countvectorizer"
   ]
  },
  {
   "cell_type": "code",
   "execution_count": 46,
   "id": "235a8a88-13de-4a74-86ad-eeaedbda478e",
   "metadata": {},
   "outputs": [
    {
     "data": {
      "text/plain": [
       "['abl',\n",
       " 'abov',\n",
       " 'absolut',\n",
       " 'act',\n",
       " 'action',\n",
       " 'actor',\n",
       " 'actress',\n",
       " 'actual',\n",
       " 'ad',\n",
       " 'add',\n",
       " 'age',\n",
       " 'ago',\n",
       " 'agre',\n",
       " 'allow',\n",
       " 'alon',\n",
       " 'alreadi',\n",
       " 'alway',\n",
       " 'amaz',\n",
       " 'american']"
      ]
     },
     "execution_count": 46,
     "metadata": {},
     "output_type": "execute_result"
    }
   ],
   "source": [
    "vec.get_feature_names()[1:20]"
   ]
  },
  {
   "cell_type": "markdown",
   "id": "426f0b21-3d80-4b37-8405-21bbe2ea5909",
   "metadata": {},
   "source": [
    "When we transform the matrix we get the sparse matrix which does not contain zeros and is a compressed format for easier computation. We use the command to .toarray() to get the ones and zeros back."
   ]
  },
  {
   "cell_type": "markdown",
   "id": "f9f95129-ac2c-4c41-b204-faaca964759c",
   "metadata": {},
   "source": [
    "***For train set:***"
   ]
  },
  {
   "cell_type": "code",
   "execution_count": 47,
   "id": "5ba5c4ba-ba5d-422f-9d4d-8e46cbc24efd",
   "metadata": {},
   "outputs": [
    {
     "data": {
      "text/plain": [
       "<40000x560 sparse matrix of type '<class 'numpy.int64'>'\n",
       "\twith 1820907 stored elements in Compressed Sparse Row format>"
      ]
     },
     "execution_count": 47,
     "metadata": {},
     "output_type": "execute_result"
    }
   ],
   "source": [
    "x_train_transformed=vec.transform(X_train)\n",
    "x_train_transformed"
   ]
  },
  {
   "cell_type": "code",
   "execution_count": 48,
   "id": "797609c1-7ed5-475d-a519-aacbee97cb1c",
   "metadata": {},
   "outputs": [],
   "source": [
    "#converting transformed matrix to an array\n",
    "x_train=x_train_transformed.toarray()"
   ]
  },
  {
   "cell_type": "code",
   "execution_count": 51,
   "id": "4b40605e-8240-48d0-89d9-8b1b246208c3",
   "metadata": {},
   "outputs": [
    {
     "name": "stdout",
     "output_type": "stream",
     "text": [
      "  (0, 1)\t1\n",
      "  (0, 56)\t1\n",
      "  (0, 59)\t4\n",
      "  (0, 73)\t1\n",
      "  (0, 88)\t1\n",
      "  (0, 108)\t2\n",
      "  (0, 118)\t1\n",
      "  (0, 123)\t1\n",
      "  (0, 136)\t1\n",
      "  (0, 150)\t1\n",
      "  (0, 178)\t1\n",
      "  (0, 207)\t1\n",
      "  (0, 211)\t1\n",
      "  (0, 218)\t1\n",
      "  (0, 232)\t1\n",
      "  (0, 233)\t1\n",
      "  (0, 245)\t1\n",
      "  (0, 246)\t1\n",
      "  (0, 271)\t1\n",
      "  (0, 274)\t1\n",
      "  (0, 288)\t1\n",
      "  (0, 316)\t1\n",
      "  (0, 318)\t1\n",
      "  (0, 319)\t1\n",
      "  (0, 321)\t6\n",
      "  (0, 329)\t1\n",
      "  (0, 341)\t1\n",
      "  (0, 375)\t2\n",
      "  (0, 400)\t1\n",
      "  (0, 411)\t1\n",
      "  (0, 471)\t1\n",
      "  (0, 480)\t1\n",
      "  (0, 499)\t1\n",
      "  (0, 508)\t1\n",
      "  (0, 511)\t1\n",
      "  (0, 518)\t1\n",
      "  (0, 529)\t6\n",
      "  (0, 553)\t1\n",
      "  (0, 554)\t1\n",
      "  (0, 558)\t3\n"
     ]
    }
   ],
   "source": [
    "print(x_train_transformed[0])"
   ]
  },
  {
   "cell_type": "code",
   "execution_count": 52,
   "id": "bdd3e478-6920-4d6f-95d2-bf1780df2d08",
   "metadata": {},
   "outputs": [
    {
     "data": {
      "text/html": [
       "<div>\n",
       "<style scoped>\n",
       "    .dataframe tbody tr th:only-of-type {\n",
       "        vertical-align: middle;\n",
       "    }\n",
       "\n",
       "    .dataframe tbody tr th {\n",
       "        vertical-align: top;\n",
       "    }\n",
       "\n",
       "    .dataframe thead th {\n",
       "        text-align: right;\n",
       "    }\n",
       "</style>\n",
       "<table border=\"1\" class=\"dataframe\">\n",
       "  <thead>\n",
       "    <tr style=\"text-align: right;\">\n",
       "      <th></th>\n",
       "      <th>10</th>\n",
       "      <th>abl</th>\n",
       "      <th>abov</th>\n",
       "      <th>absolut</th>\n",
       "      <th>act</th>\n",
       "      <th>action</th>\n",
       "      <th>actor</th>\n",
       "      <th>actress</th>\n",
       "      <th>actual</th>\n",
       "      <th>ad</th>\n",
       "      <th>...</th>\n",
       "      <th>wors</th>\n",
       "      <th>worst</th>\n",
       "      <th>worth</th>\n",
       "      <th>write</th>\n",
       "      <th>writer</th>\n",
       "      <th>written</th>\n",
       "      <th>wrong</th>\n",
       "      <th>ye</th>\n",
       "      <th>year</th>\n",
       "      <th>young</th>\n",
       "    </tr>\n",
       "  </thead>\n",
       "  <tbody>\n",
       "    <tr>\n",
       "      <th>0</th>\n",
       "      <td>0</td>\n",
       "      <td>1</td>\n",
       "      <td>0</td>\n",
       "      <td>0</td>\n",
       "      <td>0</td>\n",
       "      <td>0</td>\n",
       "      <td>0</td>\n",
       "      <td>0</td>\n",
       "      <td>0</td>\n",
       "      <td>0</td>\n",
       "      <td>...</td>\n",
       "      <td>0</td>\n",
       "      <td>0</td>\n",
       "      <td>0</td>\n",
       "      <td>1</td>\n",
       "      <td>1</td>\n",
       "      <td>0</td>\n",
       "      <td>0</td>\n",
       "      <td>0</td>\n",
       "      <td>3</td>\n",
       "      <td>0</td>\n",
       "    </tr>\n",
       "    <tr>\n",
       "      <th>1</th>\n",
       "      <td>0</td>\n",
       "      <td>0</td>\n",
       "      <td>0</td>\n",
       "      <td>0</td>\n",
       "      <td>0</td>\n",
       "      <td>0</td>\n",
       "      <td>1</td>\n",
       "      <td>0</td>\n",
       "      <td>0</td>\n",
       "      <td>0</td>\n",
       "      <td>...</td>\n",
       "      <td>0</td>\n",
       "      <td>0</td>\n",
       "      <td>0</td>\n",
       "      <td>0</td>\n",
       "      <td>0</td>\n",
       "      <td>0</td>\n",
       "      <td>0</td>\n",
       "      <td>0</td>\n",
       "      <td>0</td>\n",
       "      <td>0</td>\n",
       "    </tr>\n",
       "    <tr>\n",
       "      <th>2</th>\n",
       "      <td>0</td>\n",
       "      <td>0</td>\n",
       "      <td>0</td>\n",
       "      <td>0</td>\n",
       "      <td>1</td>\n",
       "      <td>0</td>\n",
       "      <td>0</td>\n",
       "      <td>0</td>\n",
       "      <td>0</td>\n",
       "      <td>0</td>\n",
       "      <td>...</td>\n",
       "      <td>0</td>\n",
       "      <td>0</td>\n",
       "      <td>1</td>\n",
       "      <td>0</td>\n",
       "      <td>0</td>\n",
       "      <td>0</td>\n",
       "      <td>0</td>\n",
       "      <td>0</td>\n",
       "      <td>0</td>\n",
       "      <td>1</td>\n",
       "    </tr>\n",
       "    <tr>\n",
       "      <th>3</th>\n",
       "      <td>0</td>\n",
       "      <td>0</td>\n",
       "      <td>0</td>\n",
       "      <td>0</td>\n",
       "      <td>0</td>\n",
       "      <td>0</td>\n",
       "      <td>0</td>\n",
       "      <td>0</td>\n",
       "      <td>0</td>\n",
       "      <td>0</td>\n",
       "      <td>...</td>\n",
       "      <td>0</td>\n",
       "      <td>0</td>\n",
       "      <td>0</td>\n",
       "      <td>0</td>\n",
       "      <td>0</td>\n",
       "      <td>0</td>\n",
       "      <td>0</td>\n",
       "      <td>0</td>\n",
       "      <td>0</td>\n",
       "      <td>0</td>\n",
       "    </tr>\n",
       "    <tr>\n",
       "      <th>4</th>\n",
       "      <td>0</td>\n",
       "      <td>1</td>\n",
       "      <td>0</td>\n",
       "      <td>0</td>\n",
       "      <td>0</td>\n",
       "      <td>0</td>\n",
       "      <td>0</td>\n",
       "      <td>0</td>\n",
       "      <td>0</td>\n",
       "      <td>0</td>\n",
       "      <td>...</td>\n",
       "      <td>0</td>\n",
       "      <td>0</td>\n",
       "      <td>0</td>\n",
       "      <td>0</td>\n",
       "      <td>0</td>\n",
       "      <td>0</td>\n",
       "      <td>0</td>\n",
       "      <td>0</td>\n",
       "      <td>0</td>\n",
       "      <td>0</td>\n",
       "    </tr>\n",
       "  </tbody>\n",
       "</table>\n",
       "<p>5 rows × 560 columns</p>\n",
       "</div>"
      ],
      "text/plain": [
       "   10  abl  abov  absolut  act  action  actor  actress  actual  ad  ...  wors  \\\n",
       "0   0    1     0        0    0       0      0        0       0   0  ...     0   \n",
       "1   0    0     0        0    0       0      1        0       0   0  ...     0   \n",
       "2   0    0     0        0    1       0      0        0       0   0  ...     0   \n",
       "3   0    0     0        0    0       0      0        0       0   0  ...     0   \n",
       "4   0    1     0        0    0       0      0        0       0   0  ...     0   \n",
       "\n",
       "   worst  worth  write  writer  written  wrong  ye  year  young  \n",
       "0      0      0      1       1        0      0   0     3      0  \n",
       "1      0      0      0       0        0      0   0     0      0  \n",
       "2      0      1      0       0        0      0   0     0      1  \n",
       "3      0      0      0       0        0      0   0     0      0  \n",
       "4      0      0      0       0        0      0   0     0      0  \n",
       "\n",
       "[5 rows x 560 columns]"
      ]
     },
     "execution_count": 52,
     "metadata": {},
     "output_type": "execute_result"
    }
   ],
   "source": [
    "#This gives the representation of topics and words in the topics.\n",
    "pd.DataFrame(x_train_transformed.toarray(),columns=vec.get_feature_names_out()).head()"
   ]
  },
  {
   "cell_type": "markdown",
   "id": "4718a31e-d8ad-4826-95fa-d5e82bfcda0e",
   "metadata": {},
   "source": [
    "For Test set:"
   ]
  },
  {
   "cell_type": "code",
   "execution_count": 53,
   "id": "5a5a9c67-8a23-463c-b9ff-07cdbba018af",
   "metadata": {},
   "outputs": [
    {
     "data": {
      "text/plain": [
       "<10000x560 sparse matrix of type '<class 'numpy.int64'>'\n",
       "\twith 456712 stored elements in Compressed Sparse Row format>"
      ]
     },
     "execution_count": 53,
     "metadata": {},
     "output_type": "execute_result"
    }
   ],
   "source": [
    "x_test_transformed=vec.transform(X_test)\n",
    "x_test_transformed"
   ]
  },
  {
   "cell_type": "code",
   "execution_count": 54,
   "id": "845a8474-62d6-46e6-beb6-c57ca901f3c1",
   "metadata": {},
   "outputs": [],
   "source": [
    "x_test=x_test_transformed.toarray()"
   ]
  },
  {
   "cell_type": "code",
   "execution_count": 55,
   "id": "70fd5ceb-9cdf-4a06-b9a7-458a58deecca",
   "metadata": {},
   "outputs": [
    {
     "data": {
      "text/html": [
       "<div>\n",
       "<style scoped>\n",
       "    .dataframe tbody tr th:only-of-type {\n",
       "        vertical-align: middle;\n",
       "    }\n",
       "\n",
       "    .dataframe tbody tr th {\n",
       "        vertical-align: top;\n",
       "    }\n",
       "\n",
       "    .dataframe thead th {\n",
       "        text-align: right;\n",
       "    }\n",
       "</style>\n",
       "<table border=\"1\" class=\"dataframe\">\n",
       "  <thead>\n",
       "    <tr style=\"text-align: right;\">\n",
       "      <th></th>\n",
       "      <th>10</th>\n",
       "      <th>abl</th>\n",
       "      <th>abov</th>\n",
       "      <th>absolut</th>\n",
       "      <th>act</th>\n",
       "      <th>action</th>\n",
       "      <th>actor</th>\n",
       "      <th>actress</th>\n",
       "      <th>actual</th>\n",
       "      <th>ad</th>\n",
       "      <th>...</th>\n",
       "      <th>wors</th>\n",
       "      <th>worst</th>\n",
       "      <th>worth</th>\n",
       "      <th>write</th>\n",
       "      <th>writer</th>\n",
       "      <th>written</th>\n",
       "      <th>wrong</th>\n",
       "      <th>ye</th>\n",
       "      <th>year</th>\n",
       "      <th>young</th>\n",
       "    </tr>\n",
       "  </thead>\n",
       "  <tbody>\n",
       "    <tr>\n",
       "      <th>0</th>\n",
       "      <td>0</td>\n",
       "      <td>0</td>\n",
       "      <td>0</td>\n",
       "      <td>0</td>\n",
       "      <td>0</td>\n",
       "      <td>0</td>\n",
       "      <td>0</td>\n",
       "      <td>0</td>\n",
       "      <td>0</td>\n",
       "      <td>0</td>\n",
       "      <td>...</td>\n",
       "      <td>0</td>\n",
       "      <td>0</td>\n",
       "      <td>0</td>\n",
       "      <td>0</td>\n",
       "      <td>0</td>\n",
       "      <td>0</td>\n",
       "      <td>1</td>\n",
       "      <td>0</td>\n",
       "      <td>0</td>\n",
       "      <td>0</td>\n",
       "    </tr>\n",
       "    <tr>\n",
       "      <th>1</th>\n",
       "      <td>0</td>\n",
       "      <td>0</td>\n",
       "      <td>0</td>\n",
       "      <td>0</td>\n",
       "      <td>0</td>\n",
       "      <td>2</td>\n",
       "      <td>1</td>\n",
       "      <td>0</td>\n",
       "      <td>0</td>\n",
       "      <td>0</td>\n",
       "      <td>...</td>\n",
       "      <td>0</td>\n",
       "      <td>0</td>\n",
       "      <td>0</td>\n",
       "      <td>0</td>\n",
       "      <td>0</td>\n",
       "      <td>0</td>\n",
       "      <td>0</td>\n",
       "      <td>0</td>\n",
       "      <td>1</td>\n",
       "      <td>0</td>\n",
       "    </tr>\n",
       "    <tr>\n",
       "      <th>2</th>\n",
       "      <td>0</td>\n",
       "      <td>0</td>\n",
       "      <td>0</td>\n",
       "      <td>0</td>\n",
       "      <td>0</td>\n",
       "      <td>0</td>\n",
       "      <td>0</td>\n",
       "      <td>0</td>\n",
       "      <td>0</td>\n",
       "      <td>0</td>\n",
       "      <td>...</td>\n",
       "      <td>0</td>\n",
       "      <td>0</td>\n",
       "      <td>0</td>\n",
       "      <td>0</td>\n",
       "      <td>0</td>\n",
       "      <td>0</td>\n",
       "      <td>0</td>\n",
       "      <td>0</td>\n",
       "      <td>1</td>\n",
       "      <td>0</td>\n",
       "    </tr>\n",
       "    <tr>\n",
       "      <th>3</th>\n",
       "      <td>0</td>\n",
       "      <td>0</td>\n",
       "      <td>0</td>\n",
       "      <td>0</td>\n",
       "      <td>0</td>\n",
       "      <td>0</td>\n",
       "      <td>0</td>\n",
       "      <td>0</td>\n",
       "      <td>0</td>\n",
       "      <td>0</td>\n",
       "      <td>...</td>\n",
       "      <td>0</td>\n",
       "      <td>0</td>\n",
       "      <td>0</td>\n",
       "      <td>0</td>\n",
       "      <td>0</td>\n",
       "      <td>0</td>\n",
       "      <td>0</td>\n",
       "      <td>0</td>\n",
       "      <td>0</td>\n",
       "      <td>0</td>\n",
       "    </tr>\n",
       "    <tr>\n",
       "      <th>4</th>\n",
       "      <td>0</td>\n",
       "      <td>0</td>\n",
       "      <td>0</td>\n",
       "      <td>0</td>\n",
       "      <td>0</td>\n",
       "      <td>1</td>\n",
       "      <td>0</td>\n",
       "      <td>0</td>\n",
       "      <td>0</td>\n",
       "      <td>0</td>\n",
       "      <td>...</td>\n",
       "      <td>0</td>\n",
       "      <td>0</td>\n",
       "      <td>0</td>\n",
       "      <td>0</td>\n",
       "      <td>0</td>\n",
       "      <td>0</td>\n",
       "      <td>0</td>\n",
       "      <td>0</td>\n",
       "      <td>0</td>\n",
       "      <td>0</td>\n",
       "    </tr>\n",
       "  </tbody>\n",
       "</table>\n",
       "<p>5 rows × 560 columns</p>\n",
       "</div>"
      ],
      "text/plain": [
       "   10  abl  abov  absolut  act  action  actor  actress  actual  ad  ...  wors  \\\n",
       "0   0    0     0        0    0       0      0        0       0   0  ...     0   \n",
       "1   0    0     0        0    0       2      1        0       0   0  ...     0   \n",
       "2   0    0     0        0    0       0      0        0       0   0  ...     0   \n",
       "3   0    0     0        0    0       0      0        0       0   0  ...     0   \n",
       "4   0    0     0        0    0       1      0        0       0   0  ...     0   \n",
       "\n",
       "   worst  worth  write  writer  written  wrong  ye  year  young  \n",
       "0      0      0      0       0        0      1   0     0      0  \n",
       "1      0      0      0       0        0      0   0     1      0  \n",
       "2      0      0      0       0        0      0   0     1      0  \n",
       "3      0      0      0       0        0      0   0     0      0  \n",
       "4      0      0      0       0        0      0   0     0      0  \n",
       "\n",
       "[5 rows x 560 columns]"
      ]
     },
     "execution_count": 55,
     "metadata": {},
     "output_type": "execute_result"
    }
   ],
   "source": [
    "pd.DataFrame(x_test_transformed.toarray(),columns=vec.get_feature_names_out()).head()"
   ]
  },
  {
   "cell_type": "markdown",
   "id": "afcac554-148d-4157-971b-bfccd87283cf",
   "metadata": {},
   "source": [
    "***Term Frequency-Inverse Document Frequency model (TFIDF)***"
   ]
  },
  {
   "cell_type": "code",
   "execution_count": 56,
   "id": "24575c2f-3e73-4429-960e-c92e7e2e46b4",
   "metadata": {},
   "outputs": [],
   "source": [
    "tfidf = TfidfVectorizer(max_features = 5000)"
   ]
  },
  {
   "cell_type": "code",
   "execution_count": 57,
   "id": "c0494d09-8a0b-4729-9b97-6100e6cb4db5",
   "metadata": {},
   "outputs": [],
   "source": [
    "#Transforming all reviews before splitting\n",
    "X_train_tf = tfidf.fit_transform(X_train)\n"
   ]
  },
  {
   "cell_type": "code",
   "execution_count": 58,
   "id": "1a0f1921-fee5-4efd-8266-9eaf2d92acb3",
   "metadata": {},
   "outputs": [],
   "source": [
    "X_test_tf = tfidf.transform(X_test)"
   ]
  },
  {
   "cell_type": "code",
   "execution_count": 93,
   "id": "f59e6359-0fc4-4235-91c3-6fcf739613f9",
   "metadata": {},
   "outputs": [
    {
     "data": {
      "text/plain": [
       "['actual',\n",
       " 'ad',\n",
       " 'adam',\n",
       " 'adapt',\n",
       " 'add',\n",
       " 'addict',\n",
       " 'addit',\n",
       " 'address',\n",
       " 'adequ',\n",
       " 'adjust']"
      ]
     },
     "execution_count": 93,
     "metadata": {},
     "output_type": "execute_result"
    }
   ],
   "source": [
    "tfidf.get_feature_names()[50:60]"
   ]
  },
  {
   "cell_type": "code",
   "execution_count": 60,
   "id": "1bbde47f-01a9-474b-9574-9f9d4f2d2946",
   "metadata": {},
   "outputs": [
    {
     "data": {
      "text/plain": [
       "(40000, 5000)"
      ]
     },
     "execution_count": 60,
     "metadata": {},
     "output_type": "execute_result"
    }
   ],
   "source": [
    "X_train_tf.shape"
   ]
  },
  {
   "cell_type": "code",
   "execution_count": 61,
   "id": "137c0f44-58c4-43e6-8046-c140bd4408ff",
   "metadata": {},
   "outputs": [
    {
     "name": "stdout",
     "output_type": "stream",
     "text": [
      "  (0, 301)\t0.08141496769690561\n",
      "  (0, 534)\t0.10306856110180874\n",
      "  (0, 4527)\t0.06125733410048056\n",
      "  (0, 3946)\t0.08848680754274528\n",
      "  (0, 4811)\t0.08457890310666494\n",
      "  (0, 1332)\t0.07436599200684664\n",
      "  (0, 1454)\t0.06223179956603692\n",
      "  (0, 2525)\t0.06024394317552591\n",
      "  (0, 3197)\t0.09746119052112275\n",
      "  (0, 1117)\t0.04916412349941396\n",
      "  (0, 2542)\t0.05221834780792389\n",
      "  (0, 4001)\t0.04063944049986693\n",
      "  (0, 3878)\t0.07576002870006225\n",
      "  (0, 1036)\t0.07363921859188746\n",
      "  (0, 2099)\t0.10583294576888459\n",
      "  (0, 7)\t0.06483275737304293\n",
      "  (0, 969)\t0.09326421824503593\n",
      "  (0, 2180)\t0.050759304468641055\n",
      "  (0, 2294)\t0.08576855970027004\n",
      "  (0, 4726)\t0.04580643746185586\n",
      "  (0, 1623)\t0.055484754730491616\n",
      "  (0, 3713)\t0.077286735150376\n",
      "  (0, 2480)\t0.10343550319844716\n",
      "  (0, 2925)\t0.06504359594050382\n",
      "  (0, 4900)\t0.07035863390772912\n",
      "  :\t:\n",
      "  (0, 2521)\t0.08085976477233135\n",
      "  (0, 1767)\t0.07997507714063443\n",
      "  (0, 774)\t0.0863021402024063\n",
      "  (0, 2744)\t0.1472204840353094\n",
      "  (0, 4970)\t0.0616647929736511\n",
      "  (0, 2545)\t0.058268059727137174\n",
      "  (0, 4982)\t0.12617152364753612\n",
      "  (0, 4640)\t0.04224686364433386\n",
      "  (0, 4635)\t0.17159892122045575\n",
      "  (0, 3639)\t0.0714974495474647\n",
      "  (0, 2176)\t0.061789075022285006\n",
      "  (0, 2948)\t0.376210488477368\n",
      "  (0, 4816)\t0.13890804948806085\n",
      "  (0, 2014)\t0.09611243433220039\n",
      "  (0, 1534)\t0.10419555131355743\n",
      "  (0, 3026)\t0.058229143301371925\n",
      "  (0, 401)\t0.0981805907127737\n",
      "  (0, 220)\t0.0817960661348526\n",
      "  (0, 802)\t0.0713836427219307\n",
      "  (0, 2100)\t0.05781258549741728\n",
      "  (0, 2933)\t0.11190982146097922\n",
      "  (0, 1940)\t0.0843229594035807\n",
      "  (0, 2707)\t0.1137484769204197\n",
      "  (0, 2749)\t0.21782260753665209\n",
      "  (0, 4443)\t0.14903688692756784\n"
     ]
    }
   ],
   "source": [
    "print(X_train_tf[0])"
   ]
  },
  {
   "cell_type": "code",
   "execution_count": 62,
   "id": "5c2c0322-6f9d-4f6b-95b2-ff3223d1e5ea",
   "metadata": {},
   "outputs": [
    {
     "name": "stdout",
     "output_type": "stream",
     "text": [
      "tf_train reviews  (40000, 5000)\n",
      "tf_test reviews  (10000, 5000)\n"
     ]
    }
   ],
   "source": [
    "print(\"tf_train reviews \",X_train_tf.shape)\n",
    "print(\"tf_test reviews \",X_test_tf.shape)"
   ]
  },
  {
   "cell_type": "markdown",
   "id": "e1b97f8f-4e1c-4045-8a3c-ed9f92e17d4b",
   "metadata": {},
   "source": [
    "***Naive Bayes for Bag of Words and tfidf***"
   ]
  },
  {
   "cell_type": "code",
   "execution_count": 63,
   "id": "ddc92b71-38f8-4de2-a016-d5a97f40009a",
   "metadata": {},
   "outputs": [],
   "source": [
    "#Model\n",
    "\n",
    "mnb=MultinomialNB()\n",
    "#In this model we x_train and y_train are the inputs\n",
    "#This model uses alpha which is a 1 for laplacian smoothing technique.\n",
    "#In this model because of this we can avoid zero probability\n",
    "#Ref:https://scikit-learn.org/stable/modules/generated/sklearn.naive_bayes.MultinomialNB.html"
   ]
  },
  {
   "cell_type": "markdown",
   "id": "6cc7bae7-9104-44f5-ba3d-925b6a06a944",
   "metadata": {},
   "source": [
    "***Training and Predicting***"
   ]
  },
  {
   "cell_type": "code",
   "execution_count": 64,
   "id": "77de6b4c-f5ff-49d9-abd8-a9b391039cf2",
   "metadata": {},
   "outputs": [],
   "source": [
    "#fitting the model on training data of BoW\n",
    "mnb_nv_BoW = mnb.fit(x_train_transformed,y_train)\n",
    "y_pred_Bow = mnb.predict(x_test_transformed)"
   ]
  },
  {
   "cell_type": "code",
   "execution_count": 66,
   "id": "35261aa1-bd88-461f-bf1d-b2f4ca282dd9",
   "metadata": {},
   "outputs": [
    {
     "name": "stdout",
     "output_type": "stream",
     "text": [
      "Predicted array for BoW [1 0 1 ... 0 0 1]\n",
      "Original array for BoW  [1 0 1 ... 0 0 1]\n"
     ]
    }
   ],
   "source": [
    "print(\"Predicted array for BoW\",y_pred_Bow)\n",
    "print(\"Original array for BoW \",y_test)"
   ]
  },
  {
   "cell_type": "code",
   "execution_count": 67,
   "id": "10ec0b33-99db-43f9-bb00-19671f833659",
   "metadata": {},
   "outputs": [
    {
     "name": "stdout",
     "output_type": "stream",
     "text": [
      "Probability of first prediction is  1\n"
     ]
    }
   ],
   "source": [
    "#Getting the probability of predictions\n",
    "\n",
    "probabilty_prediction=mnb_nv_BoW.predict_proba(x_test_transformed)\n",
    "probabilty_prediction\n",
    "#The above output shows probabilities of prediction for '0' and '1'\n",
    "print(\"Probability of first prediction is \",np.argmax(probabilty_prediction[0]))\n",
    "#1 is positive review\n",
    "#0 is negative review"
   ]
  },
  {
   "cell_type": "code",
   "execution_count": 68,
   "id": "ba3190eb-b56c-4749-a679-e59de1a6a3ed",
   "metadata": {},
   "outputs": [
    {
     "data": {
      "text/plain": [
       "array([[1.22943167e-01, 8.77056833e-01],\n",
       "       [5.06424790e-01, 4.93575210e-01],\n",
       "       [1.52305895e-01, 8.47694105e-01],\n",
       "       [9.99986173e-01, 1.38274067e-05],\n",
       "       [2.92685994e-01, 7.07314006e-01],\n",
       "       [1.00000000e+00, 1.02532431e-24],\n",
       "       [9.72219719e-03, 9.90277803e-01],\n",
       "       [9.99999856e-01, 1.43768167e-07],\n",
       "       [2.19117831e-01, 7.80882169e-01],\n",
       "       [2.20442423e-01, 7.79557577e-01]])"
      ]
     },
     "execution_count": 68,
     "metadata": {},
     "output_type": "execute_result"
    }
   ],
   "source": [
    "probabilty_prediction[:10]"
   ]
  },
  {
   "cell_type": "code",
   "execution_count": 69,
   "id": "fdc96ea2-3163-46b2-a406-9d4da6d5e95d",
   "metadata": {},
   "outputs": [],
   "source": [
    "#fitting the model on training data of tfidf\n",
    "mnb_nv_tfidf = mnb.fit(X_train_tf,y_train)\n",
    "y_pred_tf = mnb.predict(X_test_tf)"
   ]
  },
  {
   "cell_type": "code",
   "execution_count": 70,
   "id": "8fada555-e8c9-47fc-bd51-52f136cb09de",
   "metadata": {},
   "outputs": [
    {
     "name": "stdout",
     "output_type": "stream",
     "text": [
      "Predicted array for tfid [1 1 1 ... 0 0 1]\n",
      "Original array for tfid  [1 0 1 ... 0 0 1]\n"
     ]
    }
   ],
   "source": [
    "print(\"Predicted array for tfid\",y_pred_tf)\n",
    "print(\"Original array for tfid \",y_test)"
   ]
  },
  {
   "cell_type": "code",
   "execution_count": 71,
   "id": "225541c7-1af1-4fc8-a532-d1ac150513ed",
   "metadata": {},
   "outputs": [
    {
     "name": "stdout",
     "output_type": "stream",
     "text": [
      "Probability of first prediction is  1\n"
     ]
    }
   ],
   "source": [
    "#Getting the probability of predictions\n",
    "\n",
    "probabilty_prediction=mnb_nv_BoW.predict_proba(X_test_tf)\n",
    "probabilty_prediction\n",
    "#The above output shows probabilities of prediction for '0' and '1'\n",
    "print(\"Probability of first prediction is \",np.argmax(probabilty_prediction[0]))\n",
    "#1 is positive review\n",
    "#0 is negative review"
   ]
  },
  {
   "cell_type": "code",
   "execution_count": 72,
   "id": "8f637815-1f33-4cba-9134-fa88ecd5c136",
   "metadata": {},
   "outputs": [
    {
     "data": {
      "text/plain": [
       "array([[0.18464421, 0.81535579],\n",
       "       [0.49837921, 0.50162079],\n",
       "       [0.31664862, 0.68335138],\n",
       "       [0.72284833, 0.27715167],\n",
       "       [0.3310793 , 0.6689207 ],\n",
       "       [0.93089732, 0.06910268],\n",
       "       [0.07871625, 0.92128375],\n",
       "       [0.86420841, 0.13579159],\n",
       "       [0.52695014, 0.47304986],\n",
       "       [0.37788334, 0.62211666]])"
      ]
     },
     "execution_count": 72,
     "metadata": {},
     "output_type": "execute_result"
    }
   ],
   "source": [
    "probabilty_prediction[:10]"
   ]
  },
  {
   "cell_type": "code",
   "execution_count": 73,
   "id": "3667fd45-798e-4032-a572-d54c76e66570",
   "metadata": {},
   "outputs": [
    {
     "name": "stdout",
     "output_type": "stream",
     "text": [
      "Accuracy for Naive Bayes model on BoW 0.813\n",
      "Accuracy for Naive Bayes model on tfidf 0.8442\n"
     ]
    }
   ],
   "source": [
    "print(\"Accuracy for Naive Bayes model on BoW\",metrics.accuracy_score(y_test,y_pred_Bow))\n",
    "print(\"Accuracy for Naive Bayes model on tfidf\",metrics.accuracy_score(y_test,y_pred_tf ))"
   ]
  },
  {
   "cell_type": "code",
   "execution_count": 74,
   "id": "ddf69416-35f3-4110-9545-a37f7f664960",
   "metadata": {},
   "outputs": [
    {
     "name": "stdout",
     "output_type": "stream",
     "text": [
      "Confusion Matrix for Naive Bayes Bow\n",
      "[[4038  975]\n",
      " [ 895 4092]]\n",
      "Confusion Matrix for Naive Bayes tfidf\n",
      "[[4214  799]\n",
      " [ 759 4228]]\n"
     ]
    }
   ],
   "source": [
    "print(\"Confusion Matrix for Naive Bayes Bow\")\n",
    "confusion=metrics.confusion_matrix(y_test,y_pred_Bow)\n",
    "print(confusion)\n",
    "print(\"Confusion Matrix for Naive Bayes tfidf\")\n",
    "confusion=metrics.confusion_matrix(y_test,y_pred_tf)\n",
    "print(confusion)"
   ]
  },
  {
   "cell_type": "code",
   "execution_count": 75,
   "id": "fb5ffd65-a776-45ed-a598-0d092bcf7e6f",
   "metadata": {},
   "outputs": [
    {
     "name": "stdout",
     "output_type": "stream",
     "text": [
      "Classification Report for Naive Bayes Classifier for BoW\n",
      "\n",
      "               precision    recall  f1-score   support\n",
      "\n",
      "           0       0.82      0.81      0.81      5013\n",
      "           1       0.81      0.82      0.81      4987\n",
      "\n",
      "    accuracy                           0.81     10000\n",
      "   macro avg       0.81      0.81      0.81     10000\n",
      "weighted avg       0.81      0.81      0.81     10000\n",
      "\n",
      "Classification Report for Naive Bayes Classifier for tfidf\n",
      "\n",
      "               precision    recall  f1-score   support\n",
      "\n",
      "           0       0.85      0.84      0.84      5013\n",
      "           1       0.84      0.85      0.84      4987\n",
      "\n",
      "    accuracy                           0.84     10000\n",
      "   macro avg       0.84      0.84      0.84     10000\n",
      "weighted avg       0.84      0.84      0.84     10000\n",
      "\n"
     ]
    }
   ],
   "source": [
    "print(\"Classification Report for Naive Bayes Classifier for BoW\\n\\n\",classification_report(y_test,y_pred_Bow))\n",
    "print(\"Classification Report for Naive Bayes Classifier for tfidf\\n\\n\",classification_report(y_test,y_pred_tf))"
   ]
  },
  {
   "cell_type": "markdown",
   "id": "cd296372-6f68-4333-b773-b610ff4f5dd2",
   "metadata": {},
   "source": [
    "FUNCTION TO VISUALIZE CONFUSION MATRIX"
   ]
  },
  {
   "cell_type": "code",
   "execution_count": 76,
   "id": "7c090ac5-c5dc-4ad0-ab5b-8bb0b06b323e",
   "metadata": {},
   "outputs": [],
   "source": [
    "#Function to visualize confusion matrix\n",
    "def plot_confusion_matrix(cm, classes,\n",
    "                          normalize=False,\n",
    "                          title='Confusion matrix',\n",
    "                          cmap=plt.cm.Blues):\n",
    "    \"\"\"\n",
    "    This function prints and plots the confusion matrix.\n",
    "    Normalization can be applied by setting `normalize=True`.\n",
    "    \"\"\"\n",
    "    if normalize:\n",
    "        cm = cm.astype('float') / cm.sum(axis=1)[:, np.newaxis]\n",
    "        print(\"Normalized confusion matrix\")\n",
    "    else:\n",
    "        print('Confusion matrix')\n",
    "\n",
    "    print(cm)\n",
    "\n",
    "    plt.imshow(cm, interpolation='nearest', cmap=cmap)\n",
    "    plt.title(title)\n",
    "    plt.colorbar()\n",
    "    tick_marks = np.arange(len(classes))\n",
    "    plt.xticks(tick_marks, classes, rotation=45)\n",
    "    plt.yticks(tick_marks, classes)\n",
    "\n",
    "    fmt = '.2f' if normalize else 'd'\n",
    "    thresh = cm.max() / 2.\n",
    "    for i, j in itertools.product(range(cm.shape[0]), range(cm.shape[1])):\n",
    "        plt.text(j, i, format(cm[i, j], fmt),\n",
    "                 horizontalalignment=\"center\",\n",
    "                 color=\"white\" if cm[i, j] > thresh else \"black\")\n",
    "    plt.tight_layout()\n",
    "    plt.ylabel('True label')\n",
    "    plt.xlabel('Predicted label')\n"
   ]
  },
  {
   "cell_type": "code",
   "execution_count": 77,
   "id": "aacd29f6-c2a9-4988-884b-3437674e4357",
   "metadata": {},
   "outputs": [
    {
     "name": "stdout",
     "output_type": "stream",
     "text": [
      "Confusion matrix\n",
      "[[4038  975]\n",
      " [ 895 4092]]\n",
      "Confusion matrix\n",
      "[[4214  799]\n",
      " [ 759 4228]]\n"
     ]
    },
    {
     "data": {
      "image/png": "[encoded data removed]",
      "text/plain": [
       "<Figure size 936x360 with 4 Axes>"
      ]
     },
     "metadata": {
      "needs_background": "light"
     },
     "output_type": "display_data"
    }
   ],
   "source": [
    "# Compute confusion matrix\n",
    "cnf_matrix = confusion_matrix(y_test,y_pred_Bow)\n",
    "cnf_matrix1 = confusion_matrix(y_test,y_pred_tf)\n",
    "#print(cnf_matrix)\n",
    "np.set_printoptions(precision=2)\n",
    "\n",
    "\n",
    "# Plot non-normalized confusion matrix\n",
    "plt.figure(figsize=(13,5))\n",
    "plt.subplot(1, 2, 1)\n",
    "plot_confusion_matrix(cnf_matrix, classes=['positive=1','negative=0'],normalize= False,  title='Confusion matrix for Naive Bayes BoW')\n",
    "plt.subplot(1, 2, 2)\n",
    "plot_confusion_matrix(cnf_matrix1, classes=['positive=1','negative=0'],normalize= False,  title='Confusion matrix for Naive Bayes Tfidf')"
   ]
  },
  {
   "cell_type": "code",
   "execution_count": 78,
   "id": "f4ab03c8-b0a1-41ef-9c01-dce384eaac6c",
   "metadata": {},
   "outputs": [
    {
     "data": {
      "text/plain": [
       "<matplotlib.legend.Legend at 0x1dc33363bb0>"
      ]
     },
     "execution_count": 78,
     "metadata": {},
     "output_type": "execute_result"
    },
    {
     "data": {
      "image/png": "[encoded data removed]",
      "text/plain": [
       "<Figure size 1152x432 with 1 Axes>"
      ]
     },
     "metadata": {
      "needs_background": "light"
     },
     "output_type": "display_data"
    }
   ],
   "source": [
    "#Prediction for BoW Naive Bayes model\n",
    "\n",
    "df_pred = pd.DataFrame(data={'y_actual': y_test, 'y_pred': y_pred_Bow})\n",
    "\n",
    "plt.figure(figsize=(16, 6))\n",
    "\n",
    "msk = df_pred['y_actual'] == 0\n",
    "sns.distplot(df_pred.loc[msk, 'y_pred'], label='negative reviews', kde=False)\n",
    "sns.distplot(df_pred.loc[~msk, 'y_pred'], label='positive reviews', kde=False)\n",
    "\n",
    "\n",
    "plt.legend()\n"
   ]
  },
  {
   "cell_type": "code",
   "execution_count": 79,
   "id": "25f8be6a-2603-41f3-acbb-0c4fe2748b16",
   "metadata": {},
   "outputs": [
    {
     "data": {
      "text/plain": [
       "<matplotlib.legend.Legend at 0x1dc32bc8460>"
      ]
     },
     "execution_count": 79,
     "metadata": {},
     "output_type": "execute_result"
    },
    {
     "data": {
      "image/png": "[encoded data removed]",
      "text/plain": [
       "<Figure size 1152x432 with 1 Axes>"
      ]
     },
     "metadata": {
      "needs_background": "light"
     },
     "output_type": "display_data"
    }
   ],
   "source": [
    "#Prediction for BoW Naive Bayes model\n",
    "\n",
    "df_pred = pd.DataFrame(data={'y_actual': y_test, 'y_pred': y_pred_tf})\n",
    "\n",
    "plt.figure(figsize=(16, 6))\n",
    "\n",
    "msk = df_pred['y_actual'] == 0\n",
    "sns.distplot(df_pred.loc[msk, 'y_pred'], label='negative reviews', kde=False)\n",
    "sns.distplot(df_pred.loc[~msk, 'y_pred'], label='positive reviews', kde=False)\n",
    "\n",
    "\n",
    "plt.legend()"
   ]
  },
  {
   "cell_type": "markdown",
   "id": "5c19156d-e570-4ae1-a6a0-d3dac9ae2b4f",
   "metadata": {},
   "source": [
    "***SVM MODEL***"
   ]
  },
  {
   "cell_type": "code",
   "execution_count": 80,
   "id": "bc7a56c0-2592-4032-93d1-7e3b06809b69",
   "metadata": {},
   "outputs": [],
   "source": [
    "#From sklearn we choose Linersvc() to work for SVM model\n",
    "#Ref:https://scikit-learn.org/stable/modules/generated/sklearn.svm.LinearSVC.html"
   ]
  },
  {
   "cell_type": "code",
   "execution_count": 81,
   "id": "24fbe04f-9e66-4ba5-987e-a7d58c0b32b9",
   "metadata": {},
   "outputs": [],
   "source": [
    "#In our research we read that this model is good on large number of samples.\n",
    "#So when we use a big dataset like this. We want to analyze the difference of results generated between this model and Naive Bayes model\n",
    "#this model by default take 'l2' penality. It is also more flexible with loss.\n",
    "#In our study we understood that the naive bayes model treats all the features independent, but SVM model takes the interaction between features to certain degree.\n",
    "#Naivey is probabilistic in nature, and svm is geometric in nature. "
   ]
  },
  {
   "cell_type": "code",
   "execution_count": 82,
   "id": "b66a9977-7a6e-4e84-97f5-cd57777002d6",
   "metadata": {},
   "outputs": [],
   "source": [
    "#Transfer learning Model \n",
    "svm = LinearSVC()"
   ]
  },
  {
   "cell_type": "markdown",
   "id": "8e949649-f4d8-4976-8962-2e68f3368d49",
   "metadata": {},
   "source": [
    "***Training & Predicting***"
   ]
  },
  {
   "cell_type": "code",
   "execution_count": 83,
   "id": "93ac42db-bf45-4ce4-af31-c519596f9671",
   "metadata": {},
   "outputs": [],
   "source": [
    "#svm model for BoW\n",
    "svm_bow=svm.fit(x_train_transformed,y_train)\n",
    "y_pred_svm = svm_bow.predict(x_test_transformed)"
   ]
  },
  {
   "cell_type": "code",
   "execution_count": 84,
   "id": "e0677bc9-804d-49b5-a0f4-bec37182fbd7",
   "metadata": {},
   "outputs": [],
   "source": [
    "#svm model for Tfidf\n",
    "svm_tf=svm.fit(X_train_tf,y_train)\n",
    "y_pred_svm_tf=svm_tf.predict(X_test_tf)"
   ]
  },
  {
   "cell_type": "code",
   "execution_count": 85,
   "id": "f8c8f008-4dea-466e-826a-c8debf3b1c6f",
   "metadata": {},
   "outputs": [
    {
     "name": "stdout",
     "output_type": "stream",
     "text": [
      "Predicted values by svm BoW [1 1 1 ... 0 1 1]\n",
      "Original values by svm BoW [1 0 1 ... 0 0 1]\n",
      "Predicted values by svm Tfidf [1 1 1 ... 0 0 1]\n",
      "Original values by svm Tfidf [1 0 1 ... 0 0 1]\n"
     ]
    }
   ],
   "source": [
    "print(\"Predicted values by svm BoW\",y_pred_svm)\n",
    "print(\"Original values by svm BoW\",y_test)\n",
    "\n",
    "print(\"Predicted values by svm Tfidf\",y_pred_svm_tf)\n",
    "print(\"Original values by svm Tfidf\",y_test)"
   ]
  },
  {
   "cell_type": "markdown",
   "id": "163b3255-7099-4028-a4dd-994f5065a9bf",
   "metadata": {},
   "source": [
    "***Evaluating***"
   ]
  },
  {
   "cell_type": "code",
   "execution_count": 86,
   "id": "3f1b2886-edfb-44e8-b717-a254c62c32ed",
   "metadata": {},
   "outputs": [
    {
     "name": "stdout",
     "output_type": "stream",
     "text": [
      "Accuracy for svm model on BoW 0.8439\n",
      "Accuracy for svm model on tfidf 0.8829\n"
     ]
    }
   ],
   "source": [
    "print(\"Accuracy for svm model on BoW\",metrics.accuracy_score(y_test,y_pred_svm))\n",
    "print(\"Accuracy for svm model on tfidf\",metrics.accuracy_score(y_test,y_pred_svm_tf))"
   ]
  },
  {
   "cell_type": "code",
   "execution_count": 87,
   "id": "9937ebdb-c674-40b2-b660-a158ae070d9c",
   "metadata": {},
   "outputs": [
    {
     "name": "stdout",
     "output_type": "stream",
     "text": [
      "Confusion Matrix for svm Bow\n",
      "[[4200  813]\n",
      " [ 748 4239]]\n",
      "Confusion Matrix for svm tfidf\n",
      "[[4408  605]\n",
      " [ 566 4421]]\n"
     ]
    }
   ],
   "source": [
    "print(\"Confusion Matrix for svm Bow\")\n",
    "confusion=metrics.confusion_matrix(y_test,y_pred_svm)\n",
    "print(confusion)\n",
    "print(\"Confusion Matrix for svm tfidf\")\n",
    "confusion=metrics.confusion_matrix(y_test,y_pred_svm_tf)\n",
    "print(confusion)"
   ]
  },
  {
   "cell_type": "code",
   "execution_count": 88,
   "id": "dea4d456-b694-4bf9-8188-524c5fa61317",
   "metadata": {},
   "outputs": [
    {
     "name": "stdout",
     "output_type": "stream",
     "text": [
      "Classification Report for svm Classifier for BoW\n",
      "\n",
      "               precision    recall  f1-score   support\n",
      "\n",
      "           0       0.85      0.84      0.84      5013\n",
      "           1       0.84      0.85      0.84      4987\n",
      "\n",
      "    accuracy                           0.84     10000\n",
      "   macro avg       0.84      0.84      0.84     10000\n",
      "weighted avg       0.84      0.84      0.84     10000\n",
      "\n",
      "Classification Report for svm Classifier for tfidf\n",
      "\n",
      "               precision    recall  f1-score   support\n",
      "\n",
      "           0       0.89      0.88      0.88      5013\n",
      "           1       0.88      0.89      0.88      4987\n",
      "\n",
      "    accuracy                           0.88     10000\n",
      "   macro avg       0.88      0.88      0.88     10000\n",
      "weighted avg       0.88      0.88      0.88     10000\n",
      "\n"
     ]
    }
   ],
   "source": [
    "print(\"Classification Report for svm Classifier for BoW\\n\\n\",classification_report(y_test,y_pred_svm))\n",
    "print(\"Classification Report for svm Classifier for tfidf\\n\\n\",classification_report(y_test,y_pred_svm_tf))"
   ]
  },
  {
   "cell_type": "code",
   "execution_count": 89,
   "id": "e956731f-5e82-4e0d-ad36-22af7ce5a11a",
   "metadata": {},
   "outputs": [
    {
     "data": {
      "text/plain": [
       "<matplotlib.legend.Legend at 0x1dc315438e0>"
      ]
     },
     "execution_count": 89,
     "metadata": {},
     "output_type": "execute_result"
    },
    {
     "data": {
      "image/png": "[encoded data removed]",
      "text/plain": [
       "<Figure size 1152x432 with 1 Axes>"
      ]
     },
     "metadata": {
      "needs_background": "light"
     },
     "output_type": "display_data"
    }
   ],
   "source": [
    "#Prediction for BoW svm model\n",
    "\n",
    "df_pred = pd.DataFrame(data={'y_actual': y_test, 'y_pred': y_pred_svm})\n",
    "\n",
    "plt.figure(figsize=(16, 6))\n",
    "\n",
    "msk = df_pred['y_actual'] == 0\n",
    "sns.distplot(df_pred.loc[msk, 'y_pred'], label='negative reviews', kde=False)\n",
    "sns.distplot(df_pred.loc[~msk, 'y_pred'], label='positive reviews', kde=False)\n",
    "\n",
    "\n",
    "plt.legend()"
   ]
  },
  {
   "cell_type": "code",
   "execution_count": 90,
   "id": "dc48b78f-a1bf-4ff2-8297-82608a366161",
   "metadata": {},
   "outputs": [
    {
     "data": {
      "text/plain": [
       "<matplotlib.legend.Legend at 0x1dc315437f0>"
      ]
     },
     "execution_count": 90,
     "metadata": {},
     "output_type": "execute_result"
    },
    {
     "data": {
      "image/png": "[encoded data removed]",
      "text/plain": [
       "<Figure size 1152x432 with 1 Axes>"
      ]
     },
     "metadata": {
      "needs_background": "light"
     },
     "output_type": "display_data"
    }
   ],
   "source": [
    "#Prediction for svm model for tfidf\n",
    "\n",
    "df_pred = pd.DataFrame(data={'y_actual': y_test, 'y_pred': y_pred_svm_tf})\n",
    "\n",
    "plt.figure(figsize=(16, 6))\n",
    "\n",
    "msk = df_pred['y_actual'] == 0\n",
    "sns.distplot(df_pred.loc[msk, 'y_pred'], label='negative reviews', kde=False)\n",
    "sns.distplot(df_pred.loc[~msk, 'y_pred'], label='positive reviews', kde=False)\n",
    "\n",
    "\n",
    "plt.legend()"
   ]
  },
  {
   "cell_type": "code",
   "execution_count": 91,
   "id": "fbb5cdc1-ebd1-44bf-bc6f-f15506c9d6f6",
   "metadata": {},
   "outputs": [
    {
     "name": "stdout",
     "output_type": "stream",
     "text": [
      "Confusion matrix\n",
      "[[4200  813]\n",
      " [ 748 4239]]\n",
      "Confusion matrix\n",
      "[[4408  605]\n",
      " [ 566 4421]]\n"
     ]
    },
    {
     "data": {
      "image/png": "[encoded data removed]",
      "text/plain": [
       "<Figure size 936x360 with 4 Axes>"
      ]
     },
     "metadata": {
      "needs_background": "light"
     },
     "output_type": "display_data"
    }
   ],
   "source": [
    "# Compute confusion matrix\n",
    "cnf_matrix = confusion_matrix(y_test, y_pred_svm)\n",
    "cnf_matrix1 = confusion_matrix(y_test, y_pred_svm_tf)\n",
    "#print(cnf_matrix)\n",
    "np.set_printoptions(precision=2)\n",
    "\n",
    "\n",
    "# Plot non-normalized confusion matrix\n",
    "plt.figure(figsize=(13,5))\n",
    "plt.subplot(1, 2, 1)\n",
    "plot_confusion_matrix(cnf_matrix, classes=['positive=1','negative=0'],normalize= False,  title='Confusion matrix for svm BoW')\n",
    "plt.subplot(1, 2, 2)\n",
    "plot_confusion_matrix(cnf_matrix1, classes=['positive=1','negative=0'],normalize= False,  title='Confusion matrix for svm Tfidf')"
   ]
  },
  {
   "cell_type": "markdown",
   "id": "99fd4512-f57b-45b2-9283-0a4f0784c615",
   "metadata": {},
   "source": [
    "***LSTM Model***"
   ]
  },
  {
   "cell_type": "markdown",
   "id": "1ebee1a7-7e66-4e1a-a741-a389cc81cd2b",
   "metadata": {},
   "source": [
    "Detailed experiments on LSTM model are given in \"LSTMExp.ipynb\" file"
   ]
  },
  {
   "cell_type": "code",
   "execution_count": null,
   "id": "8f2acb5e-9912-4831-b35e-9afdb3e18de4",
   "metadata": {},
   "outputs": [],
   "source": [
    "#We have already done splitting of our data into X_train,X_test,y_train and y_test\n",
    "#Now we have data ready to create our model."
   ]
  },
  {
   "cell_type": "code",
   "execution_count": 291,
   "id": "e3d7df1e-b5b1-4973-9fef-1b27939d46a0",
   "metadata": {},
   "outputs": [
    {
     "name": "stdout",
     "output_type": "stream",
     "text": [
      "(40000,)\n",
      "(10000,)\n",
      "(40000,)\n",
      "(10000,)\n"
     ]
    }
   ],
   "source": [
    "#X  with reviews\n",
    "print(X_train.shape)\n",
    "print(X_test.shape)\n",
    "#y with sentiment targets, i.e., sentiment '0' or '1'\n",
    "print(y_train.shape)\n",
    "print(y_test.shape)"
   ]
  },
  {
   "cell_type": "code",
   "execution_count": 312,
   "id": "f009ba05-db5a-4a9e-a483-d667bca88d5e",
   "metadata": {},
   "outputs": [
    {
     "data": {
      "text/plain": [
       "'\\ndef get_max_length():\\n    review_length = []\\n    for review in X_train:\\n        review_length.append(len(review))\\n\\n    return int(np.ceil(np.mean(review_length)))\\n'"
      ]
     },
     "execution_count": 312,
     "metadata": {},
     "output_type": "execute_result"
    }
   ],
   "source": [
    "#We can also manually give max_length to our model, but we are calculating max_length from the mean of the reviews\n",
    "#Calculating max length for padding the sequence\n",
    "#Here instead of using this function we gave length as 130, because all our models with experiments are trained with 130.\n",
    "#To fit in to the input we are manually assigning length.\n",
    "'''\n",
    "def get_max_length():\n",
    "    review_length = []\n",
    "    for review in X_train:\n",
    "        review_length.append(len(review))\n",
    "\n",
    "    return int(np.ceil(np.mean(review_length)))\n",
    "'''"
   ]
  },
  {
   "cell_type": "markdown",
   "id": "39df0188-de14-4add-bd6c-92b9ffce985d",
   "metadata": {},
   "source": [
    "***Generating Feature***"
   ]
  },
  {
   "cell_type": "code",
   "execution_count": 96,
   "id": "b257deff-a3f8-4c80-950d-7cb7e9adb532",
   "metadata": {},
   "outputs": [],
   "source": [
    "#We are using Tokenizer here\n",
    "# The tokenizer module creates a word to index dictionary.\n",
    "# Each word is used as key while the corresponding unique index,\n",
    "# is used as the value for the key.\n",
    "\n",
    "token = Tokenizer(lower=False)    # no need lower, because already lowered the data in cleaning\n",
    "token.fit_on_texts(X_train)\n",
    "X_train_ls = token.texts_to_sequences(X_train)\n",
    "X_test_ls = token.texts_to_sequences(X_test)\n",
    "\n",
    "max_length = 130\n"
   ]
  },
  {
   "cell_type": "code",
   "execution_count": 97,
   "id": "1a8503dd-5a34-480b-b7b6-2ee45c3ccae0",
   "metadata": {},
   "outputs": [
    {
     "name": "stdout",
     "output_type": "stream",
     "text": [
      "138\n"
     ]
    }
   ],
   "source": [
    "print(len(X_train_ls[0]))"
   ]
  },
  {
   "cell_type": "code",
   "execution_count": 98,
   "id": "afa29c34-5788-474c-91b1-7d5324128e8d",
   "metadata": {},
   "outputs": [],
   "source": [
    "X_train_lstm = pad_sequences(X_train_ls, maxlen=max_length, padding='post', truncating='post')\n",
    "X_test_lstm = pad_sequences(X_test_ls, maxlen=max_length, padding='post', truncating='post')\n",
    "\n",
    "total_words = len(token.word_index) + 1   # adding 1 because of 0 padding"
   ]
  },
  {
   "cell_type": "code",
   "execution_count": 99,
   "id": "72e746b6-3743-4cb6-94da-4da0d1133e8a",
   "metadata": {},
   "outputs": [
    {
     "name": "stdout",
     "output_type": "stream",
     "text": [
      "Encoded X Train\n",
      " [[  694  3163 17588 ...  2452   314   324]\n",
      " [  526    22     8 ...   241   341   506]\n",
      " [  574   186     2 ...     2     3    36]\n",
      " ...\n",
      " [  139     2     4 ...     0     0     0]\n",
      " [    2  5770  2823 ...     1     1   530]\n",
      " [ 1920  1097   847 ...     0     0     0]] \n",
      "\n",
      "Encoded X Test\n",
      " [[ 1498  3883    33 ...     0     0     0]\n",
      " [ 1506  3046  3392 ...     0     0     0]\n",
      " [   71     2     4 ...    77    45 14367]\n",
      " ...\n",
      " [   18    44   175 ...     0     0     0]\n",
      " [  680  3595    61 ...     0     0     0]\n",
      " [  407   122    15 ...     0     0     0]] \n",
      "\n",
      "Maximum review length:  130\n"
     ]
    }
   ],
   "source": [
    "#We calculated max_length to make our encodings in equal size matrix.\n",
    "print('Encoded X Train\\n', X_train_lstm, '\\n')\n",
    "print('Encoded X Test\\n', X_test_lstm, '\\n')\n",
    "print('Maximum review length: ', max_length)"
   ]
  },
  {
   "cell_type": "code",
   "execution_count": 317,
   "id": "1d85cb6c-9fae-4d2c-87dd-8ebab4fea5ae",
   "metadata": {},
   "outputs": [
    {
     "data": {
      "text/plain": [
       "(40000, 130)"
      ]
     },
     "execution_count": 317,
     "metadata": {},
     "output_type": "execute_result"
    }
   ],
   "source": [
    "X_train_lstm.shape"
   ]
  },
  {
   "cell_type": "code",
   "execution_count": 318,
   "id": "e91463c0-5ab3-4fc6-9e2c-1bf1763e10a2",
   "metadata": {},
   "outputs": [
    {
     "data": {
      "text/plain": [
       "(40000,)"
      ]
     },
     "execution_count": 318,
     "metadata": {},
     "output_type": "execute_result"
    }
   ],
   "source": [
    "y_train.shape"
   ]
  },
  {
   "cell_type": "code",
   "execution_count": 319,
   "id": "c47fb613-6d53-4034-a3f9-1f299128a2b0",
   "metadata": {},
   "outputs": [
    {
     "data": {
      "text/plain": [
       "130"
      ]
     },
     "execution_count": 319,
     "metadata": {},
     "output_type": "execute_result"
    }
   ],
   "source": [
    "#All the reviews are transformed with length of 1003, reviews with less length are padded with zeros.\n",
    "len(X_train_lstm[10])"
   ]
  },
  {
   "cell_type": "code",
   "execution_count": 323,
   "id": "e8e51c97-4ca9-47fe-bbe0-466ea21624f3",
   "metadata": {},
   "outputs": [
    {
     "name": "stdout",
     "output_type": "stream",
     "text": [
      "Model: \"sequential_8\"\n",
      "_________________________________________________________________\n",
      "Layer (type)                 Output Shape              Param #   \n",
      "=================================================================\n",
      "embedding_8 (Embedding)      (None, 130, 100)          6474100   \n",
      "_________________________________________________________________\n",
      "lstm_15 (LSTM)               (None, 130, 50)           30200     \n",
      "_________________________________________________________________\n",
      "lstm_16 (LSTM)               (None, 25)                7600      \n",
      "_________________________________________________________________\n",
      "dense_15 (Dense)             (None, 50)                1300      \n",
      "_________________________________________________________________\n",
      "dropout_7 (Dropout)          (None, 50)                0         \n",
      "_________________________________________________________________\n",
      "dense_16 (Dense)             (None, 1)                 51        \n",
      "=================================================================\n",
      "Total params: 6,513,251\n",
      "Trainable params: 6,513,251\n",
      "Non-trainable params: 0\n",
      "_________________________________________________________________\n",
      "None\n"
     ]
    }
   ],
   "source": [
    "#Building our model\n",
    "#Architecture\n",
    "\n",
    "# ARCHITECTURE\n",
    "EMBED_DIM = 100\n",
    "LSTM_OUT = 50\n",
    "\n",
    "model = Sequential()\n",
    "model.add(Embedding(total_words, EMBED_DIM, input_length = max_length))\n",
    "model.add(LSTM(LSTM_OUT,return_sequences = True))\n",
    "model.add(LSTM(25))\n",
    "\n",
    "model.add(Dense(50,activation= 'relu'))\n",
    "model.add(Dropout(0.5))\n",
    "model.add(Dense(1, activation='sigmoid'))\n",
    "model.compile(optimizer = tf.keras.optimizers.Adam(learning_rate=0.0001, beta_1=0.9, beta_2=0.999, epsilon=1e-7), loss = 'binary_crossentropy', metrics = ['accuracy'])\n",
    "\n",
    "print(model.summary())\n"
   ]
  },
  {
   "cell_type": "code",
   "execution_count": 324,
   "id": "ce3183cc-78a4-4536-ab40-6103ef08061b",
   "metadata": {},
   "outputs": [],
   "source": [
    "file_name = 'LSTM_final1.h5'\n",
    "checkpoint_path =os.path.join('models',file_name)\n",
    "\n",
    "call_backs = tf.keras.callbacks.ModelCheckpoint(filepath =checkpoint_path,\n",
    "                                               monitor ='val_accuracy',\n",
    "                                               verbose =1,\n",
    "                                               save_freq='epoch',\n",
    "                                               save_best_only = False,\n",
    "                                               save_weights_only= False,\n",
    "                                             mode = 'max')\n",
    "#started at 8:30\n",
    "#Broke at 9:50 for 3 epochs for a total of 10 epochs due to urge of results\n",
    "#As i observed overfitting after 2 epochs, since I stopped."
   ]
  },
  {
   "cell_type": "code",
   "execution_count": 325,
   "id": "5bd0b187-87e4-4fee-bdda-7214990f71cb",
   "metadata": {},
   "outputs": [
    {
     "name": "stdout",
     "output_type": "stream",
     "text": [
      "Epoch 1/5\n",
      "250/250 [==============================] - 127s 465ms/step - loss: 0.6929 - accuracy: 0.5132 - val_loss: 0.6921 - val_accuracy: 0.5544\n",
      "\n",
      "Epoch 00001: saving model to models\\LSTM_final1.h5\n",
      "Epoch 2/5\n",
      "250/250 [==============================] - 112s 450ms/step - loss: 0.5071 - accuracy: 0.7513 - val_loss: 0.3318 - val_accuracy: 0.8645\n",
      "\n",
      "Epoch 00002: saving model to models\\LSTM_final1.h5\n",
      "Epoch 3/5\n",
      "250/250 [==============================] - 113s 454ms/step - loss: 0.2764 - accuracy: 0.8998 - val_loss: 0.2946 - val_accuracy: 0.8785\n",
      "\n",
      "Epoch 00003: saving model to models\\LSTM_final1.h5\n",
      "Epoch 4/5\n",
      "250/250 [==============================] - 119s 475ms/step - loss: 0.1994 - accuracy: 0.9344 - val_loss: 0.3209 - val_accuracy: 0.8769\n",
      "\n",
      "Epoch 00004: saving model to models\\LSTM_final1.h5\n",
      "Epoch 5/5\n",
      "250/250 [==============================] - 123s 491ms/step - loss: 0.1517 - accuracy: 0.9547 - val_loss: 0.3436 - val_accuracy: 0.8676\n",
      "\n",
      "Epoch 00005: saving model to models\\LSTM_final1.h5\n"
     ]
    }
   ],
   "source": [
    "history = model.fit(X_train_lstm, y_train, epochs= 5,\n",
    "                    batch_size = 128,validation_split = 0.2, verbose = 1,callbacks=call_backs)"
   ]
  },
  {
   "cell_type": "code",
   "execution_count": 326,
   "id": "c735c91d-8be7-4ff6-9ca5-09173032f3b3",
   "metadata": {},
   "outputs": [],
   "source": [
    "loaded_model = load_model('models/LSTM_final1.h5')"
   ]
  },
  {
   "cell_type": "code",
   "execution_count": 309,
   "id": "f6bc2939-d9af-4a6e-82d2-4de4ce1eece9",
   "metadata": {},
   "outputs": [],
   "source": [
    "#loaded_model = load_model('models/LSTM3.h5')"
   ]
  },
  {
   "cell_type": "code",
   "execution_count": null,
   "id": "b8416fe1-df96-4216-bcdc-c427e9d31715",
   "metadata": {},
   "outputs": [],
   "source": [
    "#pred = loaded_model.predict(X_test_lstm)"
   ]
  },
  {
   "cell_type": "code",
   "execution_count": 327,
   "id": "e8e9147b-76ed-4442-9e58-997cead9ecc8",
   "metadata": {},
   "outputs": [],
   "source": [
    "#This function helps us to plot learning curves\n",
    "def plot_learningcurve(history,epochs):\n",
    "    epoch_range = range(1,epochs+1)\n",
    "    plt.plot(epoch_range,history.history['accuracy'])\n",
    "    \n",
    "    plt.plot(epoch_range,history.history['val_accuracy'])\n",
    "    plt.title('Model Accuracy')\n",
    "    plt.ylabel('Accurcay')\n",
    "    plt.xlabel('Epoch')\n",
    "    plt.legend(['Train','Val'],loc='upper left')\n",
    "    plt.show()\n",
    "    plt.plot(epoch_range,history.history['loss'])\n",
    "    \n",
    "    plt.plot(epoch_range,history.history['val_loss'])\n",
    "    plt.title('Model Loss')\n",
    "    plt.ylabel('Loss')\n",
    "    plt.xlabel('Epoch')\n",
    "    plt.legend(['Train','Val'],loc='upper left')\n",
    "    plt.show()"
   ]
  },
  {
   "cell_type": "code",
   "execution_count": 328,
   "id": "078f58ee-4138-42c3-8a86-bc1af8dff73b",
   "metadata": {},
   "outputs": [
    {
     "data": {
      "image/png": "[encoded data removed]",
      "text/plain": [
       "<Figure size 432x288 with 1 Axes>"
      ]
     },
     "metadata": {
      "needs_background": "light"
     },
     "output_type": "display_data"
    },
    {
     "data": {
      "image/png": "[encoded data removed]",
      "text/plain": [
       "<Figure size 432x288 with 1 Axes>"
      ]
     },
     "metadata": {
      "needs_background": "light"
     },
     "output_type": "display_data"
    }
   ],
   "source": [
    "plot_learningcurve(history,5)"
   ]
  },
  {
   "cell_type": "code",
   "execution_count": 331,
   "id": "2a72ca22-7165-472c-94cb-5fdb7fe05062",
   "metadata": {},
   "outputs": [],
   "source": [
    "pred_list = model.predict(X_test_lstm)"
   ]
  },
  {
   "cell_type": "code",
   "execution_count": 332,
   "id": "4c018862-f6b7-4b0e-b6d2-3d66944e13e5",
   "metadata": {},
   "outputs": [],
   "source": [
    "#pred_list_test = loaded_model.predict(X_test_lstm)"
   ]
  },
  {
   "cell_type": "code",
   "execution_count": 336,
   "id": "89e6a528-492f-4cba-be3c-b67ad3246889",
   "metadata": {},
   "outputs": [
    {
     "data": {
      "text/plain": [
       "array([0.99], dtype=float32)"
      ]
     },
     "execution_count": 336,
     "metadata": {},
     "output_type": "execute_result"
    }
   ],
   "source": [
    "#pred_list_test[0]"
   ]
  },
  {
   "cell_type": "code",
   "execution_count": 334,
   "id": "2bbf9543-ee85-49fb-b458-cc4f8ade6f27",
   "metadata": {},
   "outputs": [
    {
     "data": {
      "text/plain": [
       "array([0.99], dtype=float32)"
      ]
     },
     "execution_count": 334,
     "metadata": {},
     "output_type": "execute_result"
    }
   ],
   "source": [
    "#Preprocessing our predictions to generate classification report\n",
    "pred_list[0]\n",
    "#Data type is float, we have to convert to int to perform evaluation."
   ]
  },
  {
   "cell_type": "code",
   "execution_count": 335,
   "id": "0f538b9d-eaef-47b6-bcc7-dff4c55b906e",
   "metadata": {},
   "outputs": [],
   "source": [
    "y_pred= []\n",
    "for i in pred_list:\n",
    "    if i>0.5:\n",
    "        \n",
    "        y_pred.append(1)\n",
    "    else:\n",
    "        y_pred.append(0)\n"
   ]
  },
  {
   "cell_type": "code",
   "execution_count": 337,
   "id": "fdebc115-99c7-4617-9120-549a74406498",
   "metadata": {},
   "outputs": [
    {
     "name": "stdout",
     "output_type": "stream",
     "text": [
      "              precision    recall  f1-score   support\n",
      "\n",
      "           0       0.85      0.89      0.87      5013\n",
      "           1       0.89      0.84      0.87      4987\n",
      "\n",
      "    accuracy                           0.87     10000\n",
      "   macro avg       0.87      0.87      0.87     10000\n",
      "weighted avg       0.87      0.87      0.87     10000\n",
      "\n"
     ]
    }
   ],
   "source": [
    "print(classification_report(y_test,y_pred))"
   ]
  },
  {
   "cell_type": "code",
   "execution_count": 339,
   "id": "2d96cb44-8d04-4edb-b88c-11c4be3bb59a",
   "metadata": {},
   "outputs": [
    {
     "name": "stdout",
     "output_type": "stream",
     "text": [
      "accuracy for model with LSTM is  0.869\n"
     ]
    }
   ],
   "source": [
    "print(\"accuracy for model with LSTM is \",metrics.accuracy_score(y_test,y_pred))"
   ]
  },
  {
   "cell_type": "code",
   "execution_count": 340,
   "id": "7d6e41d9-8675-436a-acd6-8ceb26fac541",
   "metadata": {},
   "outputs": [
    {
     "data": {
      "text/plain": [
       "{'loss': [0.6929177641868591,\n",
       "  0.5071074366569519,\n",
       "  0.2764304280281067,\n",
       "  0.19937461614608765,\n",
       "  0.1517355889081955],\n",
       " 'accuracy': [0.5131562352180481,\n",
       "  0.7512500286102295,\n",
       "  0.8998125195503235,\n",
       "  0.9344375133514404,\n",
       "  0.9547187685966492],\n",
       " 'val_loss': [0.6921126246452332,\n",
       "  0.3317543864250183,\n",
       "  0.2945933938026428,\n",
       "  0.3208574652671814,\n",
       "  0.34360963106155396],\n",
       " 'val_accuracy': [0.5543749928474426,\n",
       "  0.8644999861717224,\n",
       "  0.8784999847412109,\n",
       "  0.8768749833106995,\n",
       "  0.8676249980926514]}"
      ]
     },
     "execution_count": 340,
     "metadata": {},
     "output_type": "execute_result"
    }
   ],
   "source": [
    "history.history"
   ]
  },
  {
   "cell_type": "code",
   "execution_count": 350,
   "id": "53bf10eb-2b4a-4e75-b279-88c6d3309459",
   "metadata": {},
   "outputs": [
    {
     "name": "stdout",
     "output_type": "stream",
     "text": [
      "[[4486  527]\n",
      " [ 783 4204]]\n"
     ]
    }
   ],
   "source": [
    "print(confusion_matrix(y_test, y_pred))"
   ]
  },
  {
   "cell_type": "code",
   "execution_count": 351,
   "id": "b0c91da8-6abe-4258-afca-511c86219022",
   "metadata": {},
   "outputs": [
    {
     "name": "stdout",
     "output_type": "stream",
     "text": [
      "Confusion matrix\n",
      "[[4486  527]\n",
      " [ 783 4204]]\n"
     ]
    },
    {
     "data": {
      "image/png": "[encoded data removed]",
      "text/plain": [
       "<Figure size 936x360 with 2 Axes>"
      ]
     },
     "metadata": {
      "needs_background": "light"
     },
     "output_type": "display_data"
    }
   ],
   "source": [
    "# Compute confusion matrix\n",
    "cnf_matrix = confusion_matrix(y_test, y_pred)\n",
    "#nf_matrix1 = confusion_matrix(y_test, y_pred)\n",
    "#print(cnf_matrix)\n",
    "np.set_printoptions(precision=2)\n",
    "\n",
    "\n",
    "# Plot non-normalized confusion matrix\n",
    "plt.figure(figsize=(13,5))\n",
    "plt.subplot(1, 2, 1)\n",
    "plot_confusion_matrix(cnf_matrix, classes=['positive=1','negative=0'],normalize= False,  title='Confusion matrix for LSTM')\n"
   ]
  },
  {
   "cell_type": "code",
   "execution_count": 362,
   "id": "1308bec5-401b-477e-8261-e6acea3d1d10",
   "metadata": {},
   "outputs": [],
   "source": [
    "y_test_pred=pred_list.reshape(pred_list.shape[0])\n"
   ]
  },
  {
   "cell_type": "code",
   "execution_count": 363,
   "id": "4317a87e-31ee-41eb-bac5-b4d7cd642b50",
   "metadata": {},
   "outputs": [],
   "source": [
    "df_pred = pd.DataFrame(data={'y_actual': y_test, 'y_pred': y_test_pred})"
   ]
  },
  {
   "cell_type": "code",
   "execution_count": 364,
   "id": "7b990b0d-3f22-4e9d-87d2-1c4f8b905ef7",
   "metadata": {},
   "outputs": [
    {
     "data": {
      "text/plain": [
       "<matplotlib.legend.Legend at 0x13d9cefafd0>"
      ]
     },
     "execution_count": 364,
     "metadata": {},
     "output_type": "execute_result"
    },
    {
     "data": {
      "image/png": "[encoded data removed]",
      "text/plain": [
       "<Figure size 1152x432 with 1 Axes>"
      ]
     },
     "metadata": {
      "needs_background": "light"
     },
     "output_type": "display_data"
    }
   ],
   "source": [
    "plt.figure(figsize=(16, 6))\n",
    "\n",
    "msk = df_pred['y_actual'] == 0\n",
    "sns.distplot(df_pred.loc[msk, 'y_pred'], label='negative reviews', kde=False)\n",
    "sns.distplot(df_pred.loc[~msk, 'y_pred'], label='positive reviews', kde=False)\n",
    "plt.legend()"
   ]
  },
  {
   "cell_type": "code",
   "execution_count": 355,
   "id": "1f39fb31-397f-4b31-afd1-ee2e260adfc4",
   "metadata": {},
   "outputs": [],
   "source": [
    "#From this graph we can see that positive reviews predicted as negaative are very close to zero, same with negative also."
   ]
  },
  {
   "cell_type": "code",
   "execution_count": 367,
   "id": "1e42cac3-9bf8-4b3f-9847-5dce6deb0a40",
   "metadata": {},
   "outputs": [
    {
     "data": {
      "text/plain": [
       "<matplotlib.legend.Legend at 0x13d9ae88220>"
      ]
     },
     "execution_count": 367,
     "metadata": {},
     "output_type": "execute_result"
    },
    {
     "data": {
      "image/png": "[encoded data removed]",
      "text/plain": [
       "<Figure size 432x288 with 1 Axes>"
      ]
     },
     "metadata": {
      "needs_background": "light"
     },
     "output_type": "display_data"
    }
   ],
   "source": [
    "probs = pred_list\n",
    "# Reading probability of second class (Salary >= $200K)\n",
    "probs = probs[:, 0]\n",
    "fpr, tpr, thresholds = roc_curve(y_test, probs)\n",
    "roc_auc = auc(fpr, tpr)\n",
    "label = 'LSTM Classifier AUC:' + ' {0:.2f}'.format(roc_auc)\n",
    "plt.plot(fpr, tpr, c = 'b', label = label, linewidth = 2)\n",
    "plt.xlabel('False Positive Rate', fontsize = 12)\n",
    "plt.ylabel('True Positive Rate', fontsize = 12)\n",
    "plt.title('Receiver Operating Characteristic', fontsize = 12)\n",
    "plt.legend(loc = 'lower right', fontsize = 12)"
   ]
  },
  {
   "cell_type": "code",
   "execution_count": 368,
   "id": "7de73964-2c9a-456d-b0fb-c243020fb169",
   "metadata": {},
   "outputs": [],
   "source": [
    "#The area under curve is 0.93 which is really amazing and provides the information that our model is performing great."
   ]
  },
  {
   "cell_type": "code",
   "execution_count": 375,
   "id": "9970970e-d6e6-4339-8efa-21cbd70cb04b",
   "metadata": {},
   "outputs": [
    {
     "name": "stdout",
     "output_type": "stream",
     "text": [
      "Model: \"sequential_13\"\n",
      "_________________________________________________________________\n",
      "Layer (type)                 Output Shape              Param #   \n",
      "=================================================================\n",
      "embedding_13 (Embedding)     (None, 130, 100)          6474100   \n",
      "_________________________________________________________________\n",
      "conv1d_3 (Conv1D)            (None, 130, 32)           9632      \n",
      "_________________________________________________________________\n",
      "max_pooling1d_2 (MaxPooling1 (None, 65, 32)            0         \n",
      "_________________________________________________________________\n",
      "lstm_19 (LSTM)               (None, 100)               53200     \n",
      "_________________________________________________________________\n",
      "dense_19 (Dense)             (None, 1)                 101       \n",
      "=================================================================\n",
      "Total params: 6,537,033\n",
      "Trainable params: 6,537,033\n",
      "Non-trainable params: 0\n",
      "_________________________________________________________________\n",
      "None\n"
     ]
    }
   ],
   "source": [
    "# create the model\n",
    "EMBED_DIM = 100\n",
    "LSTM_OUT = 50\n",
    "max_length = 130\n",
    "\n",
    "model2 = Sequential()\n",
    "model2.add(Embedding(total_words, EMBED_DIM, input_length = max_length))\n",
    "model2.add(Conv1D(filters=32, kernel_size=3, padding='same', activation='relu'))\n",
    "model2.add(MaxPooling1D(pool_size=2))\n",
    "model2.add(LSTM(100))\n",
    "model2.add(Dense(1, activation='sigmoid'))\n",
    "model2.compile(loss='binary_crossentropy', optimizer='adam', metrics=['accuracy'])\n",
    "print(model2.summary())"
   ]
  },
  {
   "cell_type": "code",
   "execution_count": 376,
   "id": "7f021e2b-cb14-4c1a-9828-5254ceb0ce60",
   "metadata": {},
   "outputs": [],
   "source": [
    "file_name = 'LSTM_CNN.h5'\n",
    "checkpoint_path =os.path.join('models',file_name)\n",
    "\n",
    "call_backs = tf.keras.callbacks.ModelCheckpoint(filepath =checkpoint_path,\n",
    "                                               monitor ='val_accuracy',\n",
    "                                               verbose =1,\n",
    "                                               save_freq='epoch',\n",
    "                                               save_best_only = True,\n",
    "                                               save_weights_only= False,\n",
    "                                             mode = 'max')"
   ]
  },
  {
   "cell_type": "code",
   "execution_count": 377,
   "id": "a2fdb9b4-d6d7-4943-aaa2-f761300369c6",
   "metadata": {},
   "outputs": [
    {
     "name": "stdout",
     "output_type": "stream",
     "text": [
      "Epoch 1/5\n",
      "250/250 [==============================] - 84s 317ms/step - loss: 0.4352 - accuracy: 0.7793 - val_loss: 0.2970 - val_accuracy: 0.8784\n",
      "\n",
      "Epoch 00001: val_accuracy improved from -inf to 0.87837, saving model to models\\LSTM_CNN.h5\n",
      "Epoch 2/5\n",
      "250/250 [==============================] - 79s 314ms/step - loss: 0.2006 - accuracy: 0.9300 - val_loss: 0.3488 - val_accuracy: 0.8701\n",
      "\n",
      "Epoch 00002: val_accuracy did not improve from 0.87837\n",
      "Epoch 3/5\n",
      "250/250 [==============================] - 82s 327ms/step - loss: 0.1052 - accuracy: 0.9669 - val_loss: 0.3708 - val_accuracy: 0.8702\n",
      "\n",
      "Epoch 00003: val_accuracy did not improve from 0.87837\n",
      "Epoch 4/5\n",
      "250/250 [==============================] - 85s 340ms/step - loss: 0.0502 - accuracy: 0.9867 - val_loss: 0.4991 - val_accuracy: 0.8660\n",
      "\n",
      "Epoch 00004: val_accuracy did not improve from 0.87837\n",
      "Epoch 5/5\n",
      "250/250 [==============================] - 75s 298ms/step - loss: 0.0305 - accuracy: 0.9929 - val_loss: 0.5539 - val_accuracy: 0.8224\n",
      "\n",
      "Epoch 00005: val_accuracy did not improve from 0.87837\n"
     ]
    }
   ],
   "source": [
    "history = model2.fit(X_train_lstm, y_train, epochs= 5,\n",
    "                    batch_size = 128,validation_split = 0.2, verbose = 1,callbacks=call_backs)"
   ]
  },
  {
   "cell_type": "code",
   "execution_count": 379,
   "id": "b3884567-3197-434e-9fea-8ef381dbddb5",
   "metadata": {},
   "outputs": [],
   "source": [
    "loaded_model = load_model('models/LSTM_CNN.h5')"
   ]
  },
  {
   "cell_type": "code",
   "execution_count": 380,
   "id": "9376af52-fb6a-458b-b955-6544a60ed294",
   "metadata": {},
   "outputs": [
    {
     "data": {
      "image/png": "[encoded data removed]",
      "text/plain": [
       "<Figure size 432x288 with 1 Axes>"
      ]
     },
     "metadata": {
      "needs_background": "light"
     },
     "output_type": "display_data"
    },
    {
     "data": {
      "image/png": "[encoded data removed]",
      "text/plain": [
       "<Figure size 432x288 with 1 Axes>"
      ]
     },
     "metadata": {
      "needs_background": "light"
     },
     "output_type": "display_data"
    }
   ],
   "source": [
    "plot_learningcurve(history,5)"
   ]
  },
  {
   "cell_type": "code",
   "execution_count": 381,
   "id": "d8d6f4e5-04e8-4f65-b325-352a44dfc791",
   "metadata": {},
   "outputs": [],
   "source": [
    "pred_list_2 = model2.predict(X_test_lstm)"
   ]
  },
  {
   "cell_type": "code",
   "execution_count": 382,
   "id": "a83450b4-254b-4e58-b458-846b7cf05cde",
   "metadata": {},
   "outputs": [],
   "source": [
    "y_pred= []\n",
    "for i in pred_list_2:\n",
    "    if i>0.5:\n",
    "        \n",
    "        y_pred.append(1)\n",
    "    else:\n",
    "        y_pred.append(0)\n"
   ]
  },
  {
   "cell_type": "code",
   "execution_count": 383,
   "id": "4c3a8e33-2404-4c7c-8e66-a1c7a0931e2d",
   "metadata": {},
   "outputs": [
    {
     "name": "stdout",
     "output_type": "stream",
     "text": [
      "              precision    recall  f1-score   support\n",
      "\n",
      "           0       0.95      0.69      0.80      5013\n",
      "           1       0.76      0.96      0.85      4987\n",
      "\n",
      "    accuracy                           0.83     10000\n",
      "   macro avg       0.85      0.83      0.82     10000\n",
      "weighted avg       0.85      0.83      0.82     10000\n",
      "\n"
     ]
    }
   ],
   "source": [
    "print(classification_report(y_test,y_pred))"
   ]
  },
  {
   "cell_type": "code",
   "execution_count": 384,
   "id": "9e2ae1c8-d040-4009-83b3-6914a32ab4f2",
   "metadata": {},
   "outputs": [
    {
     "name": "stdout",
     "output_type": "stream",
     "text": [
      "accuracy for model with LSTM with CNN is  0.826\n"
     ]
    }
   ],
   "source": [
    "print(\"accuracy for model with LSTM with CNN is \",metrics.accuracy_score(y_test,y_pred))"
   ]
  },
  {
   "cell_type": "code",
   "execution_count": 385,
   "id": "64e91626-1d27-4fc5-9daa-a4114c01cab6",
   "metadata": {},
   "outputs": [
    {
     "name": "stdout",
     "output_type": "stream",
     "text": [
      "Confusion matrix\n",
      "[[3467 1546]\n",
      " [ 194 4793]]\n"
     ]
    },
    {
     "data": {
      "image/png": "[encoded data removed]",
      "text/plain": [
       "<Figure size 936x360 with 2 Axes>"
      ]
     },
     "metadata": {
      "needs_background": "light"
     },
     "output_type": "display_data"
    }
   ],
   "source": [
    "# Compute confusion matrix\n",
    "cnf_matrix = confusion_matrix(y_test, y_pred)\n",
    "#nf_matrix1 = confusion_matrix(y_test, y_pred)\n",
    "#print(cnf_matrix)\n",
    "np.set_printoptions(precision=2)\n",
    "\n",
    "\n",
    "# Plot non-normalized confusion matrix\n",
    "plt.figure(figsize=(13,5))\n",
    "plt.subplot(1, 2, 1)\n",
    "plot_confusion_matrix(cnf_matrix, classes=['positive=1','negative=0'],normalize= False,  title='Confusion matrix for LSTM')\n"
   ]
  },
  {
   "cell_type": "code",
   "execution_count": 386,
   "id": "8e9a2318-f660-4910-9ce5-07e0966398d9",
   "metadata": {},
   "outputs": [],
   "source": [
    "y_test_pred=pred_list_2.reshape(pred_list_2.shape[0])\n"
   ]
  },
  {
   "cell_type": "code",
   "execution_count": 387,
   "id": "ddbc2b78-c660-41c3-8ef2-bb5b853e5212",
   "metadata": {},
   "outputs": [],
   "source": [
    "df_pred = pd.DataFrame(data={'y_actual': y_test, 'y_pred': y_test_pred})"
   ]
  },
  {
   "cell_type": "code",
   "execution_count": 388,
   "id": "677eee1e-5d57-4c37-b330-6c0e811295ed",
   "metadata": {},
   "outputs": [
    {
     "data": {
      "text/plain": [
       "<matplotlib.legend.Legend at 0x13d9d33c850>"
      ]
     },
     "execution_count": 388,
     "metadata": {},
     "output_type": "execute_result"
    },
    {
     "data": {
      "image/png": "[encoded data removed]",
      "text/plain": [
       "<Figure size 1152x432 with 1 Axes>"
      ]
     },
     "metadata": {
      "needs_background": "light"
     },
     "output_type": "display_data"
    }
   ],
   "source": [
    "plt.figure(figsize=(16, 6))\n",
    "\n",
    "msk = df_pred['y_actual'] == 0\n",
    "sns.distplot(df_pred.loc[msk, 'y_pred'], label='negative reviews', kde=False)\n",
    "sns.distplot(df_pred.loc[~msk, 'y_pred'], label='positive reviews', kde=False)\n",
    "plt.legend()"
   ]
  },
  {
   "cell_type": "code",
   "execution_count": 396,
   "id": "0a544742-89e1-447e-9db9-952173aa583a",
   "metadata": {},
   "outputs": [
    {
     "name": "stdout",
     "output_type": "stream",
     "text": [
      "Model: \"sequential_15\"\n",
      "_________________________________________________________________\n",
      "Layer (type)                 Output Shape              Param #   \n",
      "=================================================================\n",
      "embedding_15 (Embedding)     (None, 130, 100)          6474100   \n",
      "_________________________________________________________________\n",
      "conv1d_5 (Conv1D)            (None, 130, 32)           9632      \n",
      "_________________________________________________________________\n",
      "max_pooling1d_4 (MaxPooling1 (None, 65, 32)            0         \n",
      "_________________________________________________________________\n",
      "dropout_9 (Dropout)          (None, 65, 32)            0         \n",
      "_________________________________________________________________\n",
      "lstm_21 (LSTM)               (None, 100)               53200     \n",
      "_________________________________________________________________\n",
      "dense_21 (Dense)             (None, 1)                 101       \n",
      "=================================================================\n",
      "Total params: 6,537,033\n",
      "Trainable params: 6,537,033\n",
      "Non-trainable params: 0\n",
      "_________________________________________________________________\n",
      "None\n"
     ]
    }
   ],
   "source": [
    "# create the model\n",
    "EMBED_DIM = 100\n",
    "LSTM_OUT = 50\n",
    "max_length = 130\n",
    "\n",
    "model4 = Sequential()\n",
    "model4.add(Embedding(total_words, EMBED_DIM, input_length = max_length))\n",
    "model4.add(Conv1D(filters=32, kernel_size=3, padding='same', activation='relu'))\n",
    "model4.add(MaxPooling1D(pool_size=2))\n",
    "model4.add(Dropout(0.5))\n",
    "model4.add(LSTM(100))\n",
    "model4.add(Dense(1, activation='sigmoid'))\n",
    "model4.compile(loss='binary_crossentropy', optimizer='adam', metrics=['accuracy'])\n",
    "\n",
    "model4.compile(optimizer = tf.keras.optimizers.Adam(learning_rate=0.0001, beta_1=0.9, beta_2=0.999, epsilon=1e-7), loss = 'binary_crossentropy', metrics = ['accuracy'])\n",
    "print(model4.summary())"
   ]
  },
  {
   "cell_type": "code",
   "execution_count": 397,
   "id": "b320fc57-67a2-4612-a4db-e6ee9f2463ad",
   "metadata": {},
   "outputs": [],
   "source": [
    "file_name = 'LSTM_CNN3.h5'\n",
    "checkpoint_path =os.path.join('models',file_name)\n",
    "\n",
    "call_backs = tf.keras.callbacks.ModelCheckpoint(filepath =checkpoint_path,\n",
    "                                               monitor ='val_accuracy',\n",
    "                                               verbose =1,\n",
    "                                               save_freq='epoch',\n",
    "                                               save_best_only = True,\n",
    "                                               save_weights_only= False,\n",
    "                                             mode = 'max')"
   ]
  },
  {
   "cell_type": "code",
   "execution_count": 398,
   "id": "b4449bcf-b94d-4484-a616-5d2e457ea342",
   "metadata": {},
   "outputs": [
    {
     "name": "stdout",
     "output_type": "stream",
     "text": [
      "Epoch 1/5\n",
      "250/250 [==============================] - 85s 320ms/step - loss: 0.6929 - accuracy: 0.5094 - val_loss: 0.6920 - val_accuracy: 0.5017\n",
      "\n",
      "Epoch 00001: val_accuracy improved from -inf to 0.50175, saving model to models\\LSTM_CNN3.h5\n",
      "Epoch 2/5\n",
      "250/250 [==============================] - 90s 362ms/step - loss: 0.4620 - accuracy: 0.7721 - val_loss: 0.3334 - val_accuracy: 0.8586\n",
      "\n",
      "Epoch 00002: val_accuracy improved from 0.50175 to 0.85862, saving model to models\\LSTM_CNN3.h5\n",
      "Epoch 3/5\n",
      "250/250 [==============================] - 87s 349ms/step - loss: 0.2796 - accuracy: 0.8868 - val_loss: 0.3100 - val_accuracy: 0.8694\n",
      "\n",
      "Epoch 00003: val_accuracy improved from 0.85862 to 0.86937, saving model to models\\LSTM_CNN3.h5\n",
      "Epoch 4/5\n",
      "250/250 [==============================] - 83s 332ms/step - loss: 0.2161 - accuracy: 0.9175 - val_loss: 0.2985 - val_accuracy: 0.8741\n",
      "\n",
      "Epoch 00004: val_accuracy improved from 0.86937 to 0.87413, saving model to models\\LSTM_CNN3.h5\n",
      "Epoch 5/5\n",
      "250/250 [==============================] - 83s 333ms/step - loss: 0.1726 - accuracy: 0.9350 - val_loss: 0.3391 - val_accuracy: 0.8683\n",
      "\n",
      "Epoch 00005: val_accuracy did not improve from 0.87413\n"
     ]
    }
   ],
   "source": [
    "history = model4.fit(X_train_lstm, y_train, epochs= 5,\n",
    "                    batch_size = 128,validation_split = 0.2, verbose = 1,callbacks=call_backs)"
   ]
  },
  {
   "cell_type": "code",
   "execution_count": 399,
   "id": "38fd71a6-dfd6-45c6-8f1e-7d08d8256d4c",
   "metadata": {},
   "outputs": [
    {
     "data": {
      "image/png": "[encoded data removed]",
      "text/plain": [
       "<Figure size 432x288 with 1 Axes>"
      ]
     },
     "metadata": {
      "needs_background": "light"
     },
     "output_type": "display_data"
    },
    {
     "data": {
      "image/png": "[encoded data removed]",
      "text/plain": [
       "<Figure size 432x288 with 1 Axes>"
      ]
     },
     "metadata": {
      "needs_background": "light"
     },
     "output_type": "display_data"
    }
   ],
   "source": [
    "plot_learningcurve(history,5)"
   ]
  },
  {
   "cell_type": "code",
   "execution_count": 100,
   "id": "3086bd31-53e9-4d4b-937a-5e7f7e52a15c",
   "metadata": {},
   "outputs": [],
   "source": [
    "loaded_model= load_model('models/LSTM_CNN.h5')"
   ]
  },
  {
   "cell_type": "code",
   "execution_count": 102,
   "id": "e2a59fef-c86b-472b-8808-d843452ba9af",
   "metadata": {},
   "outputs": [],
   "source": [
    "pred_list_4 = loaded_model.predict(X_test_lstm)"
   ]
  },
  {
   "cell_type": "code",
   "execution_count": 103,
   "id": "960931e4-0f6a-4d00-bf8c-e58fb38d8978",
   "metadata": {},
   "outputs": [
    {
     "data": {
      "text/plain": [
       "array([0.98], dtype=float32)"
      ]
     },
     "execution_count": 103,
     "metadata": {},
     "output_type": "execute_result"
    }
   ],
   "source": [
    "pred_list_4[0]"
   ]
  },
  {
   "cell_type": "code",
   "execution_count": 104,
   "id": "8aae2a34-bb22-4425-95ad-87bec8735177",
   "metadata": {},
   "outputs": [],
   "source": [
    "y_pred_4= []\n",
    "for i in pred_list_4:\n",
    "    if i>0.5:\n",
    "        \n",
    "        y_pred_4.append(1)\n",
    "    else:\n",
    "        y_pred_4.append(0)\n"
   ]
  },
  {
   "cell_type": "code",
   "execution_count": 105,
   "id": "3575d280-9609-4a53-bab4-39353563ae23",
   "metadata": {},
   "outputs": [
    {
     "name": "stdout",
     "output_type": "stream",
     "text": [
      "accuracy for model with LSTM with CNN is model4  0.8788\n"
     ]
    }
   ],
   "source": [
    "print(\"accuracy for model with LSTM with CNN is model4 \",metrics.accuracy_score(y_test,y_pred_4))"
   ]
  },
  {
   "cell_type": "code",
   "execution_count": 106,
   "id": "2a9d052f-41db-44f7-a3e0-539b4c0a51fa",
   "metadata": {},
   "outputs": [
    {
     "name": "stdout",
     "output_type": "stream",
     "text": [
      "              precision    recall  f1-score   support\n",
      "\n",
      "           0       0.88      0.88      0.88      5013\n",
      "           1       0.88      0.87      0.88      4987\n",
      "\n",
      "    accuracy                           0.88     10000\n",
      "   macro avg       0.88      0.88      0.88     10000\n",
      "weighted avg       0.88      0.88      0.88     10000\n",
      "\n"
     ]
    }
   ],
   "source": [
    "print(classification_report(y_test,y_pred_4))"
   ]
  },
  {
   "cell_type": "code",
   "execution_count": 107,
   "id": "be01d7bf-07e5-4043-9284-f8aae0c208b5",
   "metadata": {},
   "outputs": [
    {
     "name": "stdout",
     "output_type": "stream",
     "text": [
      "Confusion matrix\n",
      "[[4432  581]\n",
      " [ 631 4356]]\n"
     ]
    },
    {
     "data": {
      "image/png": "[encoded data removed]",
      "text/plain": [
       "<Figure size 936x360 with 2 Axes>"
      ]
     },
     "metadata": {
      "needs_background": "light"
     },
     "output_type": "display_data"
    }
   ],
   "source": [
    "# Compute confusion matrix\n",
    "cnf_matrix = confusion_matrix(y_test, y_pred_4)\n",
    "#nf_matrix1 = confusion_matrix(y_test, y_pred)\n",
    "#print(cnf_matrix)\n",
    "np.set_printoptions(precision=2)\n",
    "\n",
    "\n",
    "# Plot non-normalized confusion matrix\n",
    "plt.figure(figsize=(13,5))\n",
    "plt.subplot(1, 2, 1)\n",
    "plot_confusion_matrix(cnf_matrix, classes=['positive=1','negative=0'],normalize= False,  title='Confusion matrix for LSTM_CNN3')\n"
   ]
  },
  {
   "cell_type": "code",
   "execution_count": 410,
   "id": "fc00da57-08b5-4001-973b-42bd6d37094e",
   "metadata": {},
   "outputs": [
    {
     "data": {
      "text/plain": [
       "<matplotlib.legend.Legend at 0x13d9d33cd60>"
      ]
     },
     "execution_count": 410,
     "metadata": {},
     "output_type": "execute_result"
    },
    {
     "data": {
      "image/png": "[encoded data removed]",
      "text/plain": [
       "<Figure size 1152x432 with 1 Axes>"
      ]
     },
     "metadata": {
      "needs_background": "light"
     },
     "output_type": "display_data"
    }
   ],
   "source": [
    "y_test_pred=pred_list_4.reshape(pred_list_4.shape[0])\n",
    "df_pred = pd.DataFrame(data={'y_actual': y_test, 'y_pred': y_test_pred})\n",
    "plt.figure(figsize=(16, 6))\n",
    "\n",
    "msk = df_pred['y_actual'] == 0\n",
    "sns.distplot(df_pred.loc[msk, 'y_pred'], label='negative reviews', kde=False)\n",
    "sns.distplot(df_pred.loc[~msk, 'y_pred'], label='positive reviews', kde=False)\n",
    "plt.legend()"
   ]
  },
  {
   "cell_type": "code",
   "execution_count": 411,
   "id": "b0a5ac34-e37d-49a8-bd78-b9f9ed661c4f",
   "metadata": {},
   "outputs": [
    {
     "data": {
      "text/plain": [
       "<matplotlib.legend.Legend at 0x13d9d447a30>"
      ]
     },
     "execution_count": 411,
     "metadata": {},
     "output_type": "execute_result"
    },
    {
     "data": {
      "image/png": "[encoded data removed]",
      "text/plain": [
       "<Figure size 432x288 with 1 Axes>"
      ]
     },
     "metadata": {
      "needs_background": "light"
     },
     "output_type": "display_data"
    }
   ],
   "source": [
    "probs = pred_list_4\n",
    "# Reading probability of second class (Salary >= $200K)\n",
    "probs = probs[:, 0]\n",
    "fpr, tpr, thresholds = roc_curve(y_test, probs)\n",
    "roc_auc = auc(fpr, tpr)\n",
    "label = 'LSTM Classifier AUC:' + ' {0:.2f}'.format(roc_auc)\n",
    "plt.plot(fpr, tpr, c = 'b', label = label, linewidth = 2)\n",
    "plt.xlabel('False Positive Rate', fontsize = 12)\n",
    "plt.ylabel('True Positive Rate', fontsize = 12)\n",
    "plt.title('Receiver Operating Characteristic', fontsize = 12)\n",
    "plt.legend(loc = 'lower right', fontsize = 12)"
   ]
  },
  {
   "cell_type": "markdown",
   "id": "0c36d105-fcf9-43c6-bfd9-45957ef45525",
   "metadata": {},
   "source": [
    "***Real-Time data prediction****"
   ]
  },
  {
   "cell_type": "code",
   "execution_count": 424,
   "id": "870d9c9c-3e12-48cb-9e68-90de2c51bf63",
   "metadata": {},
   "outputs": [
    {
     "name": "stderr",
     "output_type": "stream",
     "text": [
      "[nltk_data] Downloading package stopwords to\n",
      "[nltk_data]     C:\\Users\\gayat\\AppData\\Roaming\\nltk_data...\n",
      "[nltk_data]   Package stopwords is already up-to-date!\n"
     ]
    },
    {
     "data": {
      "text/plain": [
       "True"
      ]
     },
     "execution_count": 424,
     "metadata": {},
     "output_type": "execute_result"
    }
   ],
   "source": [
    "import re\n",
    "import nltk\n",
    "nltk.download('stopwords')"
   ]
  },
  {
   "cell_type": "code",
   "execution_count": 452,
   "id": "422882af-2ef9-475b-8f79-bc14abdeaa49",
   "metadata": {},
   "outputs": [],
   "source": [
    "from nltk.corpus import stopwords"
   ]
  },
  {
   "cell_type": "code",
   "execution_count": 453,
   "id": "76d7a4b9-073e-4ef5-b69d-e183971a9842",
   "metadata": {},
   "outputs": [],
   "source": [
    "review = \"Nothing was typical about this. Everything was beautifully done in this movie, the story, the flow, the scenario, everything. I highly recommend it for mystery lovers, for anyone who wants to watch a good movie!\"\n",
    "# Pre-process input\n",
    "regex = re.compile(r'[^a-zA-Z\\s]')\n",
    "review = regex.sub('', review)\n",
    "#print('Cleaned: ', review)\n",
    "english_stops = set(stopwords.words('english'))\n",
    "words = review.split(' ')\n",
    "filtered = [w for w in words if w not in english_stops]\n",
    "filtered = ' '.join(filtered)\n",
    "filtered = [filtered.lower()]\n",
    "tokenize_words = token.texts_to_sequences(filtered)\n",
    "tokenize_words = pad_sequences(tokenize_words, maxlen=max_length, padding='post', truncating='post')"
   ]
  },
  {
   "cell_type": "code",
   "execution_count": 454,
   "id": "f0814758-a514-4f01-8b41-c66566079f41",
   "metadata": {},
   "outputs": [
    {
     "data": {
      "text/plain": [
       "(1, 130)"
      ]
     },
     "execution_count": 454,
     "metadata": {},
     "output_type": "execute_result"
    }
   ],
   "source": [
    "tokenize_words.shape"
   ]
  },
  {
   "cell_type": "code",
   "execution_count": 455,
   "id": "4f41b5d8-c365-44ea-a7fe-9cb4e3ed44de",
   "metadata": {},
   "outputs": [],
   "source": [
    "loaded_model =load_model('models/LSTM_CNN3.h5')"
   ]
  },
  {
   "cell_type": "code",
   "execution_count": 456,
   "id": "b06b3260-a9a9-4deb-b21c-ecec437db952",
   "metadata": {},
   "outputs": [
    {
     "name": "stdout",
     "output_type": "stream",
     "text": [
      "[[0.4]]\n"
     ]
    }
   ],
   "source": [
    "result = loaded_model.predict(tokenize_words)\n",
    "print(result)\n"
   ]
  },
  {
   "cell_type": "code",
   "execution_count": 459,
   "id": "326b36dc-2546-421e-8d04-d13c9c368290",
   "metadata": {},
   "outputs": [
    {
     "name": "stdout",
     "output_type": "stream",
     "text": [
      "Negative(0) review\n"
     ]
    }
   ],
   "source": [
    "if result>0.5:\n",
    "    print(\"Positive(1) review\")\n",
    "else:\n",
    "    print(\"Negative(0) review\")"
   ]
  },
  {
   "cell_type": "code",
   "execution_count": 469,
   "id": "56635bad-963f-4bf7-bb7d-47bad83ad02b",
   "metadata": {},
   "outputs": [],
   "source": [
    "def predict_CNN_review(review):\n",
    "    regex = re.compile(r'[^a-zA-Z\\s]')\n",
    "    review = regex.sub('', review)\n",
    "    #print('Cleaned: ', review)\n",
    "    english_stops = set(stopwords.words('english'))\n",
    "    words = review.split(' ')\n",
    "    filtered = [w for w in words if w not in english_stops]\n",
    "    filtered = ' '.join(filtered)\n",
    "    filtered = [filtered.lower()]\n",
    "    tokenize_words = token.texts_to_sequences(filtered)\n",
    "    tokenize_words = pad_sequences(tokenize_words, maxlen=max_length, padding='post', truncating='post')\n",
    "    loaded_model =load_model('models/LSTM_CNN3.h5')\n",
    "    result = loaded_model.predict(tokenize_words)\n",
    "    #print(result)\n",
    "    if result>0.5:\n",
    "        return \"Positive(1) review\"\n",
    "    else:\n",
    "        return \"Negative(0) review\"\n",
    "\n"
   ]
  },
  {
   "cell_type": "code",
   "execution_count": 473,
   "id": "7b868da2-b603-4a80-9eef-62193afabca6",
   "metadata": {},
   "outputs": [],
   "source": [
    "#This review is originally rated 6 on the website\n",
    "\n",
    "Custom_review1 =\"\"\" Why did you come here? What do you expect? The fast Saga - a movie that makes not much sense, but is pure \"popcorn\" if there is such a thing. We have new \"milestones\" ahead of us though. One is family related - pun intended, as is the cliche we get served here. Talking of cliches we get a beloved character back ... like they used to do in soaps ... because ... there are no rules.\n",
    "\n",
    "Well no rules that the real world would set - boundaries and all that. I mean even Paul Walkers character is still alive in this - even if we never see him. He is family - and family holds together and never dies (are they Goonies?).\n",
    "\n",
    "80s movie reference aside this is what fans should and probably will expect. Including the long awaited and completely insane ... well out of this world moment! And then add some of the most insane stunts and this should be one of the craziest (best?) movie/theatre experiences you can get.\n",
    "\n",
    "Again it doesn't make much sense (or any to be fair), but it is fun to watch. And why should you not have fun ... the soundtrack is hot, the muscles and the cars are hot ... the players are hot ... there is literally nothing that is below \"hot\" ... well there is one moment that is described as cold ... fair enough, but other than that: Hot! Even new additions to the cast - ones that probably are going to return and some that are just flavor of the month/fan service ... get with it or leave it seems to be what the movie is suggesting ...\"\"\"\n"
   ]
  },
  {
   "cell_type": "code",
   "execution_count": 474,
   "id": "6b86660c-c2bb-40eb-853f-ee23b572089a",
   "metadata": {},
   "outputs": [
    {
     "data": {
      "text/plain": [
       "'Positive(1) review'"
      ]
     },
     "execution_count": 474,
     "metadata": {},
     "output_type": "execute_result"
    }
   ],
   "source": [
    "predict_CNN_review(Custom_review1)"
   ]
  },
  {
   "cell_type": "code",
   "execution_count": 475,
   "id": "ae8b663b-5b26-48c2-968c-025851a9c14c",
   "metadata": {},
   "outputs": [],
   "source": [
    "#Took the reviews from Imdb website which as '6','5','10' ratings\n",
    "#Ref:https://www.imdb.com/title/tt5433138/reviews?ref_=tt_sa_3\n",
    "\n",
    "#Below is the 1 rated review on the website\n",
    "\n",
    "Custom_review2 = \"\"\" I am a huge fan of this franchise. And i watched all 9 movies again before F9. Here are my ratings for reference:\n",
    "\n",
    "(1) original 8/10... (2) 2 fast 7/10... (3) tokyo drift 3/10... (4) fast & furious 7/10... (5) fast 5 - 8/10... (6) fast & furious 6 - 8/10... (7) furious 7 - 4/10... (8) fate 8/10... (9) hobbs and shaw 2/10...\n",
    "\n",
    "in my review for hobbs and shaw, i said i hope f9 doesn't continue with the madness introduced in that movie. And in a way it doesn't. There are no super soldiers. And it doesn't switch to the sci-fi genre (for the most part). But in another way, it continues exactly where hobbs and shaw left off. Completely ridiculous action that is not the least bit believable and disregards the most basic laws of physics.\n",
    "\n",
    "And i could tell from the first action scene. I tried to be patient, but it got worse and worse. This series has always pushed the limits, but they've lost all restraint and do whatever they want, no matter how stupid. I groaned and rolled my eyes so many times. Some parts were so dumb that i straight up closed my eyes for 5 seconds cause i couldn't handle it. And it's not just a random thing here or there. It's the majority of the action.\n",
    "\n",
    "A quote from my hobbs and shaw review: \"I always say the best action movies toe the line between improbable and impossible. To quote joey from friends, 'you're so far past the line that you can't even see the line! The line is a dot to you!' lmao.\"\n",
    "\n",
    "On top of that, none of it is good. Even if you suspend disbelief, nothing about the action is impressive. Not one scene wowed me or gave me goosebumps. Even the fight scenes are crap. At one point i stopped caring about the action at all. And this is coming from an action junkie. By comparison, f8 had multiple BEASTLY action scenes that had my jaw dropped.\n",
    "\n",
    "Aside from the action, this movie just isn't good. The story is useless. They tried to have character moments, but they didn't work for me. Which is odd because i'm already invested in all these characters. Most of the comedy doesn't work. And some of it is done at the expense of realism (they do something that makes no sense so they can joke about it).\n",
    "\n",
    "My other biggest gripe: rewriting history. Apparently the trailer spoiled this, which is why i don't watch trailers. But they are pooping on their own franchise by changing past events. And you can argue that the franchise has done this before, but it was more of adding on to the story. Whereas with this movie, it really feels like they were pulling stuff out of their butts\n",
    "\n",
    "did i mention it's really dumb? Unfathomably dumb. You know the overused phrase \"i could feel myself getting dumber\"? I really really could. I found myself mouth-breathing with my eye lids half shut lol\n",
    "\n",
    "What a waste of charlize theron. I was so happy she survived f8. She's a BEAST of an actress (FURIOSA!), and i liked her villain. But she was literally in a box for the majority of the movie. Also, the Rock has become a staple of this franchise. Why is he not in this movie? Instead we get john cena. Sigh.\n",
    "\n",
    "Racking my brain trying to come up with a positive. All i got is the musical score. Or at least one track was awesome. They played it during the end credits.\n",
    "\n",
    "My entire theater clapped when it finished. Ppl are stupid. But that means we'll probably get another one. Hopefully they can right the ship. But i don't have much confidence in that happening.\n",
    "\n",
    "There is so much more i can talk about. I can't remember it all. But i'm sad and disappointed. My wait for good post-pandemic movies continues. So far i can think of one (a quiet place 2). And that's out of like 15-20 movies i've seen. (1 viewing, 6/24/2021)\"\"\""
   ]
  },
  {
   "cell_type": "code",
   "execution_count": 476,
   "id": "1dfb0d63-437c-47c2-98ef-1543cc1d7ae6",
   "metadata": {},
   "outputs": [
    {
     "data": {
      "text/plain": [
       "'Negative(0) review'"
      ]
     },
     "execution_count": 476,
     "metadata": {},
     "output_type": "execute_result"
    }
   ],
   "source": [
    "predict_CNN_review(Custom_review2)"
   ]
  },
  {
   "cell_type": "code",
   "execution_count": 477,
   "id": "18a603bf-14eb-4316-a5ca-b5f423edfa3e",
   "metadata": {},
   "outputs": [],
   "source": [
    "# 8 rated review\n",
    "Custom_review3=\"\"\" I think the people in charge of IMDB should add Sci-Fi to the genres and I understand the hate. Regardless of the flaws especially one being there's probably 20 parts where some of the characters should've died I hope I'm not the only one to feel this way otherwise Fast 9 is exhilarating fun most of the way of through. A hilarious side note the theater I go to has recliner seats and someone fairly fat broke the seat to the right of me lol! The best aspects are the action, comedy, and the cinematography; the story is kinda cheesy. Like my review or don't but I'm being nice with my rating. Aww come on the review is good I mean the movie is pretty good.\"\"\""
   ]
  },
  {
   "cell_type": "code",
   "execution_count": 478,
   "id": "b6e18543-98a1-492c-a15d-d25167a17d85",
   "metadata": {},
   "outputs": [
    {
     "data": {
      "text/plain": [
       "'Positive(1) review'"
      ]
     },
     "execution_count": 478,
     "metadata": {},
     "output_type": "execute_result"
    }
   ],
   "source": [
    "predict_CNN_review(Custom_review3)"
   ]
  },
  {
   "cell_type": "code",
   "execution_count": null,
   "id": "dd625cf1-6c67-4989-94cc-b56d842571bc",
   "metadata": {},
   "outputs": [],
   "source": []
  }
 ],
 "metadata": {
  "kernelspec": {
   "display_name": "Python 3 (ipykernel)",
   "language": "python",
   "name": "python3"
  },
  "language_info": {
   "codemirror_mode": {
    "name": "ipython",
    "version": 3
   },
   "file_extension": ".py",
   "mimetype": "text/x-python",
   "name": "python",
   "nbconvert_exporter": "python",
   "pygments_lexer": "ipython3",
   "version": "3.8.5"
  }
 },
 "nbformat": 4,
 "nbformat_minor": 5
}
