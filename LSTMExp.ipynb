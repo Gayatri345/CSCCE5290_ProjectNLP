{
 "cells": [
  {
   "cell_type": "code",
   "execution_count": 242,
   "id": "a5bfe20f-3b20-4fb0-9390-0c48e1c7d3e4",
   "metadata": {},
   "outputs": [],
   "source": [
    "import pandas as pd "
   ]
  },
  {
   "cell_type": "code",
   "execution_count": 243,
   "id": "dacb7ff1-5775-4095-bb1f-49473fca1a81",
   "metadata": {},
   "outputs": [],
   "source": [
    "import numpy as np \n",
    "import matplotlib.pyplot as plt\n",
    "import tensorflow as tf\n",
    "from tensorflow.keras.preprocessing.sequence import pad_sequences \n",
    "from sklearn.model_selection import train_test_split \n",
    "from tensorflow.keras.preprocessing.text import Tokenizer \n",
    "from tensorflow.keras.models import Sequential     # the model\n",
    "from tensorflow.keras.layers import Embedding, LSTM, Dense\n",
    "from tensorflow.keras.models import load_model "
   ]
  },
  {
   "cell_type": "code",
   "execution_count": 244,
   "id": "912cfb5b-addb-4aad-b5a3-e33e8ea6a6d9",
   "metadata": {},
   "outputs": [
    {
     "name": "stdout",
     "output_type": "stream",
     "text": [
      "                                                  review  sentiment\n",
      "0      In 1974, the teenager Martha Moxley (Maggie Gr...          1\n",
      "1      OK... so... I really like Kris Kristofferson a...          0\n",
      "2      ***SPOILER*** Do not read this, if you think a...          0\n",
      "3      hi for all the people who have seen this wonde...          1\n",
      "4      I recently bought the DVD, forgetting just how...          0\n",
      "...                                                  ...        ...\n",
      "49995  OK, lets start with the best. the building. al...          0\n",
      "49996  The British 'heritage film' industry is out of...          0\n",
      "49997  I don't even know where to begin on this one. ...          0\n",
      "49998  Richard Tyler is a little boy who is scared of...          0\n",
      "49999  I waited long to watch this movie. Also becaus...          1\n",
      "\n",
      "[50000 rows x 2 columns]\n"
     ]
    }
   ],
   "source": [
    "data = pd.read_csv('Data/movie_data.csv')\n",
    "\n",
    "print(data)"
   ]
  },
  {
   "cell_type": "code",
   "execution_count": 245,
   "id": "e5f7e201-9e60-43cc-b80d-1d3668cb528b",
   "metadata": {},
   "outputs": [],
   "source": [
    "def load_dataset():\n",
    "    df = pd.read_csv('Data/movie_data.csv')\n",
    "    X_data = df['review']       # Reviews/Input\n",
    "    y_data = df['sentiment']    # Sentiment/Output\n",
    "\n",
    "    # PRE-PROCESS REVIEW\n",
    "    X_data = X_data.replace({'<.*?>': ''}, regex = True)          # remove html tag\n",
    "    X_data = X_data.replace({'[^A-Za-z]': ' '}, regex = True)     # remove non alphabet\n",
    "    X_data = X_data.apply(lambda review: [w for w in review.split() if w not in english_stops])  # remove stop words\n",
    "    X_data = X_data.apply(lambda review: [w.lower() for w in review])   # lower case\n",
    "    \n",
    "    # Conevrting y_data into int\n",
    "    y_data = y_data.astype('int')\n",
    "   \n",
    "\n",
    "    return X_data, y_data\n",
    "\n",
    "X_data, y_data = load_dataset()\n",
    "\n",
    "#print('Reviews')\n",
    "#print(x_data, '\\n')\n",
    "#print('Sentiment')\n",
    "#print(y_data)"
   ]
  },
  {
   "cell_type": "code",
   "execution_count": 246,
   "id": "46ad242e-86c6-4015-a19d-d0fbef45fc7e",
   "metadata": {},
   "outputs": [],
   "source": [
    "X_train, X_test, y_train, y_test = train_test_split(X_data, y_data, random_state=0, test_size = 0.2)"
   ]
  },
  {
   "cell_type": "code",
   "execution_count": 247,
   "id": "51c9aa0f-5bcd-4b60-9aa9-103926853762",
   "metadata": {},
   "outputs": [],
   "source": [
    "#Calculating max length for padding the sequence\n",
    "def get_max_length():\n",
    "    review_length = []\n",
    "    for review in X_train:\n",
    "        review_length.append(len(review))\n",
    "\n",
    "    return int(np.ceil(np.mean(review_length)))"
   ]
  },
  {
   "cell_type": "code",
   "execution_count": 248,
   "id": "5bc34885-a47d-4193-a8eb-bdefee9e625b",
   "metadata": {},
   "outputs": [],
   "source": [
    "# ENCODE REVIEW\n",
    "token = Tokenizer(lower=False)    # no need lower, because already lowered the data in load_data()\n",
    "token.fit_on_texts(X_train)\n",
    "X_train = token.texts_to_sequences(X_train)\n",
    "X_test = token.texts_to_sequences(X_test)\n",
    "\n",
    "max_length = get_max_length()\n"
   ]
  },
  {
   "cell_type": "code",
   "execution_count": 249,
   "id": "eeaad64c-ec26-4bbc-a0b9-f8b32b119054",
   "metadata": {},
   "outputs": [],
   "source": [
    "X_train = pad_sequences(X_train, maxlen=max_length, padding='post', truncating='post')\n",
    "X_test = pad_sequences(X_test, maxlen=max_length, padding='post', truncating='post')\n",
    "\n",
    "total_words = len(token.word_index) + 1   # add 1 because of 0 padding"
   ]
  },
  {
   "cell_type": "code",
   "execution_count": 250,
   "id": "2912bbbd-55dc-4cb0-b585-b4ced77d7102",
   "metadata": {},
   "outputs": [
    {
     "name": "stdout",
     "output_type": "stream",
     "text": [
      "Encoded X Train\n",
      " [[ 1280   199   738 ...  2180     3   168]\n",
      " [   16 28150   809 ...     0     0     0]\n",
      " [   16   150     4 ...     0     0     0]\n",
      " ...\n",
      " [  119     3    23 ...     0     0     0]\n",
      " [    8    73     5 ...   513   380   128]\n",
      " [    1   119     3 ...   608  1813  7728]] \n",
      "\n",
      "Encoded X Test\n",
      " [[ 6284  1702  2619 ...   189  1326 10335]\n",
      " [    1    66 15770 ...     0     0     0]\n",
      " [  473    15  1331 ...     0     0     0]\n",
      " ...\n",
      " [ 7709  2047     3 ...    29     3   562]\n",
      " [   14    18   935 ...     0     0     0]\n",
      " [ 1420   694     8 ...     0     0     0]] \n",
      "\n",
      "Maximum review length:  130\n"
     ]
    }
   ],
   "source": [
    "print('Encoded X Train\\n', X_train, '\\n')\n",
    "print('Encoded X Test\\n', X_test, '\\n')\n",
    "print('Maximum review length: ', max_length)"
   ]
  },
  {
   "cell_type": "code",
   "execution_count": 132,
   "id": "7ff5183c-5403-4acc-8877-89b5f527bbac",
   "metadata": {},
   "outputs": [
    {
     "name": "stdout",
     "output_type": "stream",
     "text": [
      "Model: \"sequential_7\"\n",
      "_________________________________________________________________\n",
      "Layer (type)                 Output Shape              Param #   \n",
      "=================================================================\n",
      "embedding_7 (Embedding)      (None, 130, 32)           2956384   \n",
      "_________________________________________________________________\n",
      "lstm_7 (LSTM)                (None, 64)                24832     \n",
      "_________________________________________________________________\n",
      "dense_7 (Dense)              (None, 1)                 65        \n",
      "=================================================================\n",
      "Total params: 2,981,281\n",
      "Trainable params: 2,981,281\n",
      "Non-trainable params: 0\n",
      "_________________________________________________________________\n",
      "None\n"
     ]
    }
   ],
   "source": [
    "# ARCHITECTURE\n",
    "EMBED_DIM = 32\n",
    "LSTM_OUT = 64\n",
    "\n",
    "model = Sequential()\n",
    "model.add(Embedding(total_words, EMBED_DIM, input_length = max_length))\n",
    "model.add(LSTM(LSTM_OUT))\n",
    "model.add(Dense(1, activation='sigmoid'))\n",
    "model.compile(optimizer = 'adam', loss = 'binary_crossentropy', metrics = ['accuracy'])\n",
    "\n",
    "print(model.summary())"
   ]
  },
  {
   "cell_type": "code",
   "execution_count": 133,
   "id": "7e324ea3-eebe-4377-a89e-1966a4485ef2",
   "metadata": {},
   "outputs": [],
   "source": [
    "from tensorflow.keras.callbacks import ModelCheckpoint "
   ]
  },
  {
   "cell_type": "code",
   "execution_count": 134,
   "id": "e45200b2-50c2-4b70-b354-ddd8d716bb86",
   "metadata": {},
   "outputs": [],
   "source": [
    "import os\n",
    "file_name = 'LSTM1.h5'\n",
    "checkpoint_path =os.path.join('models',file_name)\n",
    "\n",
    "call_backs = tf.keras.callbacks.ModelCheckpoint(filepath =checkpoint_path,\n",
    "                                               monitor ='val_accuracy',\n",
    "                                               verbose =1,\n",
    "                                               save_freq='epoch',\n",
    "                                               save_best_only = False,\n",
    "                                               save_weights_only= False,\n",
    "                                               mode = 'max')"
   ]
  },
  {
   "cell_type": "code",
   "execution_count": 136,
   "id": "fcc4d1f7-491c-4aec-9fec-777e447379f3",
   "metadata": {},
   "outputs": [],
   "source": [
    "history = model.fit(X_train,y_train,epochs=10,validation_split = 0.2,batch_size=128,callbacks=call_backs)"
   ]
  },
  {
   "cell_type": "code",
   "execution_count": 237,
   "id": "4e62236a-6dce-4743-85ef-21a566a70b6c",
   "metadata": {},
   "outputs": [],
   "source": [
    "loaded_model = load_model('models/LSTM1.h5')"
   ]
  },
  {
   "cell_type": "code",
   "execution_count": 238,
   "id": "89f8e911-3cef-4f7a-82be-95569239dedd",
   "metadata": {},
   "outputs": [],
   "source": [
    "pred = loaded_model.predict(X_test)\n"
   ]
  },
  {
   "cell_type": "code",
   "execution_count": 239,
   "id": "4f428cb4-5d7c-4de5-a403-d2e08a4ee72c",
   "metadata": {},
   "outputs": [],
   "source": [
    "y_pred= []\n",
    "for i in pred:\n",
    "    if i>0.5:\n",
    "        \n",
    "        y_pred.append(1)\n",
    "    else:\n",
    "        y_pred.append(0)\n"
   ]
  },
  {
   "cell_type": "code",
   "execution_count": 240,
   "id": "dc0d2f9b-ee7a-4400-988f-0d41b6a65ade",
   "metadata": {},
   "outputs": [],
   "source": [
    "from sklearn import metrics\n",
    "from sklearn.metrics import classification_report,confusion_matrix"
   ]
  },
  {
   "cell_type": "code",
   "execution_count": 241,
   "id": "93a475b7-0142-464e-9272-75bab433de28",
   "metadata": {},
   "outputs": [
    {
     "name": "stdout",
     "output_type": "stream",
     "text": [
      "              precision    recall  f1-score   support\n",
      "\n",
      "           0       0.87      0.83      0.85      4902\n",
      "           1       0.85      0.89      0.87      5098\n",
      "\n",
      "    accuracy                           0.86     10000\n",
      "   macro avg       0.86      0.86      0.86     10000\n",
      "weighted avg       0.86      0.86      0.86     10000\n",
      "\n"
     ]
    }
   ],
   "source": [
    "print(classification_report(y_test,y_pred))"
   ]
  },
  {
   "cell_type": "code",
   "execution_count": 77,
   "id": "735ec0ab-f3c8-4647-9d09-63062f4b81dc",
   "metadata": {},
   "outputs": [
    {
     "data": {
      "text/plain": [
       "0.8602"
      ]
     },
     "execution_count": 77,
     "metadata": {},
     "output_type": "execute_result"
    }
   ],
   "source": [
    "metrics.accuracy_score(y_test,y_pred)"
   ]
  },
  {
   "cell_type": "code",
   "execution_count": 78,
   "id": "058608d2-69a3-4355-9def-7a358843fa76",
   "metadata": {},
   "outputs": [],
   "source": [
    "review = \"Nothing was typical about this. Everything was beautifully done in this movie, the story, the flow, the scenario, everything. I highly recommend it for mystery lovers, for anyone who wants to watch a good movie!\"\n",
    "# Pre-process input\n",
    "regex = re.compile(r'[^a-zA-Z\\s]')\n",
    "review = regex.sub('', review)\n",
    "#print('Cleaned: ', review)\n",
    "\n",
    "words = review.split(' ')\n",
    "filtered = [w for w in words if w not in english_stops]\n",
    "filtered = ' '.join(filtered)\n",
    "filtered = [filtered.lower()]\n",
    "tokenize_words = token.texts_to_sequences(filtered)\n",
    "tokenize_words = pad_sequences(tokenize_words, maxlen=max_length, padding='post', truncating='post')\n",
    "#print(tokenize_words)\n",
    "\n",
    "#print('Filtered: ', filtered)"
   ]
  },
  {
   "cell_type": "code",
   "execution_count": 79,
   "id": "fd920865-1900-416e-bd2f-92e7cb4437ea",
   "metadata": {},
   "outputs": [
    {
     "name": "stdout",
     "output_type": "stream",
     "text": [
      "negative\n"
     ]
    }
   ],
   "source": [
    "result = model.predict(tokenize_words)\n",
    "#print(result)\n",
    "if result >= 0.7:\n",
    "    print('positive')\n",
    "else:\n",
    "    print('negative')"
   ]
  },
  {
   "cell_type": "code",
   "execution_count": 80,
   "id": "fbd4c384-233f-4bb7-9079-63dc7fc95e5b",
   "metadata": {},
   "outputs": [
    {
     "data": {
      "text/plain": [
       "{'loss': [0.16945891082286835,\n",
       "  0.09571155905723572,\n",
       "  0.05909571051597595,\n",
       "  0.04647456482052803,\n",
       "  0.03548596054315567,\n",
       "  0.058155499398708344,\n",
       "  0.038048308342695236,\n",
       "  0.1489347517490387,\n",
       "  0.13872027397155762,\n",
       "  0.04269442707300186],\n",
       " 'accuracy': [0.9438124895095825,\n",
       "  0.9735312461853027,\n",
       "  0.9854687452316284,\n",
       "  0.989062488079071,\n",
       "  0.9917812347412109,\n",
       "  0.9865624904632568,\n",
       "  0.9907500147819519,\n",
       "  0.9635312557220459,\n",
       "  0.9638124704360962,\n",
       "  0.9896875023841858],\n",
       " 'val_loss': [0.32820531725883484,\n",
       "  0.4005042016506195,\n",
       "  0.3822210729122162,\n",
       "  0.46928998827934265,\n",
       "  0.5421878099441528,\n",
       "  0.4863218367099762,\n",
       "  0.7223219871520996,\n",
       "  0.5392511487007141,\n",
       "  0.5307446718215942,\n",
       "  0.5287458896636963],\n",
       " 'val_accuracy': [0.871999979019165,\n",
       "  0.8698750138282776,\n",
       "  0.8663750290870667,\n",
       "  0.8650000095367432,\n",
       "  0.8601250052452087,\n",
       "  0.8565000295639038,\n",
       "  0.8539999723434448,\n",
       "  0.7927500009536743,\n",
       "  0.8522499799728394,\n",
       "  0.8526250123977661]}"
      ]
     },
     "execution_count": 80,
     "metadata": {},
     "output_type": "execute_result"
    }
   ],
   "source": [
    "history.history"
   ]
  },
  {
   "cell_type": "code",
   "execution_count": 81,
   "id": "c47dbd12-a148-43a1-811b-6ac46a112589",
   "metadata": {},
   "outputs": [
    {
     "name": "stdout",
     "output_type": "stream",
     "text": [
      "[[4513  585]\n",
      " [ 813 4089]]\n"
     ]
    }
   ],
   "source": [
    "print(confusion_matrix(y_test, y_pred, labels=[1,0]))"
   ]
  },
  {
   "cell_type": "code",
   "execution_count": 89,
   "id": "7bec2dd0-f35d-43ee-b26b-271a4695df34",
   "metadata": {},
   "outputs": [],
   "source": [
    "def plot_learningcurve(history,epochs):\n",
    "    epoch_range = range(1,epochs+1)\n",
    "    plt.plot(epoch_range,history.history['accuracy'])\n",
    "    \n",
    "    plt.plot(epoch_range,history.history['val_accuracy'])\n",
    "    plt.title('Model Accuracy')\n",
    "    plt.ylabel('Accurcay')\n",
    "    plt.xlabel('Epoch')\n",
    "    plt.legend(['Train','Val'],loc='upper left')\n",
    "    plt.show()\n",
    "    plt.plot(epoch_range,history.history['loss'])\n",
    "    \n",
    "    plt.plot(epoch_range,history.history['val_loss'])\n",
    "    plt.title('Model Loss')\n",
    "    plt.ylabel('Loss')\n",
    "    plt.xlabel('Epoch')\n",
    "    plt.legend(['Train','Val'],loc='upper left')\n",
    "    plt.show()"
   ]
  },
  {
   "cell_type": "code",
   "execution_count": 90,
   "id": "36e8d480-90a4-4c14-b867-d2b209911fcb",
   "metadata": {},
   "outputs": [
    {
     "data": {
      "image/png": "[encoded data removed]",
      "text/plain": [
       "<Figure size 432x288 with 1 Axes>"
      ]
     },
     "metadata": {
      "needs_background": "light"
     },
     "output_type": "display_data"
    },
    {
     "data": {
      "image/png": "[encoded data removed]",
      "text/plain": [
       "<Figure size 432x288 with 1 Axes>"
      ]
     },
     "metadata": {
      "needs_background": "light"
     },
     "output_type": "display_data"
    }
   ],
   "source": [
    "plot_learningcurve(history,10)"
   ]
  },
  {
   "cell_type": "code",
   "execution_count": 91,
   "id": "1011bd80-a9a4-4147-8a19-b2bec4f98371",
   "metadata": {},
   "outputs": [
    {
     "name": "stdout",
     "output_type": "stream",
     "text": [
      "Model: \"sequential_1\"\n",
      "_________________________________________________________________\n",
      "Layer (type)                 Output Shape              Param #   \n",
      "=================================================================\n",
      "embedding_1 (Embedding)      (None, 130, 32)           2956384   \n",
      "_________________________________________________________________\n",
      "lstm_1 (LSTM)                (None, 128)               82432     \n",
      "_________________________________________________________________\n",
      "dense_1 (Dense)              (None, 1)                 129       \n",
      "=================================================================\n",
      "Total params: 3,038,945\n",
      "Trainable params: 3,038,945\n",
      "Non-trainable params: 0\n",
      "_________________________________________________________________\n",
      "None\n"
     ]
    }
   ],
   "source": [
    "# ARCHITECTURE\n",
    "EMBED_DIM = 32\n",
    "LSTM_OUT = 128\n",
    "\n",
    "model2 = Sequential()\n",
    "model2.add(Embedding(total_words, EMBED_DIM, input_length = max_length))\n",
    "model2.add(LSTM(LSTM_OUT))\n",
    "model2.add(Dense(1, activation='sigmoid'))\n",
    "model2.compile(optimizer = 'adam', loss = 'binary_crossentropy', metrics = ['accuracy'])\n",
    "\n",
    "print(model2.summary())"
   ]
  },
  {
   "cell_type": "code",
   "execution_count": 95,
   "id": "cf933b2c-9b94-47bd-9588-2d773a747c6c",
   "metadata": {},
   "outputs": [],
   "source": [
    "import os\n",
    "file_name = 'LSTM2.h5'\n",
    "checkpoint_path =os.path.join('models',file_name)\n",
    "\n",
    "call_backs = tf.keras.callbacks.ModelCheckpoint(filepath =checkpoint_path,\n",
    "                                               monitor ='val_accuracy',\n",
    "                                               verbose =1,\n",
    "                                               save_freq='epoch',\n",
    "                                               save_best_only = False,\n",
    "                                               save_weights_only= False,\n",
    "                                               mode = 'max')"
   ]
  },
  {
   "cell_type": "code",
   "execution_count": 96,
   "id": "bdd7dc64-484c-4d4f-b9c2-d4a478fbdb46",
   "metadata": {},
   "outputs": [
    {
     "name": "stdout",
     "output_type": "stream",
     "text": [
      "Epoch 1/5\n",
      "250/250 [==============================] - 100s 401ms/step - loss: 0.0916 - accuracy: 0.9744 - val_loss: 0.4444 - val_accuracy: 0.8660\n",
      "\n",
      "Epoch 00001: saving model to models\\LSTM2.h5\n",
      "Epoch 2/5\n",
      "250/250 [==============================] - 104s 415ms/step - loss: 0.0737 - accuracy: 0.9810 - val_loss: 0.4484 - val_accuracy: 0.8619\n",
      "\n",
      "Epoch 00002: saving model to models\\LSTM2.h5\n",
      "Epoch 3/5\n",
      "250/250 [==============================] - 100s 401ms/step - loss: 0.0669 - accuracy: 0.9830 - val_loss: 0.3911 - val_accuracy: 0.8586\n",
      "\n",
      "Epoch 00003: saving model to models\\LSTM2.h5\n",
      "Epoch 4/5\n",
      "250/250 [==============================] - 98s 392ms/step - loss: 0.0476 - accuracy: 0.9887 - val_loss: 0.5321 - val_accuracy: 0.8559\n",
      "\n",
      "Epoch 00004: saving model to models\\LSTM2.h5\n",
      "Epoch 5/5\n",
      "250/250 [==============================] - 96s 384ms/step - loss: 0.0407 - accuracy: 0.9912 - val_loss: 0.5895 - val_accuracy: 0.8537\n",
      "\n",
      "Epoch 00005: saving model to models\\LSTM2.h5\n"
     ]
    }
   ],
   "source": [
    "history = model2.fit(X_train,y_train,epochs=5,validation_split = 0.2,batch_size=128,callbacks=call_backs)"
   ]
  },
  {
   "cell_type": "code",
   "execution_count": null,
   "id": "8df55146-021b-493d-8ad7-a86ceee64d19",
   "metadata": {},
   "outputs": [],
   "source": []
  },
  {
   "cell_type": "code",
   "execution_count": 97,
   "id": "4cb07877-07f2-49d0-bb9a-e575d27fbcb9",
   "metadata": {},
   "outputs": [
    {
     "name": "stdout",
     "output_type": "stream",
     "text": [
      "              precision    recall  f1-score   support\n",
      "\n",
      "           0       0.87      0.83      0.85      4902\n",
      "           1       0.85      0.89      0.87      5098\n",
      "\n",
      "    accuracy                           0.86     10000\n",
      "   macro avg       0.86      0.86      0.86     10000\n",
      "weighted avg       0.86      0.86      0.86     10000\n",
      "\n"
     ]
    }
   ],
   "source": [
    "print(classification_report(y_test,y_pred))"
   ]
  },
  {
   "cell_type": "code",
   "execution_count": null,
   "id": "df5d65b4-cf27-4f56-8e48-335d690e18d6",
   "metadata": {},
   "outputs": [],
   "source": []
  },
  {
   "cell_type": "code",
   "execution_count": 146,
   "id": "6b1a1678-de47-4a4e-8698-39313fa3a3e4",
   "metadata": {},
   "outputs": [
    {
     "name": "stdout",
     "output_type": "stream",
     "text": [
      "Model: \"sequential_11\"\n",
      "_________________________________________________________________\n",
      "Layer (type)                 Output Shape              Param #   \n",
      "=================================================================\n",
      "embedding_11 (Embedding)     (None, 130, 32)           2956384   \n",
      "_________________________________________________________________\n",
      "lstm_11 (LSTM)               (None, 128)               82432     \n",
      "_________________________________________________________________\n",
      "dense_11 (Dense)             (None, 1)                 129       \n",
      "=================================================================\n",
      "Total params: 3,038,945\n",
      "Trainable params: 3,038,945\n",
      "Non-trainable params: 0\n",
      "_________________________________________________________________\n",
      "None\n"
     ]
    }
   ],
   "source": [
    "# ARCHITECTURE\n",
    "EMBED_DIM = 32\n",
    "LSTM_OUT = 128\n",
    "\n",
    "model3 = Sequential()\n",
    "model3.add(Embedding(total_words, EMBED_DIM, input_length = max_length))\n",
    "model3.add(LSTM(LSTM_OUT))\n",
    "model3.add(Dense(1, activation='sigmoid'))\n",
    "model3.compile(optimizer = tf.keras.optimizers.Adam(learning_rate=0.0001, beta_1=0.9, beta_2=0.999, epsilon=1e-7), loss = 'binary_crossentropy', metrics = ['accuracy'])\n",
    "\n",
    "print(model3.summary())\n",
    "#optimizer = tf.keras.optimizers.Adam(learning_rate=0.0001, beta_1=0.9, beta_2=0.999, epsilon=1e-7)"
   ]
  },
  {
   "cell_type": "code",
   "execution_count": 147,
   "id": "88146db1-85b9-4c0b-ae52-47bfee42b64e",
   "metadata": {},
   "outputs": [],
   "source": [
    "import os\n",
    "file_name = 'LSTM3.h5'\n",
    "checkpoint_path =os.path.join('models',file_name)\n",
    "\n",
    "call_backs = tf.keras.callbacks.ModelCheckpoint(filepath =checkpoint_path,\n",
    "                                               monitor ='val_accuracy',\n",
    "                                               verbose =1,\n",
    "                                               save_freq='epoch',\n",
    "                                               save_best_only = False,\n",
    "                                               save_weights_only= False,\n",
    "                                               mode = 'max')"
   ]
  },
  {
   "cell_type": "code",
   "execution_count": 148,
   "id": "7ce7a1d0-4704-44e7-bf91-4c72ee8cdd63",
   "metadata": {},
   "outputs": [
    {
     "name": "stdout",
     "output_type": "stream",
     "text": [
      "Epoch 1/5\n",
      "250/250 [==============================] - 97s 373ms/step - loss: 0.6930 - accuracy: 0.5115 - val_loss: 0.6926 - val_accuracy: 0.5370\n",
      "\n",
      "Epoch 00001: saving model to models\\LSTM3.h5\n",
      "Epoch 2/5\n",
      "250/250 [==============================] - 89s 356ms/step - loss: 0.4962 - accuracy: 0.7384 - val_loss: 0.3508 - val_accuracy: 0.8534\n",
      "\n",
      "Epoch 00002: saving model to models\\LSTM3.h5\n",
      "Epoch 3/5\n",
      "250/250 [==============================] - 89s 356ms/step - loss: 0.2687 - accuracy: 0.8966 - val_loss: 0.3519 - val_accuracy: 0.8640\n",
      "\n",
      "Epoch 00003: saving model to models\\LSTM3.h5\n",
      "Epoch 4/5\n",
      "250/250 [==============================] - 92s 368ms/step - loss: 0.1885 - accuracy: 0.9327 - val_loss: 0.3124 - val_accuracy: 0.8723\n",
      "\n",
      "Epoch 00004: saving model to models\\LSTM3.h5\n",
      "Epoch 5/5\n",
      "250/250 [==============================] - 99s 396ms/step - loss: 0.1355 - accuracy: 0.9558 - val_loss: 0.4361 - val_accuracy: 0.8604\n",
      "\n",
      "Epoch 00005: saving model to models\\LSTM3.h5\n"
     ]
    }
   ],
   "source": [
    "history = model3.fit(X_train,y_train,epochs=5,validation_split = 0.2,batch_size=128,callbacks=call_backs)\n",
    "#history = model.fit(X_train,y_train,epochs=10,validation_split = 0.2,batch_size=128,callbacks=call_backs)"
   ]
  },
  {
   "cell_type": "code",
   "execution_count": 149,
   "id": "a14f3b51-3d83-4368-bce0-6a066648a8f2",
   "metadata": {},
   "outputs": [
    {
     "name": "stdout",
     "output_type": "stream",
     "text": [
      "              precision    recall  f1-score   support\n",
      "\n",
      "           0       0.87      0.83      0.85      4902\n",
      "           1       0.85      0.89      0.87      5098\n",
      "\n",
      "    accuracy                           0.86     10000\n",
      "   macro avg       0.86      0.86      0.86     10000\n",
      "weighted avg       0.86      0.86      0.86     10000\n",
      "\n"
     ]
    }
   ],
   "source": [
    "print(classification_report(y_test,y_pred))"
   ]
  },
  {
   "cell_type": "code",
   "execution_count": 150,
   "id": "1d1626c4-0ada-4665-a295-e7b0088325bb",
   "metadata": {},
   "outputs": [
    {
     "data": {
      "image/png": "[encoded data removed]",
      "text/plain": [
       "<Figure size 432x288 with 1 Axes>"
      ]
     },
     "metadata": {
      "needs_background": "light"
     },
     "output_type": "display_data"
    },
    {
     "data": {
      "image/png": "[encoded data removed]",
      "text/plain": [
       "<Figure size 432x288 with 1 Axes>"
      ]
     },
     "metadata": {
      "needs_background": "light"
     },
     "output_type": "display_data"
    }
   ],
   "source": [
    "plot_learningcurve(history,5)"
   ]
  },
  {
   "cell_type": "code",
   "execution_count": 155,
   "id": "004b5315-9de5-4aef-98a0-072136308a2a",
   "metadata": {},
   "outputs": [
    {
     "name": "stdout",
     "output_type": "stream",
     "text": [
      "Model: \"sequential_14\"\n",
      "_________________________________________________________________\n",
      "Layer (type)                 Output Shape              Param #   \n",
      "=================================================================\n",
      "embedding_14 (Embedding)     (None, 130, 32)           2956384   \n",
      "_________________________________________________________________\n",
      "lstm_14 (LSTM)               (None, 128)               82432     \n",
      "_________________________________________________________________\n",
      "dense_14 (Dense)             (None, 1)                 129       \n",
      "=================================================================\n",
      "Total params: 3,038,945\n",
      "Trainable params: 3,038,945\n",
      "Non-trainable params: 0\n",
      "_________________________________________________________________\n",
      "None\n"
     ]
    }
   ],
   "source": [
    "# ARCHITECTURE\n",
    "EMBED_DIM = 32\n",
    "LSTM_OUT = 128\n",
    "\n",
    "model4 = Sequential()\n",
    "model4.add(Embedding(total_words, EMBED_DIM, input_length = max_length))\n",
    "model4.add(LSTM(LSTM_OUT))\n",
    "model4.add(Dense(1, activation='sigmoid'))\n",
    "model4.compile(optimizer = tf.keras.optimizers.SGD(learning_rate=0.0001), loss = 'binary_crossentropy', metrics = ['accuracy'])\n",
    "\n",
    "print(model4.summary())\n",
    "#optimizer = tf.keras.optimizers.Adam(learning_rate=0.0001, beta_1=0.9, beta_2=0.999, epsilon=1e-7)"
   ]
  },
  {
   "cell_type": "code",
   "execution_count": 158,
   "id": "e2dffe76-8997-4846-b18f-de1298105b79",
   "metadata": {},
   "outputs": [],
   "source": [
    "import os\n",
    "file_name = 'LSTM4.h5'\n",
    "checkpoint_path =os.path.join('models',file_name)\n",
    "\n",
    "call_backs = tf.keras.callbacks.ModelCheckpoint(filepath =checkpoint_path,\n",
    "                                               monitor ='val_accuracy',\n",
    "                                               verbose =1,\n",
    "                                               save_freq='epoch',\n",
    "                                               save_best_only = False,\n",
    "                                               save_weights_only= False,\n",
    "                                               mode = 'max')"
   ]
  },
  {
   "cell_type": "code",
   "execution_count": 159,
   "id": "9d7af5e6-64be-40a7-9cdc-988bd6167e94",
   "metadata": {},
   "outputs": [
    {
     "name": "stdout",
     "output_type": "stream",
     "text": [
      "Epoch 1/5\n",
      "250/250 [==============================] - 100s 399ms/step - loss: 0.6932 - accuracy: 0.4989 - val_loss: 0.6933 - val_accuracy: 0.4924\n",
      "\n",
      "Epoch 00001: saving model to models\\LSTM4.h5\n",
      "Epoch 2/5\n",
      "250/250 [==============================] - 110s 441ms/step - loss: 0.6932 - accuracy: 0.4997 - val_loss: 0.6933 - val_accuracy: 0.4929\n",
      "\n",
      "Epoch 00002: saving model to models\\LSTM4.h5\n",
      "Epoch 3/5\n",
      "250/250 [==============================] - 101s 403ms/step - loss: 0.6932 - accuracy: 0.4991 - val_loss: 0.6933 - val_accuracy: 0.4945\n",
      "\n",
      "Epoch 00003: saving model to models\\LSTM4.h5\n",
      "Epoch 4/5\n",
      "250/250 [==============================] - 99s 397ms/step - loss: 0.6932 - accuracy: 0.4989 - val_loss: 0.6933 - val_accuracy: 0.4951\n",
      "\n",
      "Epoch 00004: saving model to models\\LSTM4.h5\n",
      "Epoch 5/5\n",
      "250/250 [==============================] - 107s 430ms/step - loss: 0.6932 - accuracy: 0.4990 - val_loss: 0.6933 - val_accuracy: 0.4944\n",
      "\n",
      "Epoch 00005: saving model to models\\LSTM4.h5\n"
     ]
    }
   ],
   "source": [
    "history = model4.fit(X_train,y_train,epochs=5,validation_split = 0.2,batch_size=128,callbacks=call_backs)"
   ]
  },
  {
   "cell_type": "code",
   "execution_count": 160,
   "id": "e64cc20d-3709-4b3f-ae45-4d154b3a7b89",
   "metadata": {},
   "outputs": [
    {
     "data": {
      "image/png": "[encoded data removed]",
      "text/plain": [
       "<Figure size 432x288 with 1 Axes>"
      ]
     },
     "metadata": {
      "needs_background": "light"
     },
     "output_type": "display_data"
    },
    {
     "data": {
      "image/png": "[encoded data removed]",
      "text/plain": [
       "<Figure size 432x288 with 1 Axes>"
      ]
     },
     "metadata": {
      "needs_background": "light"
     },
     "output_type": "display_data"
    }
   ],
   "source": [
    "plot_learningcurve(history,5)"
   ]
  },
  {
   "cell_type": "code",
   "execution_count": 161,
   "id": "a62f7f49-47a9-4358-97ad-86dcbaa2da38",
   "metadata": {},
   "outputs": [
    {
     "name": "stdout",
     "output_type": "stream",
     "text": [
      "              precision    recall  f1-score   support\n",
      "\n",
      "           0       0.87      0.83      0.85      4902\n",
      "           1       0.85      0.89      0.87      5098\n",
      "\n",
      "    accuracy                           0.86     10000\n",
      "   macro avg       0.86      0.86      0.86     10000\n",
      "weighted avg       0.86      0.86      0.86     10000\n",
      "\n"
     ]
    }
   ],
   "source": [
    "print(classification_report(y_test,y_pred))"
   ]
  },
  {
   "cell_type": "code",
   "execution_count": null,
   "id": "629a4358-df5f-4010-b631-61316b8f7d31",
   "metadata": {},
   "outputs": [],
   "source": [
    "#https://itechindia.co/blog/which-of-the-3-algorithms-models-should-you-choose-for-sentiment-analysis-2/"
   ]
  },
  {
   "cell_type": "code",
   "execution_count": 164,
   "id": "b326d3aa-d43e-42e6-8acc-648152f89003",
   "metadata": {},
   "outputs": [
    {
     "data": {
      "text/plain": [
       "0.859699222053144"
      ]
     },
     "execution_count": 164,
     "metadata": {},
     "output_type": "execute_result"
    }
   ],
   "source": [
    "#Ref:https://www.justintodata.com/sentiment-analysis-with-deep-learning-lstm-keras-python/\n",
    "from sklearn.metrics import roc_auc_score\n",
    "from sklearn.metrics import f1_score\n",
    "\n",
    "auc_lstm = roc_auc_score(y_test, y_pred)\n",
    "auc_lstm"
   ]
  },
  {
   "cell_type": "code",
   "execution_count": 263,
   "id": "cceaf9f8-b404-43e7-a013-ce38dd9864d5",
   "metadata": {},
   "outputs": [],
   "source": [
    "\n",
    "def predict(path):\n",
    "    y_pred= []\n",
    "    loaded_model = load_model(path)\n",
    "    pred = loaded_model.predict(X_test)\n",
    "    \n",
    "    for i in pred:\n",
    "        if i>0.5:\n",
    "\n",
    "            y_pred.append(1)\n",
    "        else:\n",
    "            y_pred.append(0)\n",
    "    return y_pred\n",
    "        \n",
    "\n"
   ]
  },
  {
   "cell_type": "code",
   "execution_count": 252,
   "id": "58c92849-b891-4f84-a1cb-8e799414346c",
   "metadata": {},
   "outputs": [],
   "source": [
    "predict('models/LSTM1.h5')"
   ]
  },
  {
   "cell_type": "code",
   "execution_count": 253,
   "id": "62c65cdc-607d-4a1f-92f9-c268e9b7af0d",
   "metadata": {},
   "outputs": [
    {
     "data": {
      "text/plain": [
       "(10000, 10000)"
      ]
     },
     "execution_count": 253,
     "metadata": {},
     "output_type": "execute_result"
    }
   ],
   "source": [
    "len(y_test),len(y_pred)"
   ]
  },
  {
   "cell_type": "code",
   "execution_count": 254,
   "id": "3a3e418f-0277-4559-99aa-17035c48ce7d",
   "metadata": {},
   "outputs": [
    {
     "name": "stdout",
     "output_type": "stream",
     "text": [
      "              precision    recall  f1-score   support\n",
      "\n",
      "           0       0.87      0.83      0.85      4902\n",
      "           1       0.85      0.89      0.87      5098\n",
      "\n",
      "    accuracy                           0.86     10000\n",
      "   macro avg       0.86      0.86      0.86     10000\n",
      "weighted avg       0.86      0.86      0.86     10000\n",
      "\n"
     ]
    }
   ],
   "source": [
    "print(classification_report(y_test,y_pred))"
   ]
  },
  {
   "cell_type": "code",
   "execution_count": null,
   "id": "a4250f74-5d34-4436-ab6b-aa9866c36c8b",
   "metadata": {},
   "outputs": [],
   "source": [
    "#Go back and split the data again"
   ]
  },
  {
   "cell_type": "code",
   "execution_count": 257,
   "id": "23c1c525-c486-4ff0-bb5f-182929bd3775",
   "metadata": {},
   "outputs": [],
   "source": [
    "predict('models/LSTM2.h5')"
   ]
  },
  {
   "cell_type": "code",
   "execution_count": 258,
   "id": "cec346cf-ac11-430e-9c0e-f0e210b8f64c",
   "metadata": {},
   "outputs": [
    {
     "data": {
      "text/plain": [
       "(10000, 10000)"
      ]
     },
     "execution_count": 258,
     "metadata": {},
     "output_type": "execute_result"
    }
   ],
   "source": [
    "len(y_pred),len(y_test)"
   ]
  },
  {
   "cell_type": "code",
   "execution_count": 259,
   "id": "b881186b-8465-4b05-b06b-8723c5d74821",
   "metadata": {},
   "outputs": [
    {
     "name": "stdout",
     "output_type": "stream",
     "text": [
      "              precision    recall  f1-score   support\n",
      "\n",
      "           0       0.86      0.86      0.86      4902\n",
      "           1       0.86      0.87      0.86      5098\n",
      "\n",
      "    accuracy                           0.86     10000\n",
      "   macro avg       0.86      0.86      0.86     10000\n",
      "weighted avg       0.86      0.86      0.86     10000\n",
      "\n"
     ]
    }
   ],
   "source": [
    "print(classification_report(y_test,y_pred))"
   ]
  },
  {
   "cell_type": "code",
   "execution_count": 261,
   "id": "4ed7a04f-eca9-4d0d-9c1c-cc5581db4963",
   "metadata": {},
   "outputs": [
    {
     "name": "stdout",
     "output_type": "stream",
     "text": [
      "              precision    recall  f1-score   support\n",
      "\n",
      "           0       0.88      0.84      0.86      4902\n",
      "           1       0.85      0.89      0.87      5098\n",
      "\n",
      "    accuracy                           0.86     10000\n",
      "   macro avg       0.87      0.86      0.86     10000\n",
      "weighted avg       0.86      0.86      0.86     10000\n",
      "\n"
     ]
    }
   ],
   "source": [
    "predict('models/LSTM3.h5')\n",
    "len(y_pred),len(y_test)\n",
    "print(classification_report(y_test,y_pred))\n"
   ]
  },
  {
   "cell_type": "code",
   "execution_count": 264,
   "id": "0e4f74d3-2080-436e-a634-6009f6a6538f",
   "metadata": {},
   "outputs": [
    {
     "name": "stdout",
     "output_type": "stream",
     "text": [
      "              precision    recall  f1-score   support\n",
      "\n",
      "           0       0.88      0.84      0.86      4902\n",
      "           1       0.85      0.89      0.87      5098\n",
      "\n",
      "    accuracy                           0.86     10000\n",
      "   macro avg       0.87      0.86      0.86     10000\n",
      "weighted avg       0.86      0.86      0.86     10000\n",
      "\n"
     ]
    }
   ],
   "source": [
    "predict('models/LSTM4.h5')\n",
    "len(y_pred),len(y_test)\n",
    "print(classification_report(y_test,y_pred))"
   ]
  },
  {
   "cell_type": "code",
   "execution_count": null,
   "id": "503c1639-7a56-4dd1-8f80-e1a3c89bdb89",
   "metadata": {},
   "outputs": [],
   "source": []
  },
  {
   "cell_type": "code",
   "execution_count": null,
   "id": "acb4579d-72c0-4a0f-8487-13aa6f6415c3",
   "metadata": {},
   "outputs": [],
   "source": [
    "loaded_model = load_model(path)\n",
    "    pred = loaded_model.predict(X_test)\n",
    "    \n",
    "    for i in pred:\n",
    "        if i>0.5:\n",
    "\n",
    "            y_pred.append(1)\n",
    "        else:\n",
    "            y_pred.append(0)"
   ]
  },
  {
   "cell_type": "code",
   "execution_count": null,
   "id": "728486b7-d260-49bb-9147-63b1806b4625",
   "metadata": {},
   "outputs": [],
   "source": [
    "print(classification_report(y_test,y_pred))"
   ]
  },
  {
   "cell_type": "code",
   "execution_count": null,
   "id": "76df492b-74dc-4100-b739-79a1ad672e56",
   "metadata": {},
   "outputs": [],
   "source": [
    "predict('models/LSTM3.h5')"
   ]
  },
  {
   "cell_type": "code",
   "execution_count": 266,
   "id": "d0484a84-69dc-4a38-8ece-a6e4d5203324",
   "metadata": {},
   "outputs": [
    {
     "data": {
      "text/plain": [
       "0.8639243651841293"
      ]
     },
     "execution_count": 266,
     "metadata": {},
     "output_type": "execute_result"
    }
   ],
   "source": [
    "from sklearn.metrics import roc_auc_score\n",
    "from sklearn.metrics import f1_score\n",
    "\n",
    "auc_lstm = roc_auc_score(y_test, y_pred)\n",
    "auc_lstm"
   ]
  },
  {
   "cell_type": "code",
   "execution_count": 274,
   "id": "48f97195-d3cd-4e7e-9c48-4ef58f33f11a",
   "metadata": {},
   "outputs": [],
   "source": [
    "y_test_pred = loaded_model.predict(X_test)\n",
    "y_test_pred = y_test_pred.reshape(y_test_pred.shape[0],)"
   ]
  },
  {
   "cell_type": "code",
   "execution_count": 275,
   "id": "e41854de-734f-4ddb-9b6d-c60c03c05f85",
   "metadata": {},
   "outputs": [],
   "source": [
    "#We can also visualize the classifications.\n",
    "\n",
    "    \n",
    "df_pred = pd.DataFrame(data={'y_actual': y_test, 'y_pred': y_test_pred})"
   ]
  },
  {
   "cell_type": "code",
   "execution_count": 276,
   "id": "dfed96fc-ee47-427d-a30d-9de3c53c3c3a",
   "metadata": {},
   "outputs": [
    {
     "data": {
      "text/plain": [
       "<matplotlib.legend.Legend at 0x192f12a9070>"
      ]
     },
     "execution_count": 276,
     "metadata": {},
     "output_type": "execute_result"
    },
    {
     "data": {
      "image/png": "[encoded data removed]",
      "text/plain": [
       "<Figure size 1152x432 with 1 Axes>"
      ]
     },
     "metadata": {
      "needs_background": "light"
     },
     "output_type": "display_data"
    }
   ],
   "source": [
    "import seaborn as sns\n",
    "import matplotlib.pyplot as plt\n",
    "\n",
    "plt.figure(figsize=(16, 6))\n",
    "\n",
    "msk = df_pred['y_actual'] == 0\n",
    "sns.distplot(df_pred.loc[msk, 'y_pred'], label='negative reviews', kde=False)\n",
    "sns.distplot(df_pred.loc[~msk, 'y_pred'], label='positive reviews', kde=False)\n",
    "plt.legend()"
   ]
  },
  {
   "cell_type": "code",
   "execution_count": 277,
   "id": "29975966-1108-4318-a7de-2676d0e5f861",
   "metadata": {},
   "outputs": [],
   "source": [
    "#We can see that the majority of positive reviews (orange) has y_pred value closer to 1;\n",
    "#and most of the negative reviews (blue) has y_pred closer to 0."
   ]
  },
  {
   "cell_type": "code",
   "execution_count": null,
   "id": "a2fa116d-c513-449d-9905-75fe20da06dc",
   "metadata": {},
   "outputs": [],
   "source": [
    "#https://towardsdatascience.com/machine-learning-classifier-evaluation-using-roc-and-cap-curves-7db60fe6b716"
   ]
  },
  {
   "cell_type": "code",
   "execution_count": 279,
   "id": "8c04a640-efe3-40ea-8ed2-0cd04012f084",
   "metadata": {},
   "outputs": [
    {
     "data": {
      "text/plain": [
       "[<matplotlib.lines.Line2D at 0x192c818ddc0>]"
      ]
     },
     "execution_count": 279,
     "metadata": {},
     "output_type": "execute_result"
    },
    {
     "data": {
      "image/png": "[encoded data removed]",
      "text/plain": [
       "<Figure size 1440x864 with 1 Axes>"
      ]
     },
     "metadata": {
      "needs_background": "light"
     },
     "output_type": "display_data"
    }
   ],
   "source": [
    "\n",
    "from sklearn.metrics import roc_curve, auc\n",
    "\n",
    "plt.figure(figsize = (20, 12))\n",
    "plt.plot([0,1], [0,1], 'r--')"
   ]
  },
  {
   "cell_type": "code",
   "execution_count": null,
   "id": "87b42efe-d35a-4501-8e1b-6b5ecd8fb2f4",
   "metadata": {},
   "outputs": [],
   "source": [
    "#The value r-- indicates that the colour of the line is red and it is a dashed line ( — — — — — — — — — — — — — )."
   ]
  },
  {
   "cell_type": "code",
   "execution_count": 282,
   "id": "989feef2-341f-4845-ba60-2d3421da3e65",
   "metadata": {},
   "outputs": [],
   "source": [
    "probs = loaded_model.predict(X_test)\n",
    "# Reading probability of second class (Salary >= $200K)\n",
    "probs = probs[:, 0]\n",
    "fpr, tpr, thresholds = roc_curve(y_test, probs)\n",
    "roc_auc = auc(fpr, tpr)"
   ]
  },
  {
   "cell_type": "code",
   "execution_count": 287,
   "id": "30f10e01-f7c7-45de-9301-2f56a8b9be8e",
   "metadata": {},
   "outputs": [
    {
     "data": {
      "text/plain": [
       "<matplotlib.legend.Legend at 0x1928dfae6d0>"
      ]
     },
     "execution_count": 287,
     "metadata": {},
     "output_type": "execute_result"
    },
    {
     "data": {
      "image/png": "[encoded data removed]",
      "text/plain": [
       "<Figure size 432x288 with 1 Axes>"
      ]
     },
     "metadata": {
      "needs_background": "light"
     },
     "output_type": "display_data"
    }
   ],
   "source": [
    "label = 'LSTM Classifier AUC:' + ' {0:.2f}'.format(roc_auc)\n",
    "plt.plot(fpr, tpr, c = 'b', label = label, linewidth = 2)\n",
    "plt.xlabel('False Positive Rate', fontsize = 12)\n",
    "plt.ylabel('True Positive Rate', fontsize = 12)\n",
    "plt.title('Receiver Operating Characteristic', fontsize = 12)\n",
    "plt.legend(loc = 'lower right', fontsize = 12)"
   ]
  },
  {
   "cell_type": "code",
   "execution_count": null,
   "id": "8a55c648-c56d-4dda-b2e0-6fe542c9a296",
   "metadata": {},
   "outputs": [],
   "source": [
    "#The area under curve is 0.93 which is really amazing and provides the information that our model is performing great."
   ]
  }
 ],
 "metadata": {
  "kernelspec": {
   "display_name": "Python 3 (ipykernel)",
   "language": "python",
   "name": "python3"
  },
  "language_info": {
   "codemirror_mode": {
    "name": "ipython",
    "version": 3
   },
   "file_extension": ".py",
   "mimetype": "text/x-python",
   "name": "python",
   "nbconvert_exporter": "python",
   "pygments_lexer": "ipython3",
   "version": "3.8.5"
  }
 },
 "nbformat": 4,
 "nbformat_minor": 5
}
